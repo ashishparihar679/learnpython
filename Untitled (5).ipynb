{
 "cells": [
  {
   "cell_type": "code",
   "execution_count": 1,
   "id": "e7f0997f-def9-4b84-a5fc-4d0c24fdcb50",
   "metadata": {
    "scrolled": true
   },
   "outputs": [
    {
     "name": "stdout",
     "output_type": "stream",
     "text": [
      "1\n"
     ]
    }
   ],
   "source": [
    "#ARTHMATIC OPERATOR\n",
    "a=17\n",
    "b=9\n",
    "print(a&b)"
   ]
  },
  {
   "cell_type": "code",
   "execution_count": 2,
   "id": "f2577e83-fa57-4bfe-afe5-12ae307cbe46",
   "metadata": {},
   "outputs": [
    {
     "name": "stdout",
     "output_type": "stream",
     "text": [
      "17\n"
     ]
    }
   ],
   "source": [
    "#ARTHMATIC OPERATOR\n",
    "a=17\n",
    "b=9\n",
    "print(a or b)"
   ]
  },
  {
   "cell_type": "code",
   "execution_count": 3,
   "id": "64b3536c-1f0c-4c18-9bed-40c670918d78",
   "metadata": {},
   "outputs": [],
   "source": [
    "#VARIABLE IS A NAME WHICH POINTS THE OBJECT"
   ]
  },
  {
   "cell_type": "code",
   "execution_count": 4,
   "id": "360673ca-5de5-4020-88b3-5fdba31a5563",
   "metadata": {},
   "outputs": [
    {
     "name": "stdout",
     "output_type": "stream",
     "text": [
      "ADD 26\n",
      "SUB 8\n",
      "MULTIPLY 153\n",
      "DIVISION 1.8888888888888888\n",
      "FLOOR DIVISION 1\n",
      "POWER 118587876497\n",
      "MOD 8\n"
     ]
    }
   ],
   "source": [
    "#ARTHMATIC OPERATOR\n",
    "a=17\n",
    "b=9\n",
    "print(\"ADD\",a+b)\n",
    "print(\"SUB\",a-b)\n",
    "print(\"MULTIPLY\",a*b)\n",
    "print(\"DIVISION\",a/b)\n",
    "print(\"FLOOR DIVISION\",a//b)\n",
    "print(\"POWER\",a**b)\n",
    "print(\"MOD\",a%b)\n"
   ]
  },
  {
   "cell_type": "code",
   "execution_count": 5,
   "id": "5fffa36f-b80c-44dc-905a-586333ede219",
   "metadata": {},
   "outputs": [
    {
     "name": "stdout",
     "output_type": "stream",
     "text": [
      "18\n"
     ]
    }
   ],
   "source": [
    "#ASSIGNMENT OPERATOR\n",
    "a=8\n",
    "a+=10\n",
    "print(a)"
   ]
  },
  {
   "cell_type": "code",
   "execution_count": 6,
   "id": "dcf2e09a-74c7-4819-9a45-70941457eec2",
   "metadata": {},
   "outputs": [
    {
     "name": "stdout",
     "output_type": "stream",
     "text": [
      "equality False\n"
     ]
    }
   ],
   "source": [
    "#CONDITIONAL OPERATOR\n",
    "# ==,!=,>=,<=,>,<\n",
    "a=10\n",
    "b=8\n",
    "print(\"equality\",a==b)"
   ]
  },
  {
   "cell_type": "code",
   "execution_count": 7,
   "id": "ee01e936-1ac8-415b-ab00-3f438dc6874d",
   "metadata": {},
   "outputs": [],
   "source": [
    "#LOGICAL OPERATOR\n",
    "# AND ,OR,XOR,NOT\n"
   ]
  },
  {
   "cell_type": "code",
   "execution_count": 8,
   "id": "12cc531f-4a12-4c35-bc22-4b76b9b1b4c6",
   "metadata": {},
   "outputs": [
    {
     "name": "stdout",
     "output_type": "stream",
     "text": [
      "True\n"
     ]
    }
   ],
   "source": [
    "#IDENTITY OPERATOR \n",
    "#IS ,IS NOT\n",
    "# IT COMPARES THE ADDRESS OF TWO VARIABLE/ OBJECT\n",
    "a=9\n",
    "b=9\n",
    "print(a is b)"
   ]
  },
  {
   "cell_type": "code",
   "execution_count": 9,
   "id": "33e14690-507e-4964-9a4b-63a4086eceef",
   "metadata": {},
   "outputs": [
    {
     "name": "stdout",
     "output_type": "stream",
     "text": [
      "True\n",
      "False\n"
     ]
    }
   ],
   "source": [
    "#MEMBERSHIP OPERATOR\n",
    "a=\"cybrom\"\n",
    "print(\"c\" in a)\n",
    "print(\"c\"  not in a)\n",
    "\n"
   ]
  },
  {
   "cell_type": "code",
   "execution_count": 13,
   "id": "8f9676ba-65fc-4028-8c5b-a9a6e3ff0522",
   "metadata": {},
   "outputs": [
    {
     "name": "stdout",
     "output_type": "stream",
     "text": [
      "0b1010\n",
      "0b1000\n",
      "0b1000\n",
      "bitwise and : 8\n",
      "bitwise or : 10\n",
      "bitwise xor : 2\n"
     ]
    }
   ],
   "source": [
    "#BITWISE OPERATOR\n",
    "#AND(&),OR(|),OR(^)\n",
    "a=10\n",
    "b=8\n",
    "print(bin(a))\n",
    "print(bin(b))\n",
    "print(bin(a&b))\n",
    "print(\"bitwise and :\" ,a&b)\n",
    "print(\"bitwise or :\" ,a|b)\n",
    "print(\"bitwise xor :\" ,a^b)\n"
   ]
  },
  {
   "cell_type": "code",
   "execution_count": null,
   "id": "133c2791-d231-4810-914a-76db89e9889d",
   "metadata": {},
   "outputs": [],
   "source": [
    "a=int(input(\"enter any number:\"))\n",
    "b=int(input(\"enter any number:\"))\n",
    "print(a+b)"
   ]
  },
  {
   "cell_type": "markdown",
   "id": "e045e89f-2eb0-44e7-b3c3-4afeff5fb043",
   "metadata": {},
   "source": [
    "s=\"cybrom\" #STRING IS UNMUTABLE DATA TYPE ,INDEING AND ODERED BUT UNMUITABLE\n",
    "print(s)\n",
    "print(type(s))\n",
    "c=''' multi line \n",
    "comment id different from multiline \n",
    "sting'''\n",
    "\n",
    "print(c)"
   ]
  },
  {
   "cell_type": "code",
   "execution_count": null,
   "id": "9274041f-2cde-4ca5-bace-ee5c04e33376",
   "metadata": {},
   "outputs": [],
   "source": [
    "#OPERATORS\n",
    "\n",
    "\n",
    "#LIST- COLLECTION OF ELEMENT []\n",
    "#COMMA, SEPRATED VALUE*\n",
    "l=[10,10.5,\"hello\"]\n",
    "print(l)\n",
    "print(type(l))\n",
    "l.append(\"bcds\") \n",
    "print(l)\n"
   ]
  },
  {
   "cell_type": "code",
   "execution_count": null,
   "id": "6041aaf3-c4e7-4eda-a60c-d2cc126bccb5",
   "metadata": {},
   "outputs": [],
   "source": [
    "#TUPLE- COLLECTION OF ELEMENT\n",
    "#IDENTIFIED BY PARANTHISES() WITH COMMA , SEPRATED VALUES\n",
    "#HETROGENOUS NATURE, INDEXED AND IMMUTUBALE\n",
    "t=(10,0)# this is known as single value tuple\n",
    "tu=(10,20.5,100,\"cybrom\")\n",
    "print(t)\n",
    "print(type(t))\n",
    "print(tu)\n",
    "print(type(tu))\n",
    "print(tu[1])\n",
    "print(tu[3][3])"
   ]
  },
  {
   "cell_type": "code",
   "execution_count": null,
   "id": "aa9eff14-e349-4da4-9e8d-8a6336df0700",
   "metadata": {},
   "outputs": [],
   "source": [
    "#DICTIONARY-ORDERED COLLECTION OF ELEMENT.\n",
    "#DENOTED BY{} WITH KEY:VALUE PAIR\n",
    "#UNINDEXED,HETROGENOUS,MUTUABLE\n",
    "d={\"name\":\"amit\",\"subject\":\"python\",\"batch\":\"da/ds26\"}\n",
    "print(d)\n"
   ]
  },
  {
   "cell_type": "code",
   "execution_count": null,
   "id": "2496a4e9-49c1-4a6c-8078-c00da8f143bd",
   "metadata": {},
   "outputs": [],
   "source": [
    "di={\"name\":[\"amit\",\"karan\",\"deepesh\"],\"subject\":[\"python\",\"sql\",],\"batch\":[\"da/ds26\",\"da/ds24\"]}\n",
    "print(di)\n",
    "print(di[\"batch\"])\n",
    "print(di[\"subject\"][1])\n",
    "di[\"fees\"]=100000\n",
    "print(di)"
   ]
  },
  {
   "cell_type": "code",
   "execution_count": null,
   "id": "ddb15417-ac62-4142-99c9-0a0eeed91320",
   "metadata": {},
   "outputs": [],
   "source": [
    "#set- Collection of element \n",
    "# denoted by curly brsces{} with comma seprated value \n",
    "#unindexed ,unodered,mutuable and hetrogeneous\n",
    "s={10,10.5,\"hello\",\"cybrom\"}\n",
    "print(s)\n",
    "s.add(\"ajjj\")\n",
    "print(s)"
   ]
  },
  {
   "cell_type": "code",
   "execution_count": null,
   "id": "aea9e074-315c-4358-91e8-426f37f3b0f9",
   "metadata": {},
   "outputs": [],
   "source": [
    "#CONSTRUCTOR---SET()\n"
   ]
  },
  {
   "cell_type": "code",
   "execution_count": null,
   "id": "27444e99-7b50-4e44-8aa8-e58132639aba",
   "metadata": {},
   "outputs": [],
   "source": [
    "#CONTROL FLOW STATEMENT\n",
    "a=int(input(\"enter any number:\" ))\n",
    "if a%2==0:\n",
    "    print(\"even number\")\n",
    "else:\n",
    " print(\"odd number\")\n"
   ]
  },
  {
   "cell_type": "code",
   "execution_count": null,
   "id": "c5d1f5e9-8a4d-4493-ac0f-c4dcbdaed56b",
   "metadata": {},
   "outputs": [],
   "source": [
    "#WAP TO PROINT WEARHER A USER ELIGIBLE TO VOTE OR NOT \n",
    "age=int(input(\"enter your age:\"))\n",
    "if age>=18:\n",
    "    print(\"you are eligible to vote\")\n",
    "else:\n",
    "    print(\"you are not eligible\")\n",
    "        "
   ]
  },
  {
   "cell_type": "code",
   "execution_count": null,
   "id": "a97b0e96-b66e-4e19-9f75-31776c7b6da7",
   "metadata": {},
   "outputs": [],
   "source": [
    "#WAP TO PRINT WEATHER A LAST DIGIT OF ANY NUMBER IS DIVISIBLE BY 3 OR NOT\n",
    "no=int(input(\"enter any number:\"))\n",
    "lastd=no%10\n",
    "print(lastd)\n",
    "if lastd==0:\n",
    "    print(\"no is divisible by 3 \")\n",
    "else:\n",
    "    print(\"not divisible by 3\")"
   ]
  },
  {
   "cell_type": "code",
   "execution_count": null,
   "id": "dfe78ca0-526b-457b-b777-16ed8bc6cf85",
   "metadata": {},
   "outputs": [],
   "source": [
    "#WAP TO FIND THE LARGEST NO AMAONG THREE NUMBERS\n",
    "a=int(input(\"Enter First Number:\"))\n",
    "b=int(input(\"Enter Second Number:\"))\n",
    "c=int(input(\"Enter Third Number:\"))\n",
    "if a>b and a>c:\n",
    "    print(\"First Number is Greatest\",a)\n",
    "elif b>a and b>c:\n",
    "    print(\"Second Number is Greatest\",b)\n",
    "else :\n",
    "    print(\"Third Number is Greatest\",c)"
   ]
  },
  {
   "cell_type": "code",
   "execution_count": null,
   "id": "abba78c1-6ad8-4ce3-82d0-e0bad4534119",
   "metadata": {},
   "outputs": [],
   "source": [
    "a=int(input(\"Enter First Number:\"))\n",
    "b=int(input(\"Enter Second Number:\"))\n",
    "c=int(input(\"Enter Third Number:\"))\n",
    "if a>b and a>c:\n",
    "    Largest=a\n",
    "elif b>a and b>c:\n",
    "    Largest=b\n",
    "else :\n",
    "    Largest=c\n",
    "print(\"largest Number is :\",Largest)"
   ]
  },
  {
   "cell_type": "code",
   "execution_count": null,
   "id": "5e3a99e2-ecae-40d3-a8f9-89040584d74b",
   "metadata": {},
   "outputs": [],
   "source": [
    "#WAP TO FIND A TOTAL PERCENTAGE AND DIVISION ACCORDING TO PERCENTAGE \n",
    "MATHS=int(input(\"Enter MARKS OUT OF HUNDRED:\"))\n",
    "SCIENCE=int(input(\"Enter MARKS OUT OF HUNDRED:\"))\n",
    "HINDI=int(input(\"Enter MARKS OUT OF HUNDRED::\"))\n",
    "ENGLISH=int(input(\"Enter MARKS OUT OF HUNDRED:\"))\n",
    "SOCIAL_SCIENCE=int(input(\"Enter MARKS OUT OF HUNDRED:\"))\n",
    "\n",
    "PERCENT= (MATHS+SCIENCE+HINDI+ENGLISH+SOCIAL_SCIENCE)*100/500\n",
    "print(\"your percentage is :\",PERCENT,\"%\")\n",
    "if PERCENT>=65:\n",
    "    division=\"A\"\n",
    "    print(\"your are passed in:\",division)\n",
    "elif PERCENT>=50:\n",
    "    division=\"B\"\n",
    "    print(\"your are passed in:\",division)\n",
    "elif PERCENT>=33:\n",
    "    division=\"C\"\n",
    "    print(\"your are passed in:\",division)\n",
    "else:\n",
    "    print(\" your are failed\")\n",
    "\n",
    "    \n"
   ]
  },
  {
   "cell_type": "code",
   "execution_count": null,
   "id": "8ba804a8-4f36-4cee-861c-d25cd8ca907e",
   "metadata": {},
   "outputs": [],
   "source": [
    "#WAP to find weather a year is a leap year or not\n",
    "year=int(input(\"Enter any Year: \"))\n",
    "if year%4==0:\n",
    "    if year%100==0:\n",
    "        if year%400==0:\n",
    "            print(year,\"year is a leap year\")\n",
    "        else:\n",
    "            print(year,\"not a leap year\")\n",
    "    else:\n",
    "        print(year,\"leap year\")\n",
    "else:\n",
    "    print(year,\"not a leap year\")\n",
    "            "
   ]
  },
  {
   "cell_type": "code",
   "execution_count": null,
   "id": "b1621315-46bc-4e9f-a834-97ca279134b2",
   "metadata": {},
   "outputs": [],
   "source": [
    "#WAP TO CHECK NO IF ITS NEGETIVE POSITIVE OR ZERO AND IF ITS POSITIVE CHECK WHES=ATHER ITS ODD OR EVEN\n",
    "a=int(input(\"enter a no :\"))\n",
    "if a<0:\n",
    "    print(\"number is negetive\",a)\n",
    "elif a==0:\n",
    "    print(\"number is zero\",a)\n",
    "else:\n",
    "    print(\"number is positive\")\n",
    "    if (a%2==0):\n",
    "        print(\"number is even\")\n",
    "    else:\n",
    "        print(\"number is odd\")"
   ]
  },
  {
   "cell_type": "code",
   "execution_count": null,
   "id": "0f9c1c08-1cd6-481e-9364-0c14bad688be",
   "metadata": {},
   "outputs": [],
   "source": [
    "'''WAP to find discount and final selling price Of article\n",
    "if MRP is greater to 1000 then discount will be 10% \n",
    "and if mrp is less than 1000 then discount is 5% '''\n",
    "\n",
    "mrp=int(input(\" enter mrp\"))\n",
    "if mrp>=1000:\n",
    "    discount=mrp*10/100\n",
    "    print(\"discount is 10%:\",discount)\n",
    "    s_price=mrp-discount\n",
    "    print(\"final selling price\",s_price)\n",
    "else:\n",
    "    print(\"discount is 5%\")\n",
    "    discount=mrp*5/100\n",
    "    s_price=mrp-discount\n",
    "    print(\"final selling price\",s_price)\n",
    "    \n",
    "    \n",
    "    \n",
    "\n",
    "a=int(input(\"enter any no.\"))\n",
    "if(a>0):\n",
    "    print(\"no. is positive\",a)\n",
    "    if(a%2==0):\n",
    "        print(\"no. is even\")\n",
    "    else:\n",
    "        print(\"no. is odd\")\n",
    "    \n",
    "elif(a<0):\n",
    "    print(\"no. is negative\",a)\n",
    "else:\n",
    "    print(\"no. is zero\")\n",
    "    \n",
    "    "
   ]
  },
  {
   "cell_type": "code",
   "execution_count": null,
   "id": "b5158b81-5df1-4bae-a3a8-cddf05a67e67",
   "metadata": {},
   "outputs": [],
   "source": [
    "cp=int(input(\"enter costprice\"))\n",
    "if cp>=1000:\n",
    "    d=cp*10/100\n",
    "    sp=cp-d\n",
    "    print(\"discount is 10%\",d)\n",
    "    print(\"selling price is \",sp)\n",
    "else:\n",
    "     d=cp*5/100\n",
    "     sp=cp-d\n",
    "     print(\"discount is 5%\",d)\n",
    "     print(\"selling price is \",sp)\n",
    "    \n",
    "    \n",
    "    "
   ]
  },
  {
   "cell_type": "code",
   "execution_count": null,
   "id": "cfd8293b-e7e9-472d-a04c-08f54ec11f22",
   "metadata": {},
   "outputs": [],
   "source": [
    "#wap to fund withdrawl and to show case avilable fund \n",
    "acc_bal=float(input(\"enter available balance:\"))\n",
    "w_amt=float(input(\"enter amount to withdraw:\"))\n",
    "if (w_amt<=acc_bal):\n",
    "            print(\"transation done\")\n",
    "            a_bal=acc_bal-w_amt\n",
    "            print(\"available balance is \",a_bal)\n",
    "else:\n",
    "  print(\"insufficient  fund \")"
   ]
  },
  {
   "cell_type": "code",
   "execution_count": null,
   "id": "aec3b851-7aa5-41c8-92b8-97516c5fcd10",
   "metadata": {},
   "outputs": [],
   "source": [
    "'''wap to determine the type of trinange based on the lengths of its side the types are \n",
    "if \n",
    "all sides are equal = equlateral triangle\n",
    "isosceles triangle= two sides are equal\n",
    "scalene triangle = all side are different'''\n",
    "\n",
    "s1=int(input(\"enter length of 1st side:\"))\n",
    "\n",
    "s2=int(input(\"enter length of 2st side:\"))\n",
    "\n",
    "s3=int(input(\"enter length of 3st side:\"))\n",
    "if s1+s2>s3 or s2+s3>s1 or s3+s1>s2:            #TO CHECK WEATHER ITS A TRIANGLE OF NOT  \n",
    "    if (s1==s2 and s1==s3):                     \n",
    "     print(\"equlateral tiangle\")\n",
    "    elif (s1==s2 or s2==s3 or s3==s1):\n",
    "     print(\"isolsceles triangle\")\n",
    "    else:\n",
    "     print(\"scalene triangle \")\n",
    "else:\n",
    " print(\"invalid triangle\")\n",
    "     \n",
    "    \n",
    "\n"
   ]
  },
  {
   "cell_type": "code",
   "execution_count": null,
   "id": "9f0a6323-a335-478b-bc16-fb792fa4dc3c",
   "metadata": {},
   "outputs": [],
   "source": [
    "#RANGE FUNCTION USE IN  FOR LOOP\n",
    "for i in range(1,5,1):\n",
    "    print(i)"
   ]
  },
  {
   "cell_type": "code",
   "execution_count": null,
   "id": "7ece8e16-a8f9-4a20-9b12-3434cad3361e",
   "metadata": {},
   "outputs": [],
   "source": [
    "for i in range(5): #by defaut it takes strat from 0 and step as +1\n",
    "    print(i)      # giving end point is a must condition without end it will thriugh an error."
   ]
  },
  {
   "cell_type": "code",
   "execution_count": null,
   "id": "c46d138c-1f62-4d1d-b6ca-7ced6cdcd4a0",
   "metadata": {},
   "outputs": [],
   "source": [
    "n=20\n",
    "for i in range(n,-5,-2): \n",
    "    print(i,end=\" \")"
   ]
  },
  {
   "cell_type": "code",
   "execution_count": 1,
   "id": "28d1ab46-8fb5-4d33-a28c-4eba53139fca",
   "metadata": {},
   "outputs": [
    {
     "name": "stdout",
     "output_type": "stream",
     "text": [
      "1 2 3 4 5 6 7 8 9 10 "
     ]
    }
   ],
   "source": [
    "#WAP TO PRINT FIRST 10 NATURAL NO (IN A SINGLE LINE)\n",
    "n=10\n",
    "for i in range(1,n+1):\n",
    "    print(i,end=\" \")"
   ]
  },
  {
   "cell_type": "code",
   "execution_count": 3,
   "id": "61683542-0308-480c-9c98-cf7f93c591a5",
   "metadata": {},
   "outputs": [
    {
     "name": "stdout",
     "output_type": "stream",
     "text": [
      "0 1 2 3 4 5 6 7 8 9 "
     ]
    }
   ],
   "source": [
    "#wap TO PRINT FIRST 10 WHOLE NO \n",
    "n=10\n",
    "for i in range(0,n,1):\n",
    "    print(i,end=\" \")"
   ]
  },
  {
   "cell_type": "code",
   "execution_count": 5,
   "id": "0c435c5f-2ff6-4a26-834c-8f1238f19424",
   "metadata": {},
   "outputs": [
    {
     "name": "stdout",
     "output_type": "stream",
     "text": [
      "1 odd no ,2 even no ,3 odd no ,4 even no ,5 odd no ,6 even no ,7 odd no ,8 even no ,9 odd no ,10 even no ,11 odd no ,12 even no ,13 odd no ,14 even no ,15 odd no ,16 even no ,17 odd no ,18 even no ,19 odd no ,20 even no ,"
     ]
    }
   ],
   "source": [
    "#wap to PRINT FIRST 10 EVEN AND 10 ODD NO\n",
    "for i in range(1,21,1):\n",
    "    if i%2==0:\n",
    "        print(i,\"even no\",end=\" ,\")\n",
    "    else:\n",
    "        print(i,\"odd no \",end=\",\")"
   ]
  },
  {
   "cell_type": "code",
   "execution_count": 7,
   "id": "278bd043-78fd-4e59-9d47-3d40cd14c2ea",
   "metadata": {},
   "outputs": [
    {
     "name": "stdout",
     "output_type": "stream",
     "text": [
      "enter the no you want to print: 10\n"
     ]
    },
    {
     "name": "stdout",
     "output_type": "stream",
     "text": [
      "1,2,3,4,5,6,7,8,9,10,"
     ]
    }
   ],
   "source": [
    "#wap to print first n natural no\n",
    "n=int(input(\"enter the no you want to print:\"))\n",
    "for i in range(1,n+1):\n",
    "    print(i,end=\",\")"
   ]
  },
  {
   "cell_type": "code",
   "execution_count": null,
   "id": "213d1497-6754-4b42-bf8f-0c228564449d",
   "metadata": {},
   "outputs": [],
   "source": [
    "#WAP TO PRINT SUM OF FIRST N NATURAL NUMBER\n",
    "n=int(input(\"enter any number\"))\n",
    "sum=0\n",
    "for i in range(1,n+1):\n",
    "    sum=sum+i\n",
    "print(\"sum=\",sum)\n"
   ]
  },
  {
   "cell_type": "code",
   "execution_count": null,
   "id": "784b604b-fdc1-42d1-ba30-1e08f6fec958",
   "metadata": {},
   "outputs": [
    {
     "name": "stdout",
     "output_type": "stream",
     "text": [
      "multiplication= 120\n"
     ]
    }
   ],
   "source": [
    "#multiplication of n natural no \n",
    "n=int(input(\"enter any number\"))\n",
    "mult=1\n",
    "for i in range(1,n+1):\n",
    "    mult=mult*i\n",
    "print(\"multiplication=\",mult)"
   ]
  },
  {
   "cell_type": "code",
   "execution_count": null,
   "id": "50b7018f-7232-4f6d-8707-c5007617004f",
   "metadata": {},
   "outputs": [],
   "source": [
    "#wap to print sum of first n even and odd no\n",
    "n=int(input(\"enter any no\"))\n",
    "sum_e=0\n",
    "sum_o=0\n",
    "for i in range(1,n+1):\n",
    "    if i%2==0:\n",
    "        sum_e=sum_e+i\n",
    "    else:\n",
    "        sum_o=sum_o+i\n",
    "\n",
    "print(\"sum of even no\",sum_e)\n",
    "print(\"sum of odd no\",sum_o)"
   ]
  },
  {
   "cell_type": "code",
   "execution_count": null,
   "id": "fa5f0e1b-0bca-48a0-a222-9d531e106d65",
   "metadata": {},
   "outputs": [],
   "source": [
    "#wap to print sum of first n even and odd no with count\n",
    "n=int(input(\"enter any no\"))\n",
    "sum_e=0\n",
    "sum_o=0\n",
    "count_e=0\n",
    "count_o=0\n",
    "for i in range(1,n+1):\n",
    "    if i%2==0:\n",
    "        sum_e=sum_e+i\n",
    "        count_e=count_e+1\n",
    "    else:\n",
    "        sum_o=sum_o+i\n",
    "        count_o=count_o+1\n",
    "print(\"count of even no\",count_e)\n",
    "print(\"sum of even no\",sum_e)\n",
    "print(\"count of odd no\",count_o)\n",
    "print(\"sum of odd no\",sum_o)"
   ]
  },
  {
   "cell_type": "code",
   "execution_count": null,
   "id": "9febe719-79bf-4993-9769-3384554148b2",
   "metadata": {},
   "outputs": [],
   "source": [
    "#WAP TO PRINT FACTORIAL OF GIVEN NO?\n",
    "n=int(input(\"enter any  no\"))\n",
    "fact=1\n",
    "for i in range(1,n+1):\n",
    "    fact=fact*i\n",
    "print(\"fact of\",n,\"is\",fact)\n",
    "    \n",
    "\n",
    "\n"
   ]
  },
  {
   "cell_type": "code",
   "execution_count": null,
   "id": "c1828993-4670-406e-9a01-4d5ecbde5d98",
   "metadata": {},
   "outputs": [],
   "source": [
    "#WAP TO PRINT FACTORIAL OF GIVEN NO with help of negetive steping.\n",
    "n=int(input(\"enter any  no\"))\n",
    "fact=1\n",
    "for i in range(n,0,-1):\n",
    "    fact=fact*i\n",
    "print(\"fact of\",n,\"is\",fact)"
   ]
  },
  {
   "cell_type": "code",
   "execution_count": null,
   "id": "199f3a25-e968-424a-a8bc-60a2a25757ef",
   "metadata": {},
   "outputs": [],
   "source": [
    "#fibonacci series\n",
    "#every term is a sum of last two no\n",
    "a=0\n",
    "b=1\n",
    "n=int(input(\"enter any no:\")) \n",
    "print(a,b,end=\" \")\n",
    "for i in range(2,n):\n",
    "      c=a+b\n",
    "      print(c,end=\" \")\n",
    "      a=b\n",
    "      b=c"
   ]
  },
  {
   "cell_type": "code",
   "execution_count": null,
   "id": "52049e8e-5373-4e82-8260-43afdb009345",
   "metadata": {
    "scrolled": true
   },
   "outputs": [],
   "source": [
    "#WAP TO PRINT FACTORIAL OF 7\n",
    "n=int(input(\"enter any  no\"))\n",
    "fact=1\n",
    "for i in range(n,0,-1):\n",
    "    fact=fact*i\n",
    "print(\"fact of\",n,\"is\",fact)\n",
    "    "
   ]
  },
  {
   "cell_type": "code",
   "execution_count": null,
   "id": "fbc8335f-6aba-4b02-9eb0-1c23e05f62cb",
   "metadata": {},
   "outputs": [],
   "source": [
    "#wap to check weather a no is prime or not\n",
    "n=int(input(\"enter any number:\"))\n",
    "if n==0 or n==1:                      # as we know 0 and 1 cant be a prime no\n",
    "    print(n,\"not a prime no \")\n",
    "elif n>1:\n",
    "    for i in range(2,n):         # loop starts from 2 and runs till n-1\n",
    "        if n%i==0:\n",
    "            print(n,\"not a prime no \")\n",
    "            break                # breaks the loop when first factor other than one it self found\n",
    "    else:\n",
    "        print(n,\"prime no\")      #if no factor found it shows no as prime \n",
    "else:                            # if no is negetive\n",
    "     print(n,\"not a prime no \")\n",
    "\n",
    "        \n"
   ]
  },
  {
   "cell_type": "code",
   "execution_count": 2,
   "id": "1d7a25f0-575e-4069-9c2d-cf197e44ebe2",
   "metadata": {},
   "outputs": [
    {
     "name": "stdout",
     "output_type": "stream",
     "text": [
      "contains digit= 4 character= 13 special character 3\n"
     ]
    }
   ],
   "source": [
    "#WAP TO CALCULATE NO OF CHARCTER AND DIGIT\n",
    "a=input(\"enter any string with numeric form\")\n",
    "digit=0\n",
    "char=0\n",
    "s_char=0\n",
    "for i in a:\n",
    "    if i.isdigit():\n",
    "        digit=digit+1\n",
    "    elif i.isalpha():\n",
    "        char=char+1\n",
    "    else:\n",
    "        s_char=s_char+1\n",
    "        \n",
    "        \n",
    "print(\"contains digit=\",digit,\"character=\",char,\"special character\",s_char)"
   ]
  },
  {
   "cell_type": "code",
   "execution_count": 2,
   "id": "5cccaa87-1b10-489b-a5e4-eed7e20f369f",
   "metadata": {},
   "outputs": [
    {
     "name": "stdout",
     "output_type": "stream",
     "text": [
      "# # # # # # \n",
      "# # # # # # \n",
      "# # # # # # \n",
      "# # # # # # \n",
      "# # # # # # \n",
      "# # # # # # \n"
     ]
    }
   ],
   "source": [
    "# example of nested for loop\n",
    "#creating a pattern using nested loops\n",
    "n=6\n",
    "for i in range(n):\n",
    "    for j in range(n):\n",
    "        print(\"#\",end=\" \")\n",
    "    print()\n",
    "    "
   ]
  },
  {
   "cell_type": "code",
   "execution_count": 4,
   "id": "4bd8ae89-d249-472c-9634-8d004bd24ac8",
   "metadata": {},
   "outputs": [
    {
     "name": "stdout",
     "output_type": "stream",
     "text": [
      "# \n",
      "# # \n",
      "# # # \n",
      "# # # # \n",
      "# # # # # \n"
     ]
    }
   ],
   "source": [
    "# example of nested for loop\n",
    "#creating a pattern using nested loops\n",
    "n=5\n",
    "for i in range(n):\n",
    "    for j in range(i+1):\n",
    "        print(\"#\",end=\" \")\n",
    "    print()\n",
    "    "
   ]
  },
  {
   "cell_type": "code",
   "execution_count": 5,
   "id": "df6116f8-7f1d-457a-b655-23a8afce9d31",
   "metadata": {},
   "outputs": [
    {
     "name": "stdout",
     "output_type": "stream",
     "text": [
      "# # # # # \n",
      "# # # # \n",
      "# # # \n",
      "# # \n",
      "# \n"
     ]
    }
   ],
   "source": [
    "# example of nested for loop\n",
    "#creating a pattern using nested loops\n",
    "n=5\n",
    "for i in range(n):\n",
    "    for j in range(n-i):\n",
    "        print(\"#\",end=\" \")\n",
    "    print()\n",
    "    "
   ]
  },
  {
   "cell_type": "code",
   "execution_count": 7,
   "id": "bd40531d-88cb-406a-b96a-bb9656c16f87",
   "metadata": {},
   "outputs": [
    {
     "name": "stdout",
     "output_type": "stream",
     "text": [
      "\n",
      "# \n",
      "# # \n",
      "# # # \n",
      "# # # # \n"
     ]
    }
   ],
   "source": [
    "# example of nested for loop\n",
    "#creating a pattern using nested loops\n",
    "n=5\n",
    "for i in range(n):\n",
    "    for j in range(i,0,-1):\n",
    "        print(\"#\",end=\" \")\n",
    "    print()\n",
    "    "
   ]
  },
  {
   "cell_type": "code",
   "execution_count": 8,
   "id": "fd9d084f-6f39-4483-88bd-abf97311881b",
   "metadata": {},
   "outputs": [
    {
     "name": "stdout",
     "output_type": "stream",
     "text": [
      "# # # # # \n",
      "# # # # \n",
      "# # # \n",
      "# # \n",
      "# \n",
      "\n"
     ]
    }
   ],
   "source": [
    "n = 5\n",
    "for i in range(0,n+1):\n",
    "    for j in range(n-i,0,-1):\n",
    "        print(\"#\", end=' ')\n",
    "    print()"
   ]
  },
  {
   "cell_type": "code",
   "execution_count": 10,
   "id": "ba19697a-9644-4c7b-9984-b07ca5addbaf",
   "metadata": {},
   "outputs": [
    {
     "name": "stdout",
     "output_type": "stream",
     "text": [
      "        # \n",
      "      # # # \n",
      "    # # # # # \n",
      "  # # # # # # # \n",
      "# # # # # # # # # \n"
     ]
    }
   ],
   "source": [
    "# example of nested for loop\n",
    "#creating a pyramid  pattern using nested loops \n",
    "n = 5\n",
    "for i in range(n):\n",
    "    for j in range(n-i-1):\n",
    "        print(\" \", end=' ')\n",
    "    for j in range(i+1):\n",
    "        print(\"#\",end=\" \")\n",
    "    for j in range(i):\n",
    "        print(\"#\",end=\" \")\n",
    "    print()"
   ]
  },
  {
   "cell_type": "code",
   "execution_count": 60,
   "id": "ae867f68",
   "metadata": {},
   "outputs": [
    {
     "name": "stdout",
     "output_type": "stream",
     "text": [
      "          # \n",
      "        # # # \n",
      "      # # # # # \n",
      "    # # # # # # # \n",
      "  # # # # # # # # # \n",
      "# # # # # # # # # # # \n"
     ]
    }
   ],
   "source": [
    "# practice\n",
    "# example of nested for loop\n",
    "#creating a pyramid  pattern using nested loops \n",
    "n = int(input(\"enter any number\"))\n",
    "for i in range(n):\n",
    "    for j in range(0,n-i-1,1):\n",
    "        print(\" \",end=\" \")\n",
    "    for j in range(0,i+1,1):\n",
    "        print(\"#\",end=\" \")\n",
    "    for j in range(0,i,1):\n",
    "        print(\"#\",end=\" \")\n",
    "    print()"
   ]
  },
  {
   "cell_type": "code",
   "execution_count": 11,
   "id": "3adc688d-c631-4402-9e84-512c4ccddb80",
   "metadata": {
    "scrolled": true
   },
   "outputs": [
    {
     "name": "stdout",
     "output_type": "stream",
     "text": [
      "        # \n",
      "      # # # \n",
      "    # # # # # \n",
      "  # # # # # # # \n",
      "# # # # # # # # # \n"
     ]
    }
   ],
   "source": [
    "# example of nested for loop\n",
    "#creating a pyramid  pattern using nested loops \n",
    "n = 5\n",
    "for i in range(n):\n",
    "    for j in range(n-i-1):\n",
    "        print(\" \", end=' ')\n",
    "    for j in range(2*i+1):\n",
    "        print(\"#\",end=\" \")\n",
    "    \n",
    "    print()"
   ]
  },
  {
   "cell_type": "code",
   "execution_count": 12,
   "id": "a1afd513-6fb4-4b13-b1b3-bf4436a5dbd8",
   "metadata": {},
   "outputs": [
    {
     "name": "stdout",
     "output_type": "stream",
     "text": [
      "        # \n",
      "      #   # \n",
      "    #       # \n",
      "  #           # \n",
      "# # # # # # # # # \n"
     ]
    }
   ],
   "source": [
    "# HOME WORK example of nested for loop\n",
    "#creating a HOLLOW  pyramid  pattern using nested loops \n",
    "# example of nested for loop\n",
    "#creating a pyramid  pattern using nested loops \n",
    "n = 5\n",
    "for i in range(n):\n",
    "    for j in range(n-i-1):\n",
    "        print(\" \", end=' ')\n",
    "    for j in range(2*i+1):\n",
    "        if j==0 or j==2*i or i==n-1:\n",
    "            print(\"#\",end=\" \")\n",
    "        else:\n",
    "            print(\" \",end=\" \")\n",
    "        \n",
    "    \n",
    "    print()\n"
   ]
  },
  {
   "cell_type": "code",
   "execution_count": 13,
   "id": "093497bd-2c85-40ef-82b8-b9d7304abd6e",
   "metadata": {},
   "outputs": [
    {
     "name": "stdout",
     "output_type": "stream",
     "text": [
      "1 no of time loop runs| 2 no of time loop runs| 3 no of time loop runs| 4 no of time loop runs| 5 is the final value of i\n"
     ]
    }
   ],
   "source": [
    "# while loop\n",
    "i=1\n",
    "n=int(input(\"enter any number:\"))\n",
    "while i<=n:\n",
    "    print(i,\"no of time loop runs\",end=\"| \")\n",
    "    i=i+1\n",
    "\n",
    "\n",
    "\n",
    "print(i,\"is the final value of i\")\n"
   ]
  },
  {
   "cell_type": "code",
   "execution_count": 64,
   "id": "32bb1d2d-9349-4afc-b8ee-a6eb99de80b3",
   "metadata": {},
   "outputs": [
    {
     "name": "stdout",
     "output_type": "stream",
     "text": [
      "1  =  0\n",
      "2  =  1\n",
      "3  =  3\n",
      "4  =  6\n",
      "5  =  10\n",
      "6  =  15\n",
      "7  =  21\n",
      "8  =  28\n",
      "9  =  36\n",
      "10  =  45\n",
      "11  =  55\n",
      "sum of first 10 whole no is  55\n"
     ]
    }
   ],
   "source": [
    "i=0\n",
    "sum=0\n",
    "while i<=10:\n",
    "    sum=sum+i\n",
    "    i=i+1\n",
    "    print(i,\" = \",sum)\n",
    "print(\"sum of first 10 whole no is \",sum)\n",
    "    "
   ]
  },
  {
   "cell_type": "code",
   "execution_count": 15,
   "id": "fc88efe6-4ef9-461f-a069-a0eb74b6ec28",
   "metadata": {},
   "outputs": [
    {
     "name": "stdout",
     "output_type": "stream",
     "text": [
      "reverse of  given number is :  5\n"
     ]
    }
   ],
   "source": [
    "#wap to find a reverse of any given no \n",
    "n=int(input(\"enter any number:\"))\n",
    "rev=0\n",
    "while n!=0:             # untill n is not equal to zero\n",
    "    dig=n%10            #to get last digit of number \n",
    "    rev=(rev*10)+dig    # to get nomber in reverse order \n",
    "    n=n//10             # to reduce number single by digit \n",
    "\n",
    "print(\"reverse of  given number is : \",rev)\n"
   ]
  },
  {
   "cell_type": "code",
   "execution_count": 16,
   "id": "ec55510f-bdae-4e16-a858-4ca3285f80f5",
   "metadata": {},
   "outputs": [
    {
     "name": "stdout",
     "output_type": "stream",
     "text": [
      "number is armstrong number\n"
     ]
    }
   ],
   "source": [
    "#ARMSTRONG NUMBER\n",
    "#WAP TO FIND WEATHER A NUMBER IS A ARMSTRONG NUMBER OR NOT \n",
    "n=int(input(\"enter any number:\"))\n",
    "a=len(str(n))\n",
    "sumdigit=0\n",
    "old=n\n",
    "while n!=0:\n",
    "    dig=n%10\n",
    "    sumdigit=sumdigit+(dig**a)\n",
    "    n=n//10\n",
    "if sumdigit==old:\n",
    "    print(\"number is armstrong number\")\n",
    "else:\n",
    "    print(\"not a armstrong no\")"
   ]
  },
  {
   "cell_type": "code",
   "execution_count": null,
   "id": "4d77406d-b3e1-4107-9e56-ad769fda58a5",
   "metadata": {},
   "outputs": [
    {
     "name": "stdout",
     "output_type": "stream",
     "text": [
      "not a armstrong no\n",
      "2\n"
     ]
    }
   ],
   "source": [
    "#ARMSTRONG NUMBER\n",
    "#WAP TO FIND WEATHER A NUMBER IS A ARMSTRONG NUMBER OR NOT \n",
    "n=int(input(\"enter any number:\"))\n",
    "\n",
    "a=len(str(n))\n",
    "sumdigit=0\n",
    "old=n\n",
    "while n!=0:\n",
    "    dig=n%10\n",
    "    sumdigit=sumdigit+(dig**a)\n",
    "    n=n//10\n",
    "if sumdigit==old:\n",
    "    print(\"number is armstrong number\")\n",
    "else:\n",
    "    print(\"not a armstrong no\")\n",
    "print(a)"
   ]
  },
  {
   "cell_type": "code",
   "execution_count": 6,
   "id": "fbbe7184-4859-4785-ae4e-31dde8512448",
   "metadata": {},
   "outputs": [
    {
     "name": "stdout",
     "output_type": "stream",
     "text": [
      "\n",
      "TO CYBROM\n"
     ]
    }
   ],
   "source": [
    "#INDEXING/SLICING -padh lena yaad se \n",
    "s=\"WELCOME TO CYBROM\"\n",
    "3\n",
    "print(s[1:5:-1])\n",
    "\n",
    "print(s[-9: :1])"
   ]
  },
  {
   "cell_type": "code",
   "execution_count": 7,
   "id": "6744d562-ad8a-40e9-8cd8-05635cfaaf8f",
   "metadata": {},
   "outputs": [
    {
     "name": "stdout",
     "output_type": "stream",
     "text": [
      "CYBROM\n",
      "<class 'str'>\n",
      "B\n"
     ]
    }
   ],
   "source": [
    "#STRING\n",
    "#ODERED SEQUENCE OF CHARACTER\"\n",
    "#IMMUTABLE, INDEXED AND DENOTED BY \"\",''\n",
    "S=\"CYBROM\"\n",
    "print(S)\n",
    "print(type(S))\n",
    "print(S[2])\n"
   ]
  },
  {
   "cell_type": "code",
   "execution_count": 20,
   "id": "7b5459ba-4a8c-4a82-98b7-d7286510707d",
   "metadata": {},
   "outputs": [
    {
     "name": "stdout",
     "output_type": "stream",
     "text": [
      "c\n",
      "y\n",
      "b\n",
      "r\n",
      "o\n",
      "m\n"
     ]
    }
   ],
   "source": [
    "s=\"cybrom\"\n",
    "for i in s:\n",
    "    print(i)"
   ]
  },
  {
   "cell_type": "code",
   "execution_count": 21,
   "id": "439b49ac-ac89-478b-b410-45fb1320cc72",
   "metadata": {},
   "outputs": [
    {
     "name": "stdout",
     "output_type": "stream",
     "text": [
      "0 c\n",
      "1 y\n",
      "2 b\n",
      "3 r\n",
      "4 o\n",
      "5 m\n"
     ]
    }
   ],
   "source": [
    "s=\"cybrom\"\n",
    "for i in range(len(s)):\n",
    "    print(i,s[i])"
   ]
  },
  {
   "cell_type": "code",
   "execution_count": 22,
   "id": "818c961d-f557-43eb-ae80-2063b2373f69",
   "metadata": {},
   "outputs": [
    {
     "name": "stdout",
     "output_type": "stream",
     "text": [
      "W\n",
      "E\n",
      "L\n",
      "C\n",
      "O\n",
      "M\n",
      "E\n",
      " \n",
      "T\n",
      "O\n",
      " \n",
      "B\n",
      "H\n",
      "O\n",
      "P\n",
      "A\n",
      "L\n"
     ]
    }
   ],
   "source": [
    "#WAP \n",
    "s=\"WELCOME TO BHOPAL\"\n",
    "for i in s:\n",
    "    print(i)\n",
    "    "
   ]
  },
  {
   "cell_type": "code",
   "execution_count": 23,
   "id": "d0f5e9dd-03b8-4723-b183-5c84d2efd812",
   "metadata": {},
   "outputs": [
    {
     "name": "stdout",
     "output_type": "stream",
     "text": [
      "W E L C O M E   T O   B H O P A L "
     ]
    }
   ],
   "source": [
    "#WAP \n",
    "s=\"WELCOME TO BHOPAL\"\n",
    "for i in range(len(s)):\n",
    "    print(s[i],end=\" \")"
   ]
  },
  {
   "cell_type": "code",
   "execution_count": 24,
   "id": "bf831c57-e0ac-40c4-bab1-1c939f5e7fbc",
   "metadata": {},
   "outputs": [
    {
     "name": "stdout",
     "output_type": "stream",
     "text": [
      "LAPOHB OT EMOCLEW\n"
     ]
    }
   ],
   "source": [
    "#wap to reverse a string  with the help of loop \n",
    "s=\"WELCOME TO BHOPAL\"\n",
    "rev=\"\"\n",
    "for i in s:\n",
    "    rev=i+rev\n",
    "print(rev)"
   ]
  },
  {
   "cell_type": "code",
   "execution_count": 25,
   "id": "a091756d-2a04-414e-a715-a56e5e388593",
   "metadata": {},
   "outputs": [
    {
     "name": "stdout",
     "output_type": "stream",
     "text": [
      "LAPOHB OT EMOCLEW\n"
     ]
    }
   ],
   "source": [
    "#REVERSE of string with the help of slicing \n",
    "s=\"WELCOME TO BHOPAL\"\n",
    "print(s[::-1])"
   ]
  },
  {
   "cell_type": "code",
   "execution_count": 26,
   "id": "e3d69bc6-ec45-4d09-b603-7e427b7aa837",
   "metadata": {},
   "outputs": [
    {
     "name": "stdout",
     "output_type": "stream",
     "text": [
      "not a pallindome\n"
     ]
    }
   ],
   "source": [
    "# wap to check weather a  given string is pallindrome or not  \n",
    "#take input from the user\n",
    "s=input(\"enter any string:\")\n",
    "rev=\"\"\n",
    "for i in s:\n",
    "    rev=i+rev\n",
    "if s==rev:\n",
    "    print(\"string is paliindrome\")\n",
    "else:\n",
    "    print(\"not a pallindome\")"
   ]
  },
  {
   "cell_type": "code",
   "execution_count": 27,
   "id": "5fd2e6cf-0f08-453d-8a4e-20f4c6c53a46",
   "metadata": {},
   "outputs": [
    {
     "name": "stdout",
     "output_type": "stream",
     "text": [
      "pallindrome\n"
     ]
    }
   ],
   "source": [
    "# wap to check weather a  given string is pallindrome or not  (with slicing ) \n",
    "#take input from the user\n",
    "s=input(\"enter any string:\")\n",
    "if s==s[::-1]:\n",
    "    print(\"pallindrome\")\n",
    "else:\n",
    "    print(\"not a pallindrome\")"
   ]
  },
  {
   "cell_type": "code",
   "execution_count": 28,
   "id": "093ab31b-d2b4-4faa-8e47-792664ae5028",
   "metadata": {},
   "outputs": [
    {
     "data": {
      "text/plain": [
       "'# FUNCTION OF STRING\\n\\n#len()- returns the count of character\\n,{max(),min() these two works on ASCII}\\n#ord()- it returns the ASCII values\\nchr()-function return character of required ascii\\n# ASCII VALUES\\n# a-97,A-65,\" \"-32 '"
      ]
     },
     "execution_count": 28,
     "metadata": {},
     "output_type": "execute_result"
    }
   ],
   "source": [
    "'''# FUNCTION OF STRING\n",
    "\n",
    "#len()- returns the count of character\n",
    ",{max(),min() these two works on ASCII}\n",
    "#ord()- it returns the ASCII values\n",
    "chr()-function return character of required ascii\n",
    "# ASCII VALUES\n",
    "# a-97,A-65,\" \"-32 '''\n"
   ]
  },
  {
   "cell_type": "code",
   "execution_count": 29,
   "id": "ceae5043-bf74-4ae0-b07c-01e0ba8e1a53",
   "metadata": {},
   "outputs": [
    {
     "name": "stdout",
     "output_type": "stream",
     "text": [
      "Amit\n"
     ]
    }
   ],
   "source": [
    "a=\"amit\"\n",
    "print(a.title())"
   ]
  },
  {
   "cell_type": "code",
   "execution_count": 30,
   "id": "6179ca77-9329-4dab-b99c-8ecf7ae27ffe",
   "metadata": {},
   "outputs": [
    {
     "name": "stdout",
     "output_type": "stream",
     "text": [
      "97\n",
      "Ò\n"
     ]
    }
   ],
   "source": [
    "print(ord(\"a\"))  #it always takes character as a parameter\n",
    "print(chr(210))  #it always takes integer as a parameter\n"
   ]
  },
  {
   "cell_type": "code",
   "execution_count": 31,
   "id": "c0a52b22-8b24-4cf2-b759-7e695e5517f5",
   "metadata": {},
   "outputs": [
    {
     "name": "stdout",
     "output_type": "stream",
     "text": [
      "Welcome To Bhopal\n",
      "WELCOME TO BHOPAL\n",
      "welcome to bhopal\n",
      "Welcome to bhopal\n"
     ]
    }
   ],
   "source": [
    "'''METHODS \n",
    "#upper ,lower, title ,capitalize'''\n",
    "a=\"welcome to bhopal\"\n",
    "print(a.title())\n",
    "print(a.upper())\n",
    "b=a.lower()\n",
    "print(b)\n",
    "print(a.capitalize())\n"
   ]
  },
  {
   "cell_type": "code",
   "execution_count": 32,
   "id": "77ba2a8b-e9f2-494d-aa63-136410ea5ad2",
   "metadata": {},
   "outputs": [
    {
     "name": "stdout",
     "output_type": "stream",
     "text": [
      "False\n",
      "False\n",
      "True\n"
     ]
    }
   ],
   "source": [
    "''' isgigit(),isalpha(),isalnum()'''\n",
    "s=\"welcome123\"\n",
    "print(s.isdigit())\n",
    "print(s.isalpha())\n",
    "print(s.isalnum())"
   ]
  },
  {
   "cell_type": "code",
   "execution_count": 33,
   "id": "1f707ec9-4c6d-45e6-a4ce-c7f6ff211b2b",
   "metadata": {},
   "outputs": [
    {
     "name": "stdout",
     "output_type": "stream",
     "text": [
      "<class 'str'>\n",
      "True\n",
      "True\n",
      "False\n"
     ]
    }
   ],
   "source": [
    "s=\"123\"\n",
    "print(type(s))\n",
    "print(s.isalnum())\n",
    "print(s.isdigit())\n",
    "print(s.isalpha())\n"
   ]
  },
  {
   "cell_type": "code",
   "execution_count": 34,
   "id": "2d93609c-5bec-4c9e-95e2-663f5e5d4736",
   "metadata": {},
   "outputs": [
    {
     "name": "stdout",
     "output_type": "stream",
     "text": [
      "3\n"
     ]
    }
   ],
   "source": [
    "#count- returns integer\n",
    "#object.count(charcter)-it takes \"character\" /\" substring \"/\"sub string\" as parameter\n",
    "s=\"welcome to bhopal\"\n",
    "print(s.count(\"o\"))"
   ]
  },
  {
   "cell_type": "code",
   "execution_count": 35,
   "id": "b6b42dc0-b04b-45f5-adf2-c20ef289ced6",
   "metadata": {},
   "outputs": [
    {
     "ename": "SyntaxError",
     "evalue": "'(' was never closed (571258836.py, line 3)",
     "output_type": "error",
     "traceback": [
      "\u001b[1;36m  Cell \u001b[1;32mIn[35], line 3\u001b[1;36m\u001b[0m\n\u001b[1;33m    print(s.replace(\"o\",\"a\",2)\u001b[0m\n\u001b[1;37m         ^\u001b[0m\n\u001b[1;31mSyntaxError\u001b[0m\u001b[1;31m:\u001b[0m '(' was never closed\n"
     ]
    }
   ],
   "source": [
    "#replace\n",
    "s=\"welcome to bhopal\" \n",
    "print(s.replace(\"o\",\"a\",2)\n",
    "print(s.replace(\" \",\"\"))\n",
    "print(s.replace(\"welcome\",\"swagatam\",1))\n",
    "print(s)\n"
   ]
  },
  {
   "cell_type": "code",
   "execution_count": 75,
   "id": "2554432e-f7ed-4d16-aa89-a28d88a4b385",
   "metadata": {},
   "outputs": [
    {
     "name": "stdout",
     "output_type": "stream",
     "text": [
      "0\n",
      "4\n"
     ]
    }
   ],
   "source": [
    "#find syntax-object.find(\"substring\",[start],[end])\n",
    "#index syntax-object.index(\"substring\",[start],[end])\n",
    "s=\"welcome to bhopal\"\n",
    "print(s.find(\"w\"))\n",
    "print(s.index(\"o\"))"
   ]
  },
  {
   "cell_type": "code",
   "execution_count": null,
   "id": "365f5d64-99b2-40ed-96d6-46f03eef66a3",
   "metadata": {},
   "outputs": [],
   "source": [
    "#wap to find number of vovel in a string,\n",
    "#no of consonent and the number of  special character in a given string\n",
    "s=\"welcome to city of lakes\"\n",
    "v=\"aeiou\"\n",
    "vovel=0\n",
    "cons=0\n",
    "sp=0\n",
    "for i in s:\n",
    "    if i in v :\n",
    "        vovel=vovel+1\n",
    "    elif i==\" \":\n",
    "        sp=sp+1\n",
    "    else:\n",
    "        cons=cons+1\n",
    "\n",
    "print(\"NO of vovel\",vovel)\n",
    "print(\"NO of consonent\",cons)\n",
    "print(\"NO of special character\",sp)"
   ]
  },
  {
   "cell_type": "code",
   "execution_count": null,
   "id": "78dfa6f8-e615-4314-b824-06156909a0ee",
   "metadata": {},
   "outputs": [],
   "source": [
    "#split()\n",
    "#join()"
   ]
  },
  {
   "cell_type": "code",
   "execution_count": 77,
   "id": "7975d29a-ee0c-4e66-bfdf-9726ec2dcd3f",
   "metadata": {},
   "outputs": [
    {
     "name": "stdout",
     "output_type": "stream",
     "text": [
      "['welcome', 'to', 'the', 'city']\n",
      "['w', 'lcom', ' to th', ' city']\n",
      "['welcome', 'to the city']\n"
     ]
    }
   ],
   "source": [
    "#split() method -\n",
    "#syntax-object.split(\"seprator\",[maxsplit])\n",
    "# split method always returns a list of string.\n",
    "# by default seprator -whitespaces.\n",
    "#maxsplit()\n",
    "s=\"welcome to the city\"\n",
    "print(s.split())\n",
    "print(s.split('e'))\n",
    "print(s.split(\" \",1))"
   ]
  },
  {
   "cell_type": "code",
   "execution_count": 79,
   "id": "ff513792-e492-472e-97ee-a523c3e1b118",
   "metadata": {},
   "outputs": [
    {
     "name": "stdout",
     "output_type": "stream",
     "text": [
      "['welcome', 'to', 'the', 'city']\n",
      "welcome to the city\n"
     ]
    }
   ],
   "source": [
    "'''join \n",
    "syntax- \"seprator\".join(iterables)# iterables=stringobject'''\n",
    "\n",
    "s=\"welcome to the city\"\n",
    "l=s.split(\" \")\n",
    "print(l)\n",
    "s1=\" \".join(l)\n",
    "print(s1)"
   ]
  },
  {
   "cell_type": "code",
   "execution_count": null,
   "id": "187fdc9d-94c0-4a6b-bd89-8e557224492d",
   "metadata": {},
   "outputs": [],
   "source": [
    "'''with the help of string and join method\n",
    "we can access the individuL ELEMENT OF STRING'''\n",
    "s=\"welcome\"\n",
    "s1=\"-\".join(s)\n",
    "print(s1)\n",
    "l=s1.split(\"-\")\n",
    "print(l)\n",
    "print(l[3])"
   ]
  },
  {
   "cell_type": "code",
   "execution_count": null,
   "id": "05cc8da3-14b2-434c-b3f0-83dd5d862d34",
   "metadata": {},
   "outputs": [],
   "source": [
    "#strip ()-removes whitespaces from front or end of a string\n",
    "s=\"     welcome to the city\"\n",
    "s1=s.strip()\n",
    "print(s1)\n",
    "print(s)\n"
   ]
  },
  {
   "cell_type": "code",
   "execution_count": 81,
   "id": "e1de1dd1-70cf-424f-9530-f627918fbdc3",
   "metadata": {},
   "outputs": [
    {
     "name": "stdout",
     "output_type": "stream",
     "text": [
      "enter your name : amit\n",
      "enter your age : 25\n"
     ]
    },
    {
     "name": "stdout",
     "output_type": "stream",
     "text": [
      "hii amit  your are 25 year old\n"
     ]
    }
   ],
   "source": [
    "#format- you can combine string and int using this\n",
    "name=input(\"enter your name :\")\n",
    "age= int(input(\"enter your age :\"))\n",
    "print(f\"hii {name}  your are { age} year old\")"
   ]
  },
  {
   "cell_type": "code",
   "execution_count": 83,
   "id": "5e64f951-9304-4d11-98c1-2c016718e78e",
   "metadata": {},
   "outputs": [
    {
     "name": "stdout",
     "output_type": "stream",
     "text": [
      "b'welcome to the city'\n"
     ]
    }
   ],
   "source": [
    "s=\"welcome to the city\"\n",
    "print(s.encode())\n",
    "\n"
   ]
  },
  {
   "cell_type": "code",
   "execution_count": 85,
   "id": "e95044dd-1276-403d-88e4-d730c5e26933",
   "metadata": {},
   "outputs": [],
   "source": [
    "#list -mutable,indexed,odered,comma(,) seprated value\n",
    "# mutable,indexed,hetrogenous\n",
    "l=[]"
   ]
  },
  {
   "cell_type": "code",
   "execution_count": null,
   "id": "4be30b31-b28b-4df4-8f9e-aca4e8e89ce7",
   "metadata": {},
   "outputs": [],
   "source": [
    "l=[10,20,30,\"hello\",50]\n",
    "print(l[1:4])\n",
    "print(l[1:4:2])"
   ]
  },
  {
   "cell_type": "code",
   "execution_count": 87,
   "id": "ea64ed16-6cde-4c13-9a23-648aa3d30ed4",
   "metadata": {},
   "outputs": [
    {
     "name": "stdout",
     "output_type": "stream",
     "text": [
      "10,20,30,hello,50,10,20,30,hello,50,"
     ]
    }
   ],
   "source": [
    "l=[10,20,30,\"hello\",50]\n",
    "a=len(l)\n",
    "for i in l:\n",
    "    print(i, end=\",\")\n",
    "\n",
    "for i in range(a):\n",
    "    print(l[i], end=\",\")\n",
    "\n",
    "\n"
   ]
  },
  {
   "cell_type": "code",
   "execution_count": null,
   "id": "fde6a696-dfd4-47e5-9c28-df543e39a868",
   "metadata": {},
   "outputs": [],
   "source": [
    "l=[10,20,30,\"hello\",50]\n",
    "a=len(l)\n",
    "for i in range(a):\n",
    "    print(l[i], end=\",\")"
   ]
  },
  {
   "cell_type": "code",
   "execution_count": 89,
   "id": "f9c34ca1-56ed-40b2-bba5-49113e348e60",
   "metadata": {},
   "outputs": [
    {
     "name": "stdout",
     "output_type": "stream",
     "text": [
      "mumbai\n"
     ]
    }
   ],
   "source": [
    "l=[10,20,30,40,[100,200,[\"delhi\",\"mumbai\"],200,\"hello\"],19]\n",
    "print(l[4][2][1])\n"
   ]
  },
  {
   "cell_type": "code",
   "execution_count": 95,
   "id": "9c40df92-05d1-481d-961b-7cf2228d0ccc",
   "metadata": {},
   "outputs": [
    {
     "name": "stdout",
     "output_type": "stream",
     "text": [
      "length of list 4\n",
      "30\n"
     ]
    }
   ],
   "source": [
    "l=[10,20,30,\"hello\"]\n",
    "count=0\n",
    "for i in l:\n",
    "    count=count+1\n",
    "print(\"length of list\",count)\n",
    "print(max(l[:3]))"
   ]
  },
  {
   "cell_type": "code",
   "execution_count": null,
   "id": "470df8cd-8b27-416a-9dbe-3aa24a3c41ed",
   "metadata": {},
   "outputs": [],
   "source": [
    "l=[10,20,30,\"hello\"]\n",
    "print(max(l))\n",
    "#TypeError: '>' not supported between instances of 'str' and 'int'"
   ]
  },
  {
   "cell_type": "code",
   "execution_count": null,
   "id": "dffe325f-f29a-40a4-8273-7e28ae1ced24",
   "metadata": {},
   "outputs": [],
   "source": [
    "#max function IMP\n",
    "l=[10,20,30,50,60,54112,141541,2015415612]\n",
    "max_element=0\n",
    "for i in l:\n",
    "    if i>max_element:\n",
    "        max_element=i\n",
    "print(max_element)\n",
    "    \n"
   ]
  },
  {
   "cell_type": "code",
   "execution_count": null,
   "id": "4192fdd6-dd2d-4ba9-ace2-15b13f700de4",
   "metadata": {},
   "outputs": [],
   "source": [
    "#min function IMP\n",
    "l=[10,5,30,50,60,54112,141541,2015415612]\n",
    "min_element=l[0]\n",
    "for i in l:\n",
    "    if i<min_element:\n",
    "        min_element=i\n",
    "print(min_element)\n",
    "    "
   ]
  },
  {
   "cell_type": "code",
   "execution_count": 97,
   "id": "5e85b573-505f-4dea-b9e8-4b3faee5cbf9",
   "metadata": {},
   "outputs": [
    {
     "name": "stdout",
     "output_type": "stream",
     "text": [
      "34.0\n"
     ]
    }
   ],
   "source": [
    "#AVG function\n",
    "l=[10,20,30,50,60]\n",
    "sum=0\n",
    "n=len(l)\n",
    "for i in l:\n",
    "    sum=sum+i\n",
    "\n",
    "\n",
    "avg=sum/n\n",
    "print(avg)    "
   ]
  },
  {
   "cell_type": "code",
   "execution_count": null,
   "id": "28237347-4306-43b9-961c-21917b606c83",
   "metadata": {},
   "outputs": [],
   "source": [
    "#list methods ,FILO-FIRST IN LAST OUT\n",
    "#append- TAKES SINGLE PARAMETER ,ADDS TO THE LAST\n",
    "l=[10,20,25,30,\"hellow\"]\n",
    "l.append(\"kammo\")\n",
    "print(l)\n",
    "l1=l[4]\n",
    "l.append([10,20,25,30,\"hellow\"])\n",
    "print(l)"
   ]
  },
  {
   "cell_type": "code",
   "execution_count": 99,
   "id": "a18efdff-8f0e-4fe3-83b0-64f3925b5472",
   "metadata": {},
   "outputs": [
    {
     "name": "stdout",
     "output_type": "stream",
     "text": [
      "[10, 20, 25, 30, 'hellow', 'kammo', [10, 20, 25, 30, 'cybrom']]\n"
     ]
    }
   ],
   "source": [
    "l=[10, 20, 25, 30, 'hellow', 'kammo', [10, 20, 25, 30, 'hellow']]\n",
    "l[6][4]=\"cybrom\"\n",
    "print(l)"
   ]
  },
  {
   "cell_type": "code",
   "execution_count": 101,
   "id": "1c10b605-b769-45e5-aba4-01bb6d524db2",
   "metadata": {},
   "outputs": [
    {
     "name": "stdout",
     "output_type": "stream",
     "text": [
      "enter any no: 10\n",
      "enter any no: 20\n",
      "enter any no: 30\n",
      "enter any no: 144\n",
      "enter any no: 225\n"
     ]
    },
    {
     "name": "stdout",
     "output_type": "stream",
     "text": [
      "[10, 20, 30, 144, 225]\n",
      "sum of numbers: 429\n"
     ]
    }
   ],
   "source": [
    "#wap to take input from user at run time and store them in A LIST and find sum\n",
    "l=[]\n",
    "for i in range(5):\n",
    "    n=int(input(\"enter any no:\"))\n",
    "    l.append(n)\n",
    "    \n",
    "print(l)\n",
    "sum=0\n",
    "for i in l:\n",
    "    sum=sum+i\n",
    "print(\"sum of numbers:\",sum)\n",
    "\n",
    "    "
   ]
  },
  {
   "cell_type": "code",
   "execution_count": 103,
   "id": "dd42c7a0-a8cb-4817-8fbe-a07be8da00e3",
   "metadata": {},
   "outputs": [
    {
     "name": "stdout",
     "output_type": "stream",
     "text": [
      "[10, 20, 25, 40, 30, 'hellow']\n",
      "[10, 20, 25, 40, [10, 20, 25, 30], 30, 'hellow']\n"
     ]
    }
   ],
   "source": [
    "#insert method\n",
    "l=[10,20,25,30,\"hellow\"]\n",
    "l.insert(3,40)\n",
    "print(l)\n",
    "l.insert(4,[10,20,25,30])\n",
    "print(l)\n"
   ]
  },
  {
   "cell_type": "code",
   "execution_count": null,
   "id": "d0d5d126-4915-412b-97e9-6916d3f9c3a9",
   "metadata": {},
   "outputs": [],
   "source": [
    "l=[]\n",
    "for i in range(5):\n",
    "    p=int(input(\"enter positon no:\"))\n",
    "    n=int(input(\"enter value no:\"))\n",
    "    l.insert(p,n)\n",
    "    \n",
    "print(l)\n",
    "sum=0\n",
    "for i in l:\n",
    "    sum=sum+i\n",
    "print(\"sum of numbers:\",sum)"
   ]
  },
  {
   "cell_type": "code",
   "execution_count": 105,
   "id": "debd4aff-edd8-40ba-942b-ea763c538e0f",
   "metadata": {},
   "outputs": [
    {
     "name": "stdout",
     "output_type": "stream",
     "text": [
      "[10, 20, 25, 30, 'hellow', 'jaipur', 'jaipur']\n"
     ]
    }
   ],
   "source": [
    "#EXTEND\n",
    "l=[10,20,25,30,\"hellow\"]\n",
    "l1=[\"jaipur\",\"jaipur\"]\n",
    "l.extend(l1)\n",
    "print(l)"
   ]
  },
  {
   "cell_type": "code",
   "execution_count": 109,
   "id": "9d34ea98-f892-4aea-93c7-678da3cf9e0f",
   "metadata": {},
   "outputs": [
    {
     "name": "stdout",
     "output_type": "stream",
     "text": [
      "[10, 20, 30, [100, 200, 300, ['bhopal', 'indore', 'delhi', 'nagpur'], 20.5, 1000]]\n",
      "['delhi', 'nagpur', 'cybrom']\n"
     ]
    }
   ],
   "source": [
    "#extend\n",
    "l1=[10,20,30,[100,200,300,[\"bhopal\",\"indore\"],20.5,1000]]\n",
    "l2=[\"delhi\",\"nagpur\"]\n",
    "l1[3][3].extend(l2)\n",
    "print(l1)\n",
    "\n",
    "l3=[\"cybrom\"]\n",
    "l2.extend(l3)\n",
    "print(l2)"
   ]
  },
  {
   "cell_type": "code",
   "execution_count": null,
   "id": "e8dcce5b-5bab-4a59-987b-c6074e464d0e",
   "metadata": {},
   "outputs": [],
   "source": [
    "#append \n",
    "\n",
    "l1=[10,20,30,[100,200,300,[\"bhopal\",\"indore\"],20.5,1000]]\n",
    "l2=[\"delhi\",\"nagpur\"]\n",
    "for i in l2:\n",
    "    l1[3][3].append(i)\n",
    "print(l1)"
   ]
  },
  {
   "cell_type": "code",
   "execution_count": 115,
   "id": "8a544ae9-5059-411e-bf4e-da14824ee30d",
   "metadata": {},
   "outputs": [
    {
     "name": "stdout",
     "output_type": "stream",
     "text": [
      "[10, 20, 30, [100, 200, 300, ['bhopal', 'indore', 'delhi', 'nagpur'], 20.5, 1000]]\n"
     ]
    }
   ],
   "source": [
    "# insert\n",
    "l1=[10,20,30,[100,200,300,[\"bhopal\",\"indore\"],20.5,1000]]\n",
    "l2=[\"delhi\",\"nagpur\"]\n",
    "for i in l2:\n",
    "    l1[3][3].insert(3,i)\n",
    "print(l1)"
   ]
  },
  {
   "cell_type": "code",
   "execution_count": 117,
   "id": "897f1088-454f-4fc8-b6d2-03c4a462722b",
   "metadata": {},
   "outputs": [
    {
     "name": "stdout",
     "output_type": "stream",
     "text": [
      "1000\n",
      "[10, 20, 30, 100, 200, 300, 'bhopal', 'indore', 20.5]\n"
     ]
    }
   ],
   "source": [
    "#pop method\n",
    "#syntax-listobject.pop([positional]) #optional method\n",
    "# which means takes deafult value(-1)\n",
    "#pop method retuens removed element.\n",
    "# removing of element \n",
    "#list.pop(index number)\n",
    "l1=[10,20,30,100,200,300,\"bhopal\",\"indore\",20.5,1000]\n",
    "print(l1.pop())\n",
    "print(l1)\n"
   ]
  },
  {
   "cell_type": "code",
   "execution_count": null,
   "id": "0fdba68f-3ad3-4eef-bca4-d4fa5ba69531",
   "metadata": {},
   "outputs": [],
   "source": [
    "#del method -its a kind of keyword\n",
    "# only difference b/w pop and del is it does not return removed element \n",
    "l1=[10,20,30,100,200,300,\"bhopal\",\"indore\",20.5,1000]\n",
    "del l1[-4]\n",
    "print(l1)\n",
    "\n"
   ]
  },
  {
   "cell_type": "code",
   "execution_count": null,
   "id": "ef645beb-93ec-4f3d-8d88-e62f2e2ec238",
   "metadata": {},
   "outputs": [],
   "source": [
    "#del indore\n",
    "l1=[10,20,30,[100,200,300,[\"bhopal\",\"indore\"],20.5],1000]\n",
    "del l1[-2][-2][-1]\n",
    "print(l1)\n"
   ]
  },
  {
   "cell_type": "code",
   "execution_count": null,
   "id": "aaa957c2-235d-499c-b4ce-afd508bb5ebe",
   "metadata": {},
   "outputs": [],
   "source": [
    "l1=[10,20,30,[100,200,300,[\"bhopal\",\"indore\"],20.5],1000]\n",
    "l1[-2][-2].pop()\n",
    "print(l1)"
   ]
  },
  {
   "cell_type": "code",
   "execution_count": null,
   "id": "156d8f24-933a-43e0-b45b-d124c0d5e146",
   "metadata": {},
   "outputs": [],
   "source": [
    "# remove\n",
    "#syntax- listobject.remove(value/element)\n",
    "l1=[10,20,30,100,200,300,\"bhopal\",\"indore\",20.5,1000]\n",
    "l1.remove(\"bhopal\")\n",
    "l1.remove(1000)\n",
    "print(l1)\n"
   ]
  },
  {
   "cell_type": "code",
   "execution_count": 119,
   "id": "02b6756d-62b3-470a-a4eb-9e80c6934bac",
   "metadata": {},
   "outputs": [
    {
     "name": "stdout",
     "output_type": "stream",
     "text": [
      "[10, 20, 30, 200, 300, 'bhopal', 'indore', 20.5, 1000, 100]\n"
     ]
    }
   ],
   "source": [
    "l1=[10,20,30,100,200,300,100,100,100,\"bhopal\",\"indore\",20.5,1000,100]\n",
    "for i in l1:\n",
    "    if i==100:\n",
    "        l1.remove(i)\n",
    "print(l1)"
   ]
  },
  {
   "cell_type": "code",
   "execution_count": null,
   "id": "c51afc04-c9b8-492e-afb1-80d900e41dca",
   "metadata": {},
   "outputs": [],
   "source": [
    "l1=[10,20,30,100,200,300,300,100,100,100,\"bhopal\",\"indore\",20.5,1000,100]\n",
    "for i in l1:\n",
    "    if i == 100:\n",
    "        l1.remove(i)\n",
    "print(l1)\n"
   ]
  },
  {
   "cell_type": "code",
   "execution_count": null,
   "id": "cb701477-e357-4bd7-a8d2-0422490eb4fd",
   "metadata": {},
   "outputs": [],
   "source": [
    "l1=[10,20,30,100,200,300,100,100,100,\"bhopal\",\"indore\",20.5,1000,100]\n",
    "l1.remove(100)\n",
    "print(l1)\n"
   ]
  },
  {
   "cell_type": "code",
   "execution_count": null,
   "id": "a0df4651-cd15-46db-8993-b34372d71479",
   "metadata": {},
   "outputs": [],
   "source": [
    "#clear\n",
    "l=[10,20,30,100,200,300,100,100,100,\"bhopal\",\"indore\",20.5,1000]\n",
    "l.clear()\n",
    "print(l)"
   ]
  },
  {
   "cell_type": "code",
   "execution_count": 121,
   "id": "c0c1d9f1-12ca-4974-ba67-60189b622851",
   "metadata": {},
   "outputs": [
    {
     "name": "stdout",
     "output_type": "stream",
     "text": [
      "4\n",
      "4\n"
     ]
    }
   ],
   "source": [
    "#count\n",
    "l=[10,20,30,100,200,300,100,100,100,\"bhopal\",\"indore\",20.5,1000]\n",
    "c=l.count(100)\n",
    "print(l.count(100))\n",
    "print(c)\n"
   ]
  },
  {
   "cell_type": "code",
   "execution_count": 123,
   "id": "8235dac8-accc-4233-acc3-5dbf53d25549",
   "metadata": {},
   "outputs": [
    {
     "name": "stdout",
     "output_type": "stream",
     "text": [
      "0\n"
     ]
    }
   ],
   "source": [
    "# index \n",
    "#syntx-listobject.index(value/element)\n",
    "l=[10,20,30,100,200,\"bhopal\",\"indore\",20.5,1000]\n",
    "print(l.index(10))\n"
   ]
  },
  {
   "cell_type": "code",
   "execution_count": null,
   "id": "3350bc5b-f3c0-4e03-ab78-5e88e9f9da02",
   "metadata": {},
   "outputs": [],
   "source": [
    "#sorting methods \n",
    "#syntax-listobject.sort([reverse])\n",
    "#sort method-by default return sorted list in an ascrnding order.\n",
    "#by default- optional parameter- reverse=false\n",
    "l1=[10,50,160,1641,685,1005]\n",
    "l1.sort()\n",
    "print(l1)"
   ]
  },
  {
   "cell_type": "code",
   "execution_count": null,
   "id": "06b444ff-ccf6-4e79-9f1f-61f77f766c6c",
   "metadata": {},
   "outputs": [],
   "source": [
    "# decending\\\n",
    "l1=[10,50,160,1641,685,1005]\n",
    "l1.sort(reverse=True)\n",
    "print(l1)\n"
   ]
  },
  {
   "cell_type": "code",
   "execution_count": null,
   "id": "e9855da4-d16b-4be0-a103-d17173d93a83",
   "metadata": {},
   "outputs": [],
   "source": [
    "#sorted function\n",
    "#returns a new list \n",
    "#syntax-sorted(parameter/iterable,[revese])\n",
    "l=[10,50,160,1641,685,1005]\n",
    "l1=sorted(l)\n",
    "l2=sorted(l,reverse=True)\n",
    "print(l1)\n",
    "print(l2)"
   ]
  },
  {
   "cell_type": "code",
   "execution_count": null,
   "id": "6b8d3462-b473-4141-acd0-a7833164a5cd",
   "metadata": {},
   "outputs": [],
   "source": [
    "# sorted fuction always returs a list \n",
    "tu=(10,50,40,3,0,200,1000,35,3500)\n",
    "t1=sorted(tu)\n",
    "print(t1)"
   ]
  },
  {
   "cell_type": "code",
   "execution_count": null,
   "id": "e851287b-3472-4045-999d-998d3d08853a",
   "metadata": {},
   "outputs": [],
   "source": [
    "s=\"cybrom\"\n",
    "s1=sorted(s)\n",
    "print(s1)"
   ]
  },
  {
   "cell_type": "code",
   "execution_count": null,
   "id": "6de7cfef-2309-4c4f-b530-359f8eca0d3c",
   "metadata": {},
   "outputs": [],
   "source": [
    "#logic of sorting ino ascending order\n",
    "l=[100,1,200,19]\n",
    "for i in range(len(l)):\n",
    "    for j in range(i+1,len(l)):\n",
    "        if l[i]>l[j]:\n",
    "            l[i],l[j]=l[j],l[i]\n",
    "        print(l)\n",
    "print(l)\n",
    "        \n"
   ]
  },
  {
   "cell_type": "code",
   "execution_count": null,
   "id": "30faf5e4-3cdd-4ce7-8ad2-61a8f8e59e3b",
   "metadata": {},
   "outputs": [],
   "source": [
    "#logic of sorting ino decending order\n",
    "l=[100,1,200,19]\n",
    "for i in range(len(l)):\n",
    "    for j in range(i+1,len(l)):\n",
    "        if l[i]<l[j]:\n",
    "            l[i],l[j]=l[j],l[i]\n",
    "print(l)\n",
    "        \n"
   ]
  },
  {
   "cell_type": "code",
   "execution_count": 125,
   "id": "a0aaea8f-f19e-4329-bf2d-3868fd341b09",
   "metadata": {},
   "outputs": [
    {
     "name": "stdout",
     "output_type": "stream",
     "text": [
      "[19, 200, 1, 100]\n"
     ]
    }
   ],
   "source": [
    "#reverse\n",
    "#syntax-listobject.reverse()\n",
    "l=[100,1,200,19]\n",
    "l.reverse()\n",
    "print(l)"
   ]
  },
  {
   "cell_type": "code",
   "execution_count": 127,
   "id": "9fe951f8-fda9-4f3b-9965-be8f6ad9d4e5",
   "metadata": {},
   "outputs": [
    {
     "name": "stdout",
     "output_type": "stream",
     "text": [
      "[19, 200, 1, 100]\n"
     ]
    }
   ],
   "source": [
    "l1=[100,1,200,19]\n",
    "print(l1[::-1])"
   ]
  },
  {
   "cell_type": "code",
   "execution_count": 129,
   "id": "1a4d353a-87e8-4831-99e4-7e1fb51c2b71",
   "metadata": {},
   "outputs": [
    {
     "name": "stdout",
     "output_type": "stream",
     "text": [
      "[19, 200, 1, 100]\n"
     ]
    }
   ],
   "source": [
    "# logic of reversing a list (swaping)\n",
    "l=[100,1,200,19]\n",
    "for i in range(len(l)):\n",
    "    for j in range(i+1,len(l)):\n",
    "            l[i],l[j]=l[j],l[i]\n",
    "print(l)\n",
    "        "
   ]
  },
  {
   "cell_type": "code",
   "execution_count": null,
   "id": "7e26612a-44b6-4b5d-9782-2376ecb48a17",
   "metadata": {},
   "outputs": [],
   "source": [
    "# question \n",
    "l=[(2,5),(1,2),(4,4),(2,3),(2,1)]\n",
    "for i in range (len(l)):\n",
    "    for j in range (i+1,len(l)):\n",
    "        if l[i][-1]>l[j][-1]:\n",
    "            l[i],l[j]=l[j],l[i]\n",
    "print(l)"
   ]
  },
  {
   "cell_type": "code",
   "execution_count": null,
   "id": "283442e1-c386-4caa-8da4-03ffd58c0fc7",
   "metadata": {},
   "outputs": [],
   "source": [
    "'''wap to count  the number of strings\n",
    "from a given list of strings. The string length is 2 or more\n",
    "and the first and last characters are the same .\n",
    "expected result :2'''\n",
    "l=['abc','xyz','aba','1221']\n",
    "count=0\n",
    "for i in l:\n",
    "    if len(i)>=2 and i[0]==i[-1]:\n",
    "        count=count+1\n",
    "print(count)\n"
   ]
  },
  {
   "cell_type": "code",
   "execution_count": null,
   "id": "09273844-a20c-45b5-92f2-032295c2dc78",
   "metadata": {},
   "outputs": [],
   "source": [
    "#tpple denoted by(), and comma seprated values\n",
    "#odered sequence of element ,immutable ,indexed\n",
    "#single valued  tupple\n",
    "t=(90,)\n",
    "print(type(t))"
   ]
  },
  {
   "cell_type": "code",
   "execution_count": 131,
   "id": "239e3f02-0016-4fcd-b7aa-19c10ab1aa8c",
   "metadata": {},
   "outputs": [
    {
     "name": "stdout",
     "output_type": "stream",
     "text": [
      "10 20 20.5 hello 1000 0 10\n",
      "1 20\n",
      "2 20.5\n",
      "3 hello\n",
      "4 1000\n"
     ]
    }
   ],
   "source": [
    "t=(10,20,20.5,'hello',1000)\n",
    "for i in t:\n",
    "    print(i,end=\" \")\n",
    "\n",
    "\n",
    "\n",
    "for i in range(len(t)):\n",
    "    print(i,t[i])\n",
    "    "
   ]
  },
  {
   "cell_type": "code",
   "execution_count": 135,
   "id": "79bba6af-22c1-4de3-b283-575241efbe3c",
   "metadata": {},
   "outputs": [
    {
     "name": "stdout",
     "output_type": "stream",
     "text": [
      "5\n"
     ]
    }
   ],
   "source": [
    "#length\n",
    "t=(10,20,20.5,'hello',1000)\n",
    "count=0\n",
    "for i in t:\n",
    "    count+=1\n",
    "print(count)"
   ]
  },
  {
   "cell_type": "code",
   "execution_count": 137,
   "id": "37a803db-53f4-445c-9efb-c601ececfb0e",
   "metadata": {},
   "outputs": [
    {
     "name": "stdout",
     "output_type": "stream",
     "text": [
      "1000\n",
      "10\n"
     ]
    },
    {
     "ename": "TypeError",
     "evalue": "'int' object is not callable",
     "output_type": "error",
     "traceback": [
      "\u001b[1;31m---------------------------------------------------------------------------\u001b[0m",
      "\u001b[1;31mTypeError\u001b[0m                                 Traceback (most recent call last)",
      "Cell \u001b[1;32mIn[137], line 9\u001b[0m\n\u001b[0;32m      7\u001b[0m \u001b[38;5;28mprint\u001b[39m(\u001b[38;5;28mmax\u001b[39m(t1))\n\u001b[0;32m      8\u001b[0m \u001b[38;5;28mprint\u001b[39m(\u001b[38;5;28mmin\u001b[39m(t1))\n\u001b[1;32m----> 9\u001b[0m \u001b[38;5;28mprint\u001b[39m(\u001b[38;5;28msum\u001b[39m(t1))\n",
      "\u001b[1;31mTypeError\u001b[0m: 'int' object is not callable"
     ]
    }
   ],
   "source": [
    "#max\n",
    "#min\n",
    "#sum\n",
    "t=(10,20,20.5,'hello',1000)\n",
    "#print(max(t)) cant compare different data type\"str\"& \"int\"\n",
    "t1=(10,20,20.5,1000)\n",
    "print(max(t1))\n",
    "print(min(t1))\n",
    "print(sum(t1))\n"
   ]
  },
  {
   "cell_type": "code",
   "execution_count": 139,
   "id": "6b43a7b9-6302-44b6-86b3-5f4be795f2d6",
   "metadata": {},
   "outputs": [
    {
     "name": "stdout",
     "output_type": "stream",
     "text": [
      "3\n",
      "2\n"
     ]
    }
   ],
   "source": [
    "#count\n",
    "t=(10,20,20.5,'hello',1000,'hello',10,50,10)\n",
    "print(t.count(10))\n",
    "print(t.count(\"hello\"))"
   ]
  },
  {
   "cell_type": "code",
   "execution_count": 161,
   "id": "ad55b418-a563-4ca9-b6aa-5b8592a9abe2",
   "metadata": {},
   "outputs": [
    {
     "name": "stdout",
     "output_type": "stream",
     "text": [
      "0\n"
     ]
    }
   ],
   "source": [
    "#index\n",
    "''' takes 3 parameter tupleobject.index(element,[start],[stop])\n",
    "if element is not found it gives an error'''\n",
    "t=(10,20,20.5,'hello',1000,'hello',10,50,10)\n",
    "print(t.index(10))\n",
    "\n"
   ]
  },
  {
   "cell_type": "code",
   "execution_count": null,
   "id": "620c19f0-2f2d-4a76-9fe8-34eec657c1e3",
   "metadata": {},
   "outputs": [],
   "source": [
    "t=(10,20,20.5,'hello',1000,'hello',10,50,10)\n",
    "print(t.index(50,0,7))"
   ]
  },
  {
   "cell_type": "code",
   "execution_count": 159,
   "id": "5a96a9e4-6f93-421c-8fa4-d127b7c68722",
   "metadata": {},
   "outputs": [
    {
     "name": "stdout",
     "output_type": "stream",
     "text": [
      "(10, 20, 20.5, 'hello', 1000, 'hello', 10, 50, 10, 50, 20000, 84651312, 'ram ram')\n"
     ]
    }
   ],
   "source": [
    "t1=(10,20,20.5,'hello',1000,'hello',10,50,10)\n",
    "t2=(50,20000,84651312,\"ram ram\")\n",
    "t=t1+t2\n",
    "print(t)\n"
   ]
  },
  {
   "cell_type": "code",
   "execution_count": 147,
   "id": "a4cfc874-1108-4aab-8dc0-de0f44bac8d9",
   "metadata": {},
   "outputs": [
    {
     "name": "stdout",
     "output_type": "stream",
     "text": [
      "[10, 10, 10, 20, 20.5, 50, 1000]\n",
      "<class 'list'>\n",
      "(10, 10, 10, 20, 20.5, 50, 1000)\n"
     ]
    }
   ],
   "source": [
    "# sorted function\n",
    "t=(10,20,20.5,1000,10,50,10)\n",
    "l=sorted(t)\n",
    "print(l)\n",
    "print(type(l))\n",
    "t1=tuple(l)\n",
    "print(t1)"
   ]
  },
  {
   "cell_type": "code",
   "execution_count": null,
   "id": "21b082e7-e2cf-47b8-a549-59c260d48ebe",
   "metadata": {},
   "outputs": [],
   "source": [
    "#SORTED FUNCTION LOGIC\n",
    "\n",
    "def sorted1(n,reverse=False):\n",
    "    l=list(t)\n",
    "    for i in range(len(l)):\n",
    "        for j in range(i+1,len(l)):\n",
    "            if l[i]>l[j]:\n",
    "                l[i],l[j]=l[j],l[i]\n",
    "    print(l) \n",
    "\n"
   ]
  },
  {
   "cell_type": "code",
   "execution_count": null,
   "id": "3a2c3ff2-0692-4942-9889-15d5dd7ead4f",
   "metadata": {},
   "outputs": [],
   "source": [
    "t=(10,20,20,1000,10,50,10)\n",
    "sorted1(t,reverse=False)\n"
   ]
  },
  {
   "cell_type": "code",
   "execution_count": null,
   "id": "0b17a91c-ec63-45b2-82aa-ae2ed19a0437",
   "metadata": {},
   "outputs": [],
   "source": [
    "# stack-vertical linear structure             #operation \n",
    " '''a)liner data structure                        push-adds element to the last,\n",
    " pop-removes the last element,\n",
    " peek-displys the last element ,\n",
    " display-displays whole list \n",
    "   b)it follows -LIFO=last in first out'''\n",
    "# queue                                       #operation\n",
    "'''linear data structure                          enqueue,dequeue,front ,rear\n",
    "if follows FIFO- first in first out\n",
    "\n"
   ]
  },
  {
   "cell_type": "code",
   "execution_count": null,
   "id": "0432cf1a-5846-402a-84ae-8bf410f84101",
   "metadata": {},
   "outputs": [],
   "source": [
    "# count() method - gives you the NO OF TIMES element ouccurS\n",
    "t=(10,20,20.5,'hello',1000,'hello',10,50,10)\n",
    "print(t.count(10))\n",
    "print(t.count(\"hello\"))"
   ]
  },
  {
   "cell_type": "code",
   "execution_count": null,
   "id": "efb9dff0-3798-42b8-93c0-23d308c2f1bd",
   "metadata": {},
   "outputs": [],
   "source": [
    "s=\"welcome to the city of lakes\" \n",
    "rev_s=\"\"\n",
    "print(s)\n",
    "for i in s:\n",
    "    rev_s=i+rev_s\n",
    "\n",
    "print(rev_s)\n",
    "    "
   ]
  },
  {
   "cell_type": "code",
   "execution_count": null,
   "id": "eec8b4af-94d5-4442-8d01-1d849ed28608",
   "metadata": {},
   "outputs": [],
   "source": [
    "# stack\n",
    "l=[]\n",
    "while True:\n",
    "    c=int(input('''\n",
    "    1.push\n",
    "    2.pop\n",
    "    3.peek\n",
    "    4.display\n",
    "    5.exit'''))\n",
    "    if c==1:\n",
    "        n=input((\"enter any value:\"))\n",
    "        l.append(n)\n",
    "        print(l)\n",
    "    elif c==2:\n",
    "        if len(l)==0:\n",
    "            print(\"empty stack\")\n",
    "        else:\n",
    "            p=l.pop()\n",
    "            print(p)\n",
    "            print(l)\n",
    "    elif c==3:\n",
    "        if len(l)==0:\n",
    "            print(\"empty stack\")\n",
    "        else:\n",
    "            print(\"last element:\",l[-1])\n",
    "    elif c==4:\n",
    "        print(\"display stack:\",l)\n",
    "\n",
    "    elif c==5:\n",
    "        break\n",
    "    else:\n",
    "        print(\"invalid input\")"
   ]
  },
  {
   "cell_type": "code",
   "execution_count": null,
   "id": "a0fdfd3a-a02c-4193-a47b-c2bb77dd326c",
   "metadata": {},
   "outputs": [],
   "source": [
    "#queue-linear data structure,fifo\n",
    "l=[]\n",
    "while True:\n",
    "    c=int(input('''\n",
    "    1.enqueue-add element in queue \n",
    "    2.dequeue- remove element\n",
    "    3.front\n",
    "    4.rear\n",
    "    5.display\n",
    "    6.exit ,\n",
    "    \n",
    "    '''))\n",
    "    if c==1:\n",
    "        n=input((\"enter any value:\"))\n",
    "        l.append(n)\n",
    "        print(l)\n",
    "    elif c==2:\n",
    "        if len(l)==0:\n",
    "            print(\"empty queue\")\n",
    "        else:\n",
    "            del l[0]\n",
    "            print(l)\n",
    "    elif c==3:\n",
    "        if len(l)==0:\n",
    "            print(\"empty stack\")\n",
    "        else:\n",
    "            print(\"front element:\",l[0])\n",
    "    elif c==4:\n",
    "        if len(l)==0:\n",
    "            print(\"empty stack\")\n",
    "        else:\n",
    "            print(\"rear element:\",l[-1])\n",
    "\n",
    "    elif c==5:\n",
    "        if len(l)==0:\n",
    "            print(\"empty queue\")\n",
    "        else:\n",
    "            print(\"queue:\",l)\n",
    "    elif c==6:\n",
    "        break\n",
    "    else:\n",
    "        print(\"invalid input\")"
   ]
  },
  {
   "cell_type": "code",
   "execution_count": null,
   "id": "1f3acf4a-4753-43a4-981c-e35fe7bc6eb0",
   "metadata": {},
   "outputs": [],
   "source": [
    "# #wap to find the indexing of element which makes the target sum\n",
    "# l=[1,2,6,10]         #output{1,3}\n",
    "# target=12\n",
    "# sum=0\n",
    "# for i in l:\n",
    "#     print(i)\n",
    "#     for j in range(1,len(l)):\n",
    "#         print(j)\n",
    "#         sum=i+j\n",
    "\n",
    "# print(\"sum\",sum)\n",
    "#     # if sum==target:\n",
    "#     #     print(index[i],index[j])\n",
    "        \n"
   ]
  },
  {
   "cell_type": "code",
   "execution_count": null,
   "id": "68f5d3d2-6bc9-45eb-9cd0-345a95659ca8",
   "metadata": {},
   "outputs": [],
   "source": [
    "#important\n",
    "#wap to find the indexing of element which makes the target sum\n",
    "l=[1,2,6,10]         #output{1,3}\n",
    "target=12\n",
    "sum=0\n",
    "for i in range(len(l)):\n",
    "    for j in range(i+1,len(l)):\n",
    "        sum=l[i]+l[j]\n",
    "    if sum==target:\n",
    "        print(sum)\n",
    "        print(\"position of first element\",i,\"position of second element\",j)\n",
    "\n"
   ]
  },
  {
   "cell_type": "code",
   "execution_count": 151,
   "id": "a3bd99d7-2294-425b-8778-94479e0f4e46",
   "metadata": {},
   "outputs": [
    {
     "name": "stdout",
     "output_type": "stream",
     "text": [
      "[1, 8, 27, 64, 125]\n",
      "[1, 8, 27, 64, 125]\n"
     ]
    }
   ],
   "source": [
    "#list comprihension\n",
    "# output=[1,8,27,64,125]\n",
    "\n",
    "l=[]\n",
    "for i in range(1,6):\n",
    "    l.append(i**3)\n",
    "\n",
    "print(l)\n",
    "print([i**3 for i in range(1,6)]) #example of list comprihension"
   ]
  },
  {
   "cell_type": "code",
   "execution_count": 157,
   "id": "41781e52-2fe1-4777-885f-8ae5cd84614f",
   "metadata": {},
   "outputs": [
    {
     "name": "stdout",
     "output_type": "stream",
     "text": [
      "A \n",
      "A B \n",
      "A B C \n",
      "A B C D \n",
      "A B C D E \n"
     ]
    }
   ],
   "source": [
    "\n",
    "#creating a pattern of AB\n",
    "n=5\n",
    "for i in range(n):\n",
    "    for j in range(i+1):\n",
    "        print(chr(65+j),end=\" \")\n",
    "    print()\n",
    "    "
   ]
  },
  {
   "cell_type": "code",
   "execution_count": null,
   "id": "5bd18978-5c6b-4854-b748-5ad9695f794c",
   "metadata": {},
   "outputs": [],
   "source": [
    "#creating a pattern of AB\n",
    "n=5\n",
    "for i in range(n):\n",
    "    for j in range(i+1):\n",
    "        print(chr(97+j),end=\" \")\n",
    "    print()"
   ]
  },
  {
   "cell_type": "code",
   "execution_count": null,
   "id": "9834e3e9-dc12-4dfb-b619-6c43d7cbfd60",
   "metadata": {},
   "outputs": [],
   "source": [
    "# dictionary \n",
    "#ODERED ,unindexed\n",
    "#if multiple element have to be given iN A VARIABLE IT HAS TO BE GIVEN IN LIST DATA TYPE\n",
    "\n",
    "d={\"name\":\"amit\",\"age\":25,\"sub\":\"python\"}\n",
    "print(type(d))\n",
    "print(d)"
   ]
  },
  {
   "cell_type": "code",
   "execution_count": 163,
   "id": "9295ef0f-9e94-467c-92f0-197dbf46add3",
   "metadata": {
    "scrolled": true
   },
   "outputs": [
    {
     "name": "stdout",
     "output_type": "stream",
     "text": [
      "{'name': ['abc', 'xyz', 'pqr'], 'subject': ['da', 'ds', 'java'], 'fees': [10000, 20000, 30000]}\n",
      "ds\n"
     ]
    }
   ],
   "source": [
    "# TO FETCH THE ELEMENT FROM A KEY IN A LIST \n",
    "d={\"name\":['abc','xyz',\"pqr\"],\n",
    "   'subject':['da','ds','java'],\n",
    "   'fees':[10000,20000,30000]}\n",
    "\n",
    "print(d)\n",
    "print(d['subject'][1])  # DICTIONARY IS UNINDEXED LIST IS NOT "
   ]
  },
  {
   "cell_type": "code",
   "execution_count": 165,
   "id": "d3b7dfc4-516b-4df8-958a-90964fe20c81",
   "metadata": {},
   "outputs": [
    {
     "name": "stdout",
     "output_type": "stream",
     "text": [
      "{'name': ['abc', 'xyz', 'pqr'], 'subject': ['da', 'ds', 'c++'], 'fees': [10000, 20000, 30000]}\n",
      "{'name': 'cybrom', 'subject': ['da', 'ds', 'c++'], 'fees': [10000, 20000, 30000]}\n"
     ]
    }
   ],
   "source": [
    "# NEW KEY VALUE PAIR\n",
    "d={\"name\":['abc','xyz',\"pqr\"],\n",
    "   'subject':['da','ds','java'],\n",
    "   'fees':[10000,20000,30000]}\n",
    "d['subject'][2]='c++'\n",
    "print(d)\n",
    "\n",
    "d['name']='cybrom'\n",
    "print(d)"
   ]
  },
  {
   "cell_type": "code",
   "execution_count": 177,
   "id": "bcede972-facc-4694-8a1d-342c0f0660ce",
   "metadata": {},
   "outputs": [
    {
     "name": "stdout",
     "output_type": "stream",
     "text": [
      "{'amit': ['amit', 'kajal', 'ramesh']}\n"
     ]
    }
   ],
   "source": [
    "d={}\n",
    "l=[\"amit\",'kajal',\"ramesh\"]\n",
    "for i in l:\n",
    "    \n",
    "    d[name]=l\n",
    "\n",
    "print(d)\n",
    "\n",
    "            "
   ]
  },
  {
   "cell_type": "code",
   "execution_count": null,
   "id": "c4e718d5-4874-43e0-a0f5-3cc25d3183e0",
   "metadata": {},
   "outputs": [],
   "source": [
    "#WAP OUTPUT{1:1,2:8,3:27,4:64}\n",
    "n=5\n",
    "d={}\n",
    "for i in range(1,n):\n",
    "    d[i]=i**3\n",
    "\n",
    "print(d)\n",
    "print(type(d))"
   ]
  },
  {
   "cell_type": "code",
   "execution_count": null,
   "id": "847eaa58-c342-44c4-9640-3c680418273e",
   "metadata": {},
   "outputs": [],
   "source": [
    "# iteration of list \n",
    "d={'name': ['abc', 'xyz', 'pqr'], 'subject': ['da', 'ds', 'c++'], 'fees': [10000, 20000, 30000]}\n",
    "for i in d:\n",
    "    print(i,d[i])\n",
    "    "
   ]
  },
  {
   "cell_type": "code",
   "execution_count": 167,
   "id": "d0c09eeb-6466-4a3d-869a-5f6490103e79",
   "metadata": {},
   "outputs": [
    {
     "name": "stdout",
     "output_type": "stream",
     "text": [
      "{'red': 3, 'green': 2, 'brown': 1, 'Yellow': 1, 'yellow': 1}\n"
     ]
    }
   ],
   "source": [
    "#wap to get output {'red': 3, 'green': 2, 'brown': 1, 'Yellow': 1, 'yellow': 1}\n",
    "# with this input-[\"red\",\"green,\"brown\",\"Yellow\",\"red\",\"green\",\"yellow\"]\n",
    "\n",
    "l=[\"red\",\"green\",\"red\",\"brown\",\"Yellow\",\"red\",\"green\",\"yellow\"]\n",
    "d={}\n",
    "for i in l:\n",
    "    if i in d:\n",
    "        d[i]+=1\n",
    "    else:\n",
    "        d[i]=1\n",
    "print(d)"
   ]
  },
  {
   "cell_type": "code",
   "execution_count": 199,
   "id": "bdd971ca-122a-4c1e-b82a-74734a28eaf9",
   "metadata": {},
   "outputs": [
    {
     "name": "stdout",
     "output_type": "stream",
     "text": [
      "[10000, 20000, 30000]\n"
     ]
    }
   ],
   "source": [
    "#methods of dictionary\n",
    "'''\n",
    "get()\n",
    "keys()\n",
    "values()\n",
    "items()\n",
    "'''\n",
    "d={\"name\":['abc','xyz',\"pqr\"],\n",
    "   'subject':['da','ds','java'],\n",
    "   'fees':[10000,20000,30000]}\n",
    "#get()\n",
    "#syntax-dictobject.get(key,[value])\n",
    "n=d.get(\"fees\") #it returns the values of  key\n",
    "print(n)\n",
    "\n"
   ]
  },
  {
   "cell_type": "code",
   "execution_count": 191,
   "id": "2732807f-d0e9-465c-8128-acf8694a74cd",
   "metadata": {},
   "outputs": [
    {
     "name": "stdout",
     "output_type": "stream",
     "text": [
      "23\n"
     ]
    }
   ],
   "source": [
    "d={\"name\":['abc','xyz',\"pqr\"],\n",
    "   'subject':['da','ds','java'],\n",
    "   'fees':[10000,20000,30000]}\n",
    "#get()\n",
    "n=d.get(\"age\",23)\n",
    "print(n)\n"
   ]
  },
  {
   "cell_type": "code",
   "execution_count": 205,
   "id": "bd1929c5-2d0d-4834-a05e-26d438cfdfd4",
   "metadata": {},
   "outputs": [
    {
     "name": "stdout",
     "output_type": "stream",
     "text": [
      "dict_keys(['name', 'subject', 'fees'])\n",
      "<class 'dict_keys'>\n",
      "name\n",
      "subject\n",
      "fees\n"
     ]
    }
   ],
   "source": [
    "#keys- takes no argument\n",
    "d={\"name\":['abc','xyz',\"pqr\"],\n",
    "   'subject':['da','ds','java'],\n",
    "   'fees':[10000,20000,30000]}\n",
    "k=d.keys()\n",
    "print(k)\n",
    "print(type(k))\n",
    "\n",
    "#way of iterating keys of dictionary\n",
    "for i in d.keys():\n",
    "    print(i)"
   ]
  },
  {
   "cell_type": "code",
   "execution_count": 207,
   "id": "7d7f2311-0773-4bd7-9ffc-eff15542dc7b",
   "metadata": {},
   "outputs": [
    {
     "name": "stdout",
     "output_type": "stream",
     "text": [
      "dict_values([['abc', 'xyz', 'pqr'], ['da', 'ds', 'java'], [10000, 20000, 30000]])\n",
      "['abc', 'xyz', 'pqr']\n",
      "['da', 'ds', 'java']\n",
      "[10000, 20000, 30000]\n"
     ]
    }
   ],
   "source": [
    "# values -returns only values from dictionary takes no argument\n",
    "d={\"name\":['abc','xyz',\"pqr\"],\n",
    "   'subject':['da','ds','java'],\n",
    "   'fees':[10000,20000,30000]}\n",
    "k=d.values()\n",
    "print(k)\n",
    "\n",
    "for i in d.values():\n",
    "    print(i)"
   ]
  },
  {
   "cell_type": "code",
   "execution_count": 209,
   "id": "031c448d-ca10-464f-b8b5-e67efb86e67c",
   "metadata": {},
   "outputs": [
    {
     "name": "stdout",
     "output_type": "stream",
     "text": [
      "dict_items([('name', ['abc', 'xyz', 'pqr']), ('subject', ['da', 'ds', 'java']), ('fees', [10000, 20000, 30000])])\n",
      "<class 'dict_items'>\n",
      "('name', ['abc', 'xyz', 'pqr'])\n",
      "('subject', ['da', 'ds', 'java'])\n",
      "('fees', [10000, 20000, 30000])\n"
     ]
    }
   ],
   "source": [
    "#items -# returns both the element of dictionary\n",
    "d={\"name\":['abc','xyz',\"pqr\"],\n",
    "   'subject':['da','ds','java'],\n",
    "   'fees':[10000,20000,30000]}\n",
    "k=d.items()\n",
    "print(k)\n",
    "print(type(k))\n",
    "\n",
    "\n",
    "\n",
    "for i in d.items():\n",
    "    print(i)\n"
   ]
  },
  {
   "cell_type": "code",
   "execution_count": 211,
   "id": "207778fe-8990-4155-a769-1409643ef764",
   "metadata": {},
   "outputs": [
    {
     "ename": "TypeError",
     "evalue": "dict.items() takes no arguments (1 given)",
     "output_type": "error",
     "traceback": [
      "\u001b[1;31m---------------------------------------------------------------------------\u001b[0m",
      "\u001b[1;31mTypeError\u001b[0m                                 Traceback (most recent call last)",
      "Cell \u001b[1;32mIn[211], line 9\u001b[0m\n\u001b[0;32m      2\u001b[0m d\u001b[38;5;241m=\u001b[39m{\u001b[38;5;124m\"\u001b[39m\u001b[38;5;124mname\u001b[39m\u001b[38;5;124m\"\u001b[39m:[\u001b[38;5;124m'\u001b[39m\u001b[38;5;124mabc\u001b[39m\u001b[38;5;124m'\u001b[39m,\u001b[38;5;124m'\u001b[39m\u001b[38;5;124mxyz\u001b[39m\u001b[38;5;124m'\u001b[39m,\u001b[38;5;124m\"\u001b[39m\u001b[38;5;124mpqr\u001b[39m\u001b[38;5;124m\"\u001b[39m],\n\u001b[0;32m      3\u001b[0m    \u001b[38;5;124m'\u001b[39m\u001b[38;5;124msubject\u001b[39m\u001b[38;5;124m'\u001b[39m:[\u001b[38;5;124m'\u001b[39m\u001b[38;5;124mda\u001b[39m\u001b[38;5;124m'\u001b[39m,\u001b[38;5;124m'\u001b[39m\u001b[38;5;124mds\u001b[39m\u001b[38;5;124m'\u001b[39m,\u001b[38;5;124m'\u001b[39m\u001b[38;5;124mjava\u001b[39m\u001b[38;5;124m'\u001b[39m],\n\u001b[0;32m      4\u001b[0m    \u001b[38;5;124m'\u001b[39m\u001b[38;5;124mfees\u001b[39m\u001b[38;5;124m'\u001b[39m:[\u001b[38;5;241m10000\u001b[39m,\u001b[38;5;241m20000\u001b[39m,\u001b[38;5;241m30000\u001b[39m]}\n\u001b[0;32m      5\u001b[0m k\u001b[38;5;241m=\u001b[39md\u001b[38;5;241m.\u001b[39mitems()\n\u001b[1;32m----> 9\u001b[0m \u001b[38;5;28;01mfor\u001b[39;00m i,j \u001b[38;5;129;01min\u001b[39;00m d\u001b[38;5;241m.\u001b[39mitems(\u001b[38;5;124m\"\u001b[39m\u001b[38;5;124mname\u001b[39m\u001b[38;5;124m\"\u001b[39m):            \u001b[38;5;66;03m#iterating both key and value with the help of loop \u001b[39;00m\n\u001b[0;32m     10\u001b[0m     \u001b[38;5;28mprint\u001b[39m(i)\n\u001b[0;32m     11\u001b[0m     \u001b[38;5;28mprint\u001b[39m(j)\n",
      "\u001b[1;31mTypeError\u001b[0m: dict.items() takes no arguments (1 given)"
     ]
    }
   ],
   "source": [
    "#items\n",
    "d={\"name\":['abc','xyz',\"pqr\"],\n",
    "   'subject':['da','ds','java'],\n",
    "   'fees':[10000,20000,30000]}\n",
    "k=d.items()\n",
    "\n",
    "\n",
    "\n",
    "for i,j in d.items():            #iterating both key and value with the help of loop \n",
    "    print(i)\n",
    "    print(j)\n",
    "\n",
    "\n",
    "\n"
   ]
  },
  {
   "cell_type": "code",
   "execution_count": 215,
   "id": "9e3f4394-773f-42f3-8e73-80288c12c992",
   "metadata": {},
   "outputs": [
    {
     "name": "stdout",
     "output_type": "stream",
     "text": [
      "{'subject': ['da', 'ds', 'java'], 'fees': [10000, 20000, 30000]}\n"
     ]
    }
   ],
   "source": [
    "# removing of value/element \n",
    "d={\"name\":['abc','xyz',\"pqr\"],\n",
    "   'subject':['da','ds','java'],\n",
    "   'fees':[10000,20000,30000]}\n",
    "del d[\"name\"]\n",
    "print(d)\n",
    "\n",
    "\n"
   ]
  },
  {
   "cell_type": "code",
   "execution_count": 217,
   "id": "a6eeb67d-dd19-4330-a0d0-57b236f3c512",
   "metadata": {},
   "outputs": [
    {
     "name": "stdout",
     "output_type": "stream",
     "text": [
      "{'name': ['abc', 'pqr'], 'subject': ['da', 'ds', 'java'], 'fees': [10000, 20000, 30000]}\n"
     ]
    }
   ],
   "source": [
    "# DEL removing of  single value/element  \n",
    "d={\"name\":['abc','xyz',\"pqr\"],\n",
    "   'subject':['da','ds','java'],\n",
    "   'fees':[10000,20000,30000]}\n",
    "del d[\"name\"][1]\n",
    "print(d)"
   ]
  },
  {
   "cell_type": "code",
   "execution_count": 221,
   "id": "faf503b2-046e-4621-a59a-4dade432f841",
   "metadata": {},
   "outputs": [
    {
     "name": "stdout",
     "output_type": "stream",
     "text": [
      "xyz\n",
      "{'name': ['abc', 'pqr'], 'subject': ['da', 'ds', 'java'], 'fees': [10000, 20000, 30000]}\n"
     ]
    }
   ],
   "source": [
    "#pop- dictionary pop takes one argument madnetory \n",
    "d={\"name\":['abc','xyz',\"pqr\"],\n",
    "   'subject':['da','ds','java'],\n",
    "   'fees':[10000,20000,30000]}\n",
    "print(d[\"name\"].pop(1))\n",
    "print(d)"
   ]
  },
  {
   "cell_type": "code",
   "execution_count": 223,
   "id": "e517a2f0-ff27-4f36-b446-2b92fdd60d8f",
   "metadata": {},
   "outputs": [
    {
     "name": "stdout",
     "output_type": "stream",
     "text": [
      "{'subject': ['da', 'ds', 'java'], 'fees': [10000, 20000, 30000]}\n"
     ]
    }
   ],
   "source": [
    "d={\"name\":['abc','xyz',\"pqr\"],\n",
    "   'subject':['da','ds','java'],\n",
    "   'fees':[10000,20000,30000]}\n",
    "d.pop(\"name\")  \n",
    "print(d)"
   ]
  },
  {
   "cell_type": "code",
   "execution_count": null,
   "id": "52f6f316-36e4-4b10-be2d-0efd4ed0d01a",
   "metadata": {},
   "outputs": [],
   "source": [
    "# clear()- takes no arguments \n",
    "d={\"name\":['abc','xyz',\"pqr\"],\n",
    "   'subject':['da','ds','java'],\n",
    "   'fees':[10000,20000,30000]}\n",
    "d.clear()  \n",
    "print(d)"
   ]
  },
  {
   "cell_type": "code",
   "execution_count": 225,
   "id": "c8259d82-f034-431d-bca7-879232b9f3cc",
   "metadata": {},
   "outputs": [
    {
     "name": "stdout",
     "output_type": "stream",
     "text": [
      "{'name': ['abc', 'xyz', 'pqr'], 'subject': ['da', 'ds', 'java'], 'fees': [10000, 20000, 30000], 'city': 'bhopal'}\n",
      "{'city': 'bhopal', 'name': ['abc', 'xyz', 'pqr'], 'subject': ['da', 'ds', 'java'], 'fees': [10000, 20000, 30000]}\n"
     ]
    }
   ],
   "source": [
    "#update\n",
    "d={\"name\":['abc','xyz',\"pqr\"],\n",
    "   'subject':['da','ds','java'],\n",
    "   'fees':[10000,20000,30000]}\n",
    "d1={\"city\":\"bhopal\"}\n",
    "d.update(d1)\n",
    "print(d)\n",
    "\n",
    "d1.update(d)\n",
    "print(d1)"
   ]
  },
  {
   "cell_type": "code",
   "execution_count": 227,
   "id": "24dde4eb-f585-4a45-aeba-ce8055abae46",
   "metadata": {},
   "outputs": [
    {
     "name": "stdout",
     "output_type": "stream",
     "text": [
      "{'name': ['abc', 'xyz', 'pqr'], 'subject': ['da', 'ds', 'java'], 'fees': [10000, 20000, 30000], 'city': ['bpl', 'jbp', 'gwl']}\n"
     ]
    }
   ],
   "source": [
    " #uodate\n",
    "d={\"name\":['abc','xyz',\"pqr\"],\n",
    "   'subject':['da','ds','java'],\n",
    "   'fees':[10000,20000,30000]}\n",
    "d.update(city=[\"bpl\",\"jbp\",\"gwl\"])\n",
    "print(d)\n",
    "\n"
   ]
  },
  {
   "cell_type": "code",
   "execution_count": null,
   "id": "5ac08549-02cd-4861-b737-64a75f74758d",
   "metadata": {},
   "outputs": [],
   "source": [
    "#DICT-dict is keyword to typecast into dictionary\n",
    "\n",
    "d=dict(name=['abc','xyz',\"pqr\"],subject=['da','ds','java'],fees=[10000,20000,30000])\n",
    "print(d)"
   ]
  },
  {
   "cell_type": "code",
   "execution_count": 229,
   "id": "894aadc1-2296-425f-a0bc-edec027afe92",
   "metadata": {},
   "outputs": [
    {
     "name": "stdout",
     "output_type": "stream",
     "text": [
      "brand {'samsung': {'tv': ['amoled', 'poled', 'super amloed'], 'mobile': ['s22', 's23', 's24']}, 'mi': {'tv': ['mi1', 'mi2', 'mi3'], 'mobile': ['note1', 'note2', 'note 3']}}\n",
      "['amoled', 'poled', 'super amloed']\n"
     ]
    }
   ],
   "source": [
    "d={\"brand\":{\"samsung\":{\"tv\":[\"amoled\",\"poled\",\"super amloed\"],\n",
    "                       \"mobile\":[\"s22\",\"s23\",\"s24\"]},\"mi\":{\"tv\":[\"mi1\",\"mi2\",\"mi3\"],\n",
    "                                                           \"mobile\":[\"note1\",\"note2\",\"note 3\"]}}}\n",
    "for i ,j in d.items():\n",
    "    \n",
    "    print(i,j)\n",
    "\n",
    "    print(j[\"samsung\"][\"tv\"])\n",
    "    \n"
   ]
  },
  {
   "cell_type": "code",
   "execution_count": 231,
   "id": "c7892ba0-8875-4ade-8d9a-bce1544e6959",
   "metadata": {},
   "outputs": [
    {
     "name": "stdout",
     "output_type": "stream",
     "text": [
      "{'A': 0, 'B': 1, 'C': 4, 'D': 9, 'E': 16}\n"
     ]
    }
   ],
   "source": [
    "# practice question\n",
    "l=[0,1,2,3,4]\n",
    "d={}\n",
    "for i in l:\n",
    "    d[chr(65+i)]=i**2\n",
    "    \n",
    "\n",
    "print(d)"
   ]
  },
  {
   "cell_type": "code",
   "execution_count": null,
   "id": "de7261f1-8d68-46d1-9a11-4bd8f4d09ce0",
   "metadata": {},
   "outputs": [],
   "source": [
    "'''what is python tokens\n",
    ",if else,control flow statement,'\n",
    "leap year,fibonacii serires,armstrong number,\n",
    "prime,star pattern''' "
   ]
  },
  {
   "cell_type": "code",
   "execution_count": null,
   "id": "9ad5c44b-f916-4fde-91dc-e9852b06d65b",
   "metadata": {},
   "outputs": [],
   "source": [
    "#SET-unodered,unindexed,contains unique elements\n",
    "#constructor\n",
    "#methods\n",
    "''' add\n",
    "pop\n",
    "remove\n",
    "discard\n",
    "clear\n",
    "update'''\n",
    "\n",
    "\n",
    "s=set()\n",
    "print(type(s))\n"
   ]
  },
  {
   "cell_type": "code",
   "execution_count": 237,
   "id": "b2a5317d-9228-4f0a-b4ea-9657a82c6494",
   "metadata": {},
   "outputs": [
    {
     "name": "stdout",
     "output_type": "stream",
     "text": [
      "{40, 10, 'hello', 50, 20, 30}\n",
      "<class 'set'>\n",
      "{40, 1000, 10, 'hello', 50, 20, 30}\n"
     ]
    }
   ],
   "source": [
    "l=[10,20,30,40,50,\"hello\"]\n",
    "\n",
    "s=set(l)\n",
    "print(s)\n",
    "print(type(s))\n",
    "\n",
    "# use of add method\n",
    "s.add(1000)\n",
    "print(s)"
   ]
  },
  {
   "cell_type": "code",
   "execution_count": 239,
   "id": "06437f11-04e5-4c04-b4a4-8a3e61b7232e",
   "metadata": {},
   "outputs": [
    {
     "name": "stdout",
     "output_type": "stream",
     "text": [
      "{'hello', 10, 20}\n",
      "<class 'set'>\n"
     ]
    }
   ],
   "source": [
    "# set\n",
    "s=set()\n",
    "l=[10,20,\"hello\"]\n",
    "for i in l:\n",
    "    s.add(i)\n",
    "print(s)\n",
    "print(type(s))"
   ]
  },
  {
   "cell_type": "code",
   "execution_count": 241,
   "id": "cb889108-9ac5-4d47-a520-a29606809140",
   "metadata": {},
   "outputs": [
    {
     "name": "stdout",
     "output_type": "stream",
     "text": [
      "enter the no of element you want to add : 5\n",
      "enter values 10\n",
      "enter values 103\n",
      "enter values 120\n",
      "enter values 5052\n",
      "enter values 125\n"
     ]
    },
    {
     "name": "stdout",
     "output_type": "stream",
     "text": [
      "{103, 10, 120, 5052, 125}\n",
      "<class 'set'>\n"
     ]
    }
   ],
   "source": [
    "s=set()\n",
    "n=int(input(\"enter the no of element you want to add :\"))\n",
    "for i in range(n):\n",
    "    n1=int(input(\"enter values\"))\n",
    "    s.add(n1)\n",
    "print(s)\n",
    "print(type(s))"
   ]
  },
  {
   "cell_type": "code",
   "execution_count": null,
   "id": "94a71fef-8e85-4507-b2e7-a2329e824c8f",
   "metadata": {},
   "outputs": [],
   "source": [
    "#pop()- it takes no argument \n",
    "# removes random element from set ,returns a removed element\n",
    "#setobject.pop()-\n",
    "s={'hello', 40, 10, 50, 20, 30}\n",
    "s.pop()\n",
    "print(s.pop())\n",
    "print(s)\n",
    "r=s.pop()\n",
    "print(s)\n"
   ]
  },
  {
   "cell_type": "code",
   "execution_count": 245,
   "id": "e4630341-eea9-43a8-bbcd-7e9de637ac04",
   "metadata": {},
   "outputs": [
    {
     "name": "stdout",
     "output_type": "stream",
     "text": [
      "{50, 20, 40, 10, 30}\n"
     ]
    }
   ],
   "source": [
    "#removes-it removes specific values from set \n",
    "#it takes one argument only\n",
    "# it throws key error if value /element is not present key value error\n",
    "s={'hello', 40, 10, 50, 20, 30}\n",
    "s.remove(\"hello\")\n",
    "print(s)"
   ]
  },
  {
   "cell_type": "code",
   "execution_count": 253,
   "id": "78576d72-1dbe-457f-8241-454aea440b04",
   "metadata": {},
   "outputs": [
    {
     "ename": "RuntimeError",
     "evalue": "Set changed size during iteration",
     "output_type": "error",
     "traceback": [
      "\u001b[1;31m---------------------------------------------------------------------------\u001b[0m",
      "\u001b[1;31mRuntimeError\u001b[0m                              Traceback (most recent call last)",
      "Cell \u001b[1;32mIn[253], line 5\u001b[0m\n\u001b[0;32m      3\u001b[0m s\u001b[38;5;241m=\u001b[39m{\u001b[38;5;124m'\u001b[39m\u001b[38;5;124mhello\u001b[39m\u001b[38;5;124m'\u001b[39m, \u001b[38;5;241m40\u001b[39m, \u001b[38;5;241m10\u001b[39m, \u001b[38;5;241m50\u001b[39m, \u001b[38;5;241m20\u001b[39m, \u001b[38;5;241m30\u001b[39m}\n\u001b[0;32m      4\u001b[0m l\u001b[38;5;241m=\u001b[39m[\u001b[38;5;241m10\u001b[39m,\u001b[38;5;241m20\u001b[39m,\u001b[38;5;241m30\u001b[39m]\n\u001b[1;32m----> 5\u001b[0m \u001b[38;5;28;01mfor\u001b[39;00m i \u001b[38;5;129;01min\u001b[39;00m s:\n\u001b[0;32m      6\u001b[0m     \u001b[38;5;28;01mfor\u001b[39;00m j \u001b[38;5;129;01min\u001b[39;00m l:\n\u001b[0;32m      7\u001b[0m         \u001b[38;5;28;01mif\u001b[39;00m j\u001b[38;5;241m==\u001b[39mi:\n",
      "\u001b[1;31mRuntimeError\u001b[0m: Set changed size during iteration"
     ]
    }
   ],
   "source": [
    "#discard-takes one argument only \n",
    "'''it does not give a error if element is not found '''\n",
    "s={'hello', 40, 10, 50, 20, 30}\n",
    "l=[10,20,30]\n",
    "for i in s:\n",
    "    for j in l:\n",
    "        if j==i:\n",
    "            \n",
    "            s.discard(i)\n",
    "# s.discard(40)\n",
    "print(s)\n",
    "\n",
    "\n"
   ]
  },
  {
   "cell_type": "code",
   "execution_count": null,
   "id": "3104eff5-6e96-4139-91b9-86f324f351af",
   "metadata": {},
   "outputs": [],
   "source": [
    "#clear-takes no argument ,wipes out all elememt\n",
    "\n",
    "s={'hello', 40, 10, 50, 20, 30}\n",
    "s.clear()\n",
    "print(s)"
   ]
  },
  {
   "cell_type": "code",
   "execution_count": null,
   "id": "95cfe0b7-f1db-4678-8d10-4393a16286f0",
   "metadata": {},
   "outputs": [],
   "source": [
    "# UPDATE()-UPDATES ELEMENT IN FIRST SET\n",
    "# it takes only one argumet that is {iterable or set element}\n",
    "s1={'hello', 40, 10, 50, 20, 30}\n",
    "s2={'biradar', 100, 90, 80, 70, }\n",
    "s1.update([\"hh\",\"kk\"])\n",
    "print(s1)\n",
    "print(s1)\n",
    "\n",
    "s1.update(\"cybrom\")\n",
    "print(s1)"
   ]
  },
  {
   "cell_type": "code",
   "execution_count": 255,
   "id": "ae00f7c8-20bb-4797-9e3a-564004400c62",
   "metadata": {},
   "outputs": [
    {
     "name": "stdout",
     "output_type": "stream",
     "text": [
      "{1, 2, 3, 4, 5, 6, 7, 8, 9, 10, 11, 12, 13, 14, 15}\n",
      "{8, 7}\n",
      "{1, 2, 3, 4, 5, 6}\n",
      "{1, 2, 3, 4, 5, 6, 9, 10, 11, 12, 13, 14, 15}\n"
     ]
    }
   ],
   "source": [
    "# set-methods \n",
    "s1={1,2,3,4,5,6,7,8}\n",
    "s2={7,8,9,10,11,12,13,14,15}\n",
    "u=s1|(s2) #UNION\n",
    "i=s1&(s2) #INTERSECTION\n",
    "d=s1-(s2) #DIFFERENCE\n",
    "s_d=s1^(s2) #SYMMETRIC_DIFFERENCE\n",
    "print(u)\n",
    "print(i)\n",
    "print(d)\n",
    "print(s_d)"
   ]
  },
  {
   "cell_type": "code",
   "execution_count": null,
   "id": "8f3f7868-2950-4d73-8e8b-1cd76db6c329",
   "metadata": {},
   "outputs": [],
   "source": [
    "s1={'A','B','C','D','E','F','G','H'}\n",
    "s2={'B','C','D','E','k'}\n",
    "#outputs\n",
    "#{'A', 'H', 'G', 'F'}\n",
    "#{'B', 'D', 'E', 'C'}\n",
    "#{'F', 'H', 'k', 'A', 'G'}\n",
    "\n",
    "\n",
    "print(s1-s2)\n",
    "print(s1&s2)\n",
    "print(s1^s2)\n",
    "\n",
    "\n",
    "print(s1.intersection(s2))\n",
    "print(s1.difference(s2))\n",
    "print(s1.symmetric_difference(s2))\n"
   ]
  },
  {
   "cell_type": "code",
   "execution_count": null,
   "id": "35c5b41f-30b8-4842-bad3-adcb8334ebab",
   "metadata": {},
   "outputs": [],
   "source": [
    "#frozenset -only immutable and unique element data type \n",
    "#identity of frozenset-frozenset()\n",
    "\n",
    "\n",
    "\n",
    "l=['A', 'H', 'G', 'F']\n",
    "t=('F', 'H', 'k', 'A', 'G')\n",
    "f_s=frozenset(l)\n",
    "print(type(l))\n",
    "print(type(f_s))\n",
    "f_t=frozenset(t)\n",
    "print(f_t)\n",
    "\n"
   ]
  },
  {
   "cell_type": "code",
   "execution_count": 257,
   "id": "484c6c5f-b2d3-4b9e-aaa5-c0fc7798a3b1",
   "metadata": {},
   "outputs": [
    {
     "name": "stdout",
     "output_type": "stream",
     "text": [
      "frozenset({'c', 't', 'w', 'b', 'm', ' ', 'r', 'l', 'e', 'y', 'o'})\n",
      "11\n"
     ]
    }
   ],
   "source": [
    "s=\"welcome to cybrom\"\n",
    "f_z=frozenset(s)\n",
    "print(f_z)\n",
    "print(len(f_z))\n"
   ]
  },
  {
   "cell_type": "code",
   "execution_count": null,
   "id": "3f2ee8db-845e-441d-9c98-a2da36309bc3",
   "metadata": {},
   "outputs": [],
   "source": [
    "#frozenset\n",
    "f_s={1, 2, 3,frozenset({1,2,3,4,5,6}), 4, 5, 6}\n",
    "print(f_s)\n",
    "s=frozenset({1, 2, 3,{1,2,3,4,5,6}, 4, 5, 6})\n",
    "print(s)\n"
   ]
  },
  {
   "cell_type": "code",
   "execution_count": 261,
   "id": "222aa699-ae6b-4dfc-abd0-7525247f13c3",
   "metadata": {},
   "outputs": [
    {
     "name": "stdout",
     "output_type": "stream",
     "text": [
      "(1, 100, 19, 21, 1000, 16, 12)\n",
      "[1000, 100, 21, 19, 16, 12, 1]\n",
      "(1000, 100, 21, 19, 16, 12, 1)\n"
     ]
    }
   ],
   "source": [
    "#sorting of tuple\n",
    "t=(1,100,19,21,1000,16,12)\n",
    "l=list(t)\n",
    "print(t)\n",
    "#output(1000,100,21,19,16,12,1)\n",
    "for i in range(len(l)):\n",
    "    for j in range(i+1,len(l)):\n",
    "        if l[i]<l[j]:\n",
    "            l[i],l[j]=l[j],l[i]\n",
    "\n",
    "print(l)\n",
    "print(tuple(l))\n"
   ]
  },
  {
   "cell_type": "code",
   "execution_count": 263,
   "id": "bcb6ae73-2611-433e-a136-86e35455efbc",
   "metadata": {},
   "outputs": [
    {
     "name": "stdout",
     "output_type": "stream",
     "text": [
      "ayz xbc\n"
     ]
    }
   ],
   "source": [
    "#WAP p=\"abc\",q=\"xyz output(\"ayz xbc\") \n",
    "\n",
    "p=\"abc\"\n",
    "q=\"xyz\"\n",
    "\n",
    "print(p[0]+q[1:3]+\" \"+q[0]+p[1:3])\n",
    "\n",
    "\n"
   ]
  },
  {
   "cell_type": "code",
   "execution_count": 265,
   "id": "870147bc-2f57-4ebb-9222-718c7057f93d",
   "metadata": {},
   "outputs": [
    {
     "name": "stdout",
     "output_type": "stream",
     "text": [
      "{1: 1, 2: 4, 3: 9, 4: 16, 5: 25}\n",
      "{1: 1, 2: 4, 3: 9, 4: 16, 5: 25}\n"
     ]
    }
   ],
   "source": [
    "# dictionary comprehensiion\n",
    "#d{1:1,2:4,3:9,4:16,5:25}\n",
    "n=5\n",
    "d={}\n",
    "for i in range(1,n+1):\n",
    "    d[i]=i**2\n",
    "\n",
    "print(d)\n",
    "print({i:i**2 for i in range(1,6)})\n",
    "    "
   ]
  },
  {
   "cell_type": "code",
   "execution_count": 267,
   "id": "7325caed-ba8b-4ffa-8068-387af76b5eec",
   "metadata": {},
   "outputs": [
    {
     "name": "stdout",
     "output_type": "stream",
     "text": [
      "[1, 4, 9, 16, 25]\n",
      "[1, 4, 9, 16, 25]\n"
     ]
    }
   ],
   "source": [
    "#list comprehemsion\n",
    "print([i**2 for i in range (1,6)])\n",
    "\n",
    "l=[]                            #syntax=[expression  conditional/comtrol flow statement]\n",
    "for i in range(1,6):\n",
    "    l.append(i**2)\n",
    "\n",
    "print(l)"
   ]
  },
  {
   "cell_type": "code",
   "execution_count": 277,
   "id": "0702ea42-a26d-4723-8548-ec5d7ce9d556",
   "metadata": {
    "scrolled": true
   },
   "outputs": [
    {
     "name": "stdout",
     "output_type": "stream",
     "text": [
      "{1: 1, 5: 5, 3: 27, 2: 8}\n",
      "{1: 1, 5: 125, 3: 27, 2: 8}\n"
     ]
    }
   ],
   "source": [
    "l1=[1,5,3,2]\n",
    "l2=[2,1,3,3]\n",
    "\n",
    "#{1:1,5:5,3:27,2:8} solve with dictionary comprehension\n",
    "\n",
    "print({i:i**j for i,j in zip(l1,l2) })\n",
    "print({i:i**j for i in l1 for j in l2})\n"
   ]
  },
  {
   "cell_type": "code",
   "execution_count": null,
   "id": "44ddaabd-6f56-4646-83ef-26ee1a0f87d8",
   "metadata": {},
   "outputs": [],
   "source": [
    "#output{'a':1,'c':9,'e':25,'g':49}\n",
    "# print({chr(97+i)=i**2 for i in range(5)})\n",
    "\n",
    "d={}\n",
    "for i in range(1,8,2):\n",
    "    d[chr(96+i)]=i**2\n",
    "\n",
    "print(d)\n",
    "print({chr(96+i):i**2 for i in range(1,8,2)})"
   ]
  },
  {
   "cell_type": "code",
   "execution_count": null,
   "id": "dd57d205-3a34-483a-a1d4-c9827a70c3fd",
   "metadata": {},
   "outputs": [],
   "source": [
    "# FUNCTION\n"
   ]
  },
  {
   "cell_type": "code",
   "execution_count": null,
   "id": "e197935a-b6d4-4c58-bb39-38798c71cfcd",
   "metadata": {},
   "outputs": [],
   "source": [
    "def avg(n):\n",
    "    count=1\n",
    "    sum=0\n",
    "    for i in range(n):\n",
    "        n1=int(input(\"enter any number:\"))\n",
    "        count+=1\n",
    "        sum=sum+n1\n",
    "        average=sum/count\n",
    "\n",
    "    print(\"average of numbers\",average)\n",
    "    "
   ]
  },
  {
   "cell_type": "code",
   "execution_count": null,
   "id": "bd0a0517-4ea2-46a6-a7aa-d928ee8e794c",
   "metadata": {},
   "outputs": [],
   "source": [
    "avg(5)\n",
    "\n"
   ]
  },
  {
   "cell_type": "code",
   "execution_count": null,
   "id": "d3f9b572-a946-4674-9c82-ef44e8ef34da",
   "metadata": {},
   "outputs": [],
   "source": [
    "l=[1,5,12,2,5,6,5,3,8,5,8,2]\n",
    "l.sort()\n",
    "print(l)\n",
    "    \n",
    "    "
   ]
  },
  {
   "cell_type": "code",
   "execution_count": null,
   "id": "5b8b3e3e-40ac-40a0-997d-5e3ad32b42d3",
   "metadata": {},
   "outputs": [],
   "source": [
    "l=[1,5,12,2,5,6,5,3,8,5,8,2]\n",
    "def median(l):\n",
    "    l1=sorted(l)\n",
    "    mid=len(l1)//2\n",
    "    if len(l1)%2!=0:\n",
    "        mv=l1[mid]\n",
    "        print(\"median:\",mv)\n",
    "    else:\n",
    "        mv=(l1[mid-1]+l1[mid])/2\n",
    "        print(\"median of list\",mv)\n",
    "        \n",
    "        "
   ]
  },
  {
   "cell_type": "code",
   "execution_count": null,
   "id": "07387cab-d0a9-4c59-a902-1e9c6e769b62",
   "metadata": {},
   "outputs": [],
   "source": [
    "l=[1,5,10,12,2,5,6,5,3,8,5,8,2]\n",
    "median(l)"
   ]
  },
  {
   "cell_type": "code",
   "execution_count": null,
   "id": "5d193a04-b6a7-43df-aa29-1f65428099bf",
   "metadata": {},
   "outputs": [],
   "source": [
    "l=[1,5,12,2,5,6,5,3,8,5,8,2]\n",
    "def mean(l):\n",
    "    count=0\n",
    "    sum=0\n",
    "    for i in range(len(l)):\n",
    "        count+=1\n",
    "        sum=sum+i\n",
    "        mean=sum/count\n",
    "\n",
    "    print(\"average of numbers\",mean)"
   ]
  },
  {
   "cell_type": "code",
   "execution_count": null,
   "id": "06733b7d-25df-4f31-937a-72987886e7e2",
   "metadata": {},
   "outputs": [],
   "source": [
    "l=[1,5,12,2,5,6,5,3,8,5,8,2]\n",
    "mean(l)"
   ]
  },
  {
   "cell_type": "code",
   "execution_count": null,
   "id": "502bd5f8-f506-4f28-a800-a4ffc26fa1d6",
   "metadata": {},
   "outputs": [],
   "source": [
    "l=[1,5,12,2,5,6,5,3,8,5,8,2]\n",
    "d={}\n",
    "for i in l:\n",
    "    if i in d:\n",
    "        d[i]+=1\n",
    "    else:\n",
    "        d[i]=1\n",
    "\n",
    "print(d)\n",
    "m=max(d.values())\n",
    "print(\"mode of list\",[i for i,j in d.items() if j==m])\n"
   ]
  },
  {
   "cell_type": "code",
   "execution_count": null,
   "id": "df632dad-36a9-41e9-9de3-842242543836",
   "metadata": {},
   "outputs": [],
   "source": [
    "#fuction- is block of code used to perform a specific task .\n",
    "''' increses reusability,maintain ability, '''\n",
    "#syntax- def function(): # declare function\\\n",
    "                #block of code\n",
    "#functionname()   #function calling"
   ]
  },
  {
   "cell_type": "code",
   "execution_count": null,
   "id": "3c00da83-4425-43b4-b797-4f53e5f3f6c4",
   "metadata": {},
   "outputs": [],
   "source": [
    "# without  argument without return type\n",
    "# with  argument without return type\n",
    "# without  argument with return type\n",
    "# with  argument with return type\n"
   ]
  },
  {
   "cell_type": "code",
   "execution_count": null,
   "id": "66e7b36a-a77e-4100-a7ce-06d2381b189c",
   "metadata": {},
   "outputs": [],
   "source": [
    "#fibonacii series\n",
    "def fibo(n):\n",
    "    fib=[0,1]\n",
    "    for i in range(2,n):\n",
    "        nt=fib[-1]+fib[-2]\n",
    "        fib.append(nt)\n",
    "    return fib\n",
    "        "
   ]
  },
  {
   "cell_type": "code",
   "execution_count": null,
   "id": "9e306a96-b2b4-48d3-86b2-fafc6d3ceec6",
   "metadata": {},
   "outputs": [],
   "source": [
    "fibo(5)"
   ]
  },
  {
   "cell_type": "code",
   "execution_count": null,
   "id": "f23e516a-99de-4c50-8b20-c0e02a6c9c8c",
   "metadata": {},
   "outputs": [],
   "source": [
    "# armstrong number fuction\n",
    "def armstrong(n):\n",
    "    a=len(str(n))\n",
    "    old=n\n",
    "    sumdigit=0\n",
    "    while n!=0:\n",
    "        dig=n%10\n",
    "        sumdigit=sumdigit+(dig**a)\n",
    "        n=n//10\n",
    "    return sumdigit==old\n",
    "\n"
   ]
  },
  {
   "cell_type": "code",
   "execution_count": null,
   "id": "88f25c10-54e3-4701-8719-1b0900247e85",
   "metadata": {},
   "outputs": [],
   "source": [
    "#callinng of armstrong\n",
    "x=int(input(\"enter any number:\"))\n",
    "if armstrong(x):\n",
    "    print(x,\"no is armstrong number\")\n",
    "else:\n",
    "    print(x, \"is not a armstrong number\")"
   ]
  },
  {
   "cell_type": "code",
   "execution_count": null,
   "id": "7411ea50-1ce2-4564-beb6-e38756304bdb",
   "metadata": {},
   "outputs": [],
   "source": [
    "#wap fucntion to check weather a no is prime or not witr argument with returnt type.\n",
    "#wap function to print(prime no upto N th term) with two argument start and end."
   ]
  },
  {
   "cell_type": "code",
   "execution_count": null,
   "id": "9cc8d2d5-833e-4651-abff-071d2d4ed424",
   "metadata": {},
   "outputs": [],
   "source": [
    "def prime(50)"
   ]
  },
  {
   "cell_type": "code",
   "execution_count": null,
   "id": "04e95e42-b4ca-4c5b-9873-e3a18563c707",
   "metadata": {},
   "outputs": [],
   "source": [
    "#wap fucntion to check weather a no is prime or not with argument with returnt type.\n",
    "def prime(n):\n",
    "    if n>1:\n",
    "        for i in range(2,n):\n",
    "            if n%i==0:\n",
    "                print(n,\"not a prime no \")\n",
    "            \n",
    "            else:\n",
    "                print(\" prime no \")\n",
    "            break\n",
    "    else:\n",
    "        print(\"not a prime no :\")\n",
    "    "
   ]
  },
  {
   "cell_type": "code",
   "execution_count": null,
   "id": "2da71592-087f-4ee8-9ded-53d915562522",
   "metadata": {},
   "outputs": [],
   "source": [
    "prime(7)"
   ]
  },
  {
   "cell_type": "code",
   "execution_count": null,
   "id": "97bc284b-fef8-47f3-9bb8-645864cfc5ba",
   "metadata": {},
   "outputs": [],
   "source": [
    "prime(-1)"
   ]
  },
  {
   "cell_type": "code",
   "execution_count": null,
   "id": "45c9a5b7-1325-4bb6-8029-de72efeeb9f7",
   "metadata": {},
   "outputs": [],
   "source": [
    "#wap function to print(prime no upto N th term) with two argument start and end.\n",
    "x=int(input(\"enter start point:\"))\n",
    "y=int(input(\"enter end point:\"))\n",
    "for num in range(x,y+1):\n",
    "    if num>1:\n",
    "        "
   ]
  },
  {
   "cell_type": "code",
   "execution_count": null,
   "id": "4568cf09-8f6b-45fc-98c1-af0132591371",
   "metadata": {},
   "outputs": [],
   "source": [
    "def prime(x,y):\n",
    "    l = []\n",
    "    if x>1 and y>1:\n",
    "        for i in range(x,y+1):\n",
    "            for j in range(2,i):\n",
    "                if i%j==0:\n",
    "                    break\n",
    "            else:\n",
    "                l.append(i)\n",
    "        return l\n",
    "    else:\n",
    "        print(\"choose another number\")\n",
    "                "
   ]
  },
  {
   "cell_type": "code",
   "execution_count": null,
   "id": "acae06f6-5c05-41d5-99a5-e4fda66ed5a6",
   "metadata": {},
   "outputs": [],
   "source": [
    "prime(2,31)"
   ]
  },
  {
   "cell_type": "code",
   "execution_count": null,
   "id": "4f292ec8-bf89-47b2-a1f0-b4e4be234f2b",
   "metadata": {},
   "outputs": [],
   "source": [
    "n=10\n",
    "sum=0\n",
    "for i in range(n+1):\n",
    "    sum=sum+i\n",
    "print(sum)"
   ]
  },
  {
   "cell_type": "code",
   "execution_count": null,
   "id": "483a2b00-ccd3-4ba0-8232-2661271585fe",
   "metadata": {},
   "outputs": [],
   "source": [
    "#recursion function-when function call it self within a function\n",
    "def sum(n):\n",
    "    if n==1:\n",
    "        return n\n",
    "    else:\n",
    "        return n+sum(n-1)\n",
    "\n"
   ]
  },
  {
   "cell_type": "code",
   "execution_count": null,
   "id": "c4aa835d-ee2a-42be-9de2-518a0973314c",
   "metadata": {},
   "outputs": [],
   "source": [
    "sum(10)"
   ]
  },
  {
   "cell_type": "code",
   "execution_count": null,
   "id": "9138c924-d415-49d5-ab59-1912a202f108",
   "metadata": {},
   "outputs": [],
   "source": [
    "def fct(n):\n",
    "    if n==1:\n",
    "        return n\n",
    "    else:\n",
    "        return n*fct(n-1)\n"
   ]
  },
  {
   "cell_type": "code",
   "execution_count": null,
   "id": "61def1ad-404f-4f96-b633-cf9199ae73bd",
   "metadata": {},
   "outputs": [],
   "source": [
    "fct(5)"
   ]
  },
  {
   "cell_type": "code",
   "execution_count": null,
   "id": "b2c76d90-7584-4763-8b88-f755cd37fff6",
   "metadata": {},
   "outputs": [],
   "source": [
    "def div(n):\n",
    "    if n==1:\n",
    "        return n\n",
    "    else:\n",
    "        return n/div(n-1)"
   ]
  },
  {
   "cell_type": "code",
   "execution_count": null,
   "id": "540506af-7f6f-442e-9021-4e6f5dc56f2a",
   "metadata": {},
   "outputs": [],
   "source": [
    "div(5)"
   ]
  },
  {
   "cell_type": "code",
   "execution_count": null,
   "id": "bedd7c30-c6fe-490a-a2b0-1b2882f635c3",
   "metadata": {},
   "outputs": [],
   "source": [
    "def max_2(a,b):\n",
    "        if a>b:\n",
    "            return a\n",
    "        else:\n",
    "            return b"
   ]
  },
  {
   "cell_type": "code",
   "execution_count": null,
   "id": "607fbe0e-b177-4b2b-bac2-ceefbdc846cd",
   "metadata": {},
   "outputs": [],
   "source": [
    "#wap fucntion to get highest no among three number\n",
    "def max_3(a,b,c):\n",
    "    if c>max_2(a,b):\n",
    "        return c\n",
    "    else:\n",
    "        return max_2(a,b)\n"
   ]
  },
  {
   "cell_type": "code",
   "execution_count": null,
   "id": "bad6166f-6203-49c3-bd2c-8e1e0da20652",
   "metadata": {},
   "outputs": [],
   "source": [
    "max_3(3,5,6)"
   ]
  },
  {
   "cell_type": "code",
   "execution_count": null,
   "id": "83267180-8df9-4a75-84a5-b8983320966a",
   "metadata": {},
   "outputs": [],
   "source": [
    "max_3(6,5,2)"
   ]
  },
  {
   "cell_type": "code",
   "execution_count": null,
   "id": "5ecac8b7-c398-448f-ab23-4aa8dea5f331",
   "metadata": {},
   "outputs": [],
   "source": [
    "max_3(5,6,2)"
   ]
  },
  {
   "cell_type": "code",
   "execution_count": null,
   "id": "f7e56a03-3733-490b-a89e-cbab9d75b256",
   "metadata": {},
   "outputs": [],
   "source": [
    "def max_three(a,b,c):\n",
    "    return max_2(a,max_2(b,c))"
   ]
  },
  {
   "cell_type": "code",
   "execution_count": null,
   "id": "1d36b8ef-99d2-43c1-bc6a-975a4cd9c915",
   "metadata": {},
   "outputs": [],
   "source": [
    "max_three(100,10,30)"
   ]
  },
  {
   "cell_type": "code",
   "execution_count": null,
   "id": "09adec96-fc6a-4af9-bda8-deda11e6967f",
   "metadata": {},
   "outputs": [],
   "source": [
    "#make a function of fibbonacii \n",
    "def fib():\n",
    "    a=0\n",
    "    b=1\n",
    "    n=int(input(\"enter any term:\"))\n",
    "    print(a,b,end=\" \")\n",
    "    for i in range(n):\n",
    "        c=a+b\n",
    "        a=b\n",
    "        b=c\n",
    "        print(c,end=\" \")"
   ]
  },
  {
   "cell_type": "code",
   "execution_count": 5,
   "id": "9c9892c9-34db-47ba-b0be-6d14277b0ea2",
   "metadata": {},
   "outputs": [],
   "source": [
    "#recusrsion\n",
    "def fibb(n):\n",
    "    if n<=1:\n",
    "        return n \n",
    "    else:\n",
    "        return fibb(n-1)+fibb(n-2)\n",
    "       \n",
    "        "
   ]
  },
  {
   "cell_type": "code",
   "execution_count": 9,
   "id": "2ba2fb20-e280-4372-bcfc-6f48b8a96dd1",
   "metadata": {},
   "outputs": [
    {
     "name": "stdout",
     "output_type": "stream",
     "text": [
      "enter the no of term 5\n"
     ]
    },
    {
     "name": "stdout",
     "output_type": "stream",
     "text": [
      "0 1 1 2 3 "
     ]
    }
   ],
   "source": [
    "n1=int(input(\"enter the no of term\"))\n",
    "if n1<=0:\n",
    "    print(\"enter positive int:\")\n",
    "else:\n",
    "    for i in range(n1):\n",
    "        print(fibb(i),end=\" \")"
   ]
  },
  {
   "cell_type": "code",
   "execution_count": 1,
   "id": "86082b54-0897-469a-a89c-d753f6cfae66",
   "metadata": {},
   "outputs": [],
   "source": [
    "#lamda function-is a small anonymous function /a function without name \n",
    "#it can take any no of arguments but can only have one expression.\n",
    "#lamda function mostly work with highn order function-map,reduce,filter"
   ]
  },
  {
   "cell_type": "code",
   "execution_count": 5,
   "id": "a717cb65-8c31-4a10-aba3-338776ba6ea0",
   "metadata": {},
   "outputs": [
    {
     "name": "stdout",
     "output_type": "stream",
     "text": [
      "60\n"
     ]
    }
   ],
   "source": [
    "#lamda function \n",
    "#syntax-lambda arguments:expression\n",
    "x_sum=lambda a:a+10\n",
    "print(x_sum(50))"
   ]
  },
  {
   "cell_type": "code",
   "execution_count": 9,
   "id": "94d4461b-6561-4100-8425-e2613646bb46",
   "metadata": {},
   "outputs": [
    {
     "name": "stdout",
     "output_type": "stream",
     "text": [
      "250\n"
     ]
    }
   ],
   "source": [
    "y_max=lambda a,b:a if a>b else b\n",
    "print(y_max(110,250))"
   ]
  },
  {
   "cell_type": "code",
   "execution_count": 17,
   "id": "a96be3f6-87b4-4bd8-81c1-df5f227bf4f8",
   "metadata": {},
   "outputs": [
    {
     "name": "stdout",
     "output_type": "stream",
     "text": [
      "200\n"
     ]
    }
   ],
   "source": [
    "y_maxx=lambda a,b,c: a if a>b else b if b>c else c\n",
    "print(y_maxx(100,200,50))\n"
   ]
  },
  {
   "cell_type": "code",
   "execution_count": 3,
   "id": "d36730ab-5508-4d4e-bcd3-aca4ce17ad35",
   "metadata": {},
   "outputs": [],
   "source": [
    "#map function\n",
    "\n",
    "\n"
   ]
  },
  {
   "cell_type": "code",
   "execution_count": null,
   "id": "dc18cdb3-780f-4101-89a4-b1375e8aa171",
   "metadata": {},
   "outputs": [],
   "source": [
    "#fillter-\n",
    "#fillter(function,iterables)\n"
   ]
  },
  {
   "cell_type": "code",
   "execution_count": 43,
   "id": "1a124f03-9eb3-4faf-b939-c4e9dbb40e76",
   "metadata": {},
   "outputs": [],
   "source": [
    "def filter_list(l):\n",
    "    l2=[]\n",
    "    for i in l:\n",
    "        if i>=18:\n",
    "            l2.append(i)\n",
    "            \n",
    "    return l2\n",
    "            \n",
    "    "
   ]
  },
  {
   "cell_type": "code",
   "execution_count": 33,
   "id": "1738755a-58eb-46b7-9379-49145d8b8571",
   "metadata": {},
   "outputs": [
    {
     "name": "stdout",
     "output_type": "stream",
     "text": [
      "[19, 18, 60, 50]\n"
     ]
    }
   ],
   "source": [
    "l1=[5,8,19,18,60,50,9,10]\n",
    "g_18(l1)\n"
   ]
  },
  {
   "cell_type": "code",
   "execution_count": 35,
   "id": "7e2e18e7-faea-4ffe-bdc4-b7d61aa91568",
   "metadata": {},
   "outputs": [
    {
     "name": "stdout",
     "output_type": "stream",
     "text": [
      "[19, 18, 60, 50]\n"
     ]
    }
   ],
   "source": [
    "l1=[5,8,19,18,60,50,9,10]\n",
    "\n",
    "print(list(filter(lambda i:i>=18,l1)))"
   ]
  },
  {
   "cell_type": "code",
   "execution_count": 56,
   "id": "0c50fdac-a408-42c4-a135-945af2cda252",
   "metadata": {},
   "outputs": [
    {
     "name": "stdout",
     "output_type": "stream",
     "text": [
      "[19, 18, 60, 50]\n"
     ]
    }
   ],
   "source": [
    "l1=[5,8,19,18,60,50,9,10]\n",
    "print(list(filter(filter_list(l1))))"
   ]
  },
  {
   "cell_type": "code",
   "execution_count": 1,
   "id": "0a0d7cf9-752b-41dc-a6e9-ef105be65d38",
   "metadata": {},
   "outputs": [
    {
     "name": "stdout",
     "output_type": "stream",
     "text": [
      "['madam', 'bb', 'nitin']\n"
     ]
    }
   ],
   "source": [
    "l=[\"madam\",\"cybrom\",\"bb\",\"nitin\",\"motor\"]\n",
    "print(list(filter(lambda i:i[::]==i[::-1],l)))\n"
   ]
  },
  {
   "cell_type": "code",
   "execution_count": 1,
   "id": "103fd41c-c98b-4d97-b364-b20471804fa6",
   "metadata": {},
   "outputs": [
    {
     "ename": "AttributeError",
     "evalue": "'str' object has no attribute 'reverse'",
     "output_type": "error",
     "traceback": [
      "\u001b[1;31m---------------------------------------------------------------------------\u001b[0m",
      "\u001b[1;31mAttributeError\u001b[0m                            Traceback (most recent call last)",
      "Cell \u001b[1;32mIn[1], line 2\u001b[0m\n\u001b[0;32m      1\u001b[0m l\u001b[38;5;241m=\u001b[39m[\u001b[38;5;124m\"\u001b[39m\u001b[38;5;124mmadam\u001b[39m\u001b[38;5;124m\"\u001b[39m,\u001b[38;5;124m\"\u001b[39m\u001b[38;5;124mcybrom\u001b[39m\u001b[38;5;124m\"\u001b[39m,\u001b[38;5;124m\"\u001b[39m\u001b[38;5;124mbb\u001b[39m\u001b[38;5;124m\"\u001b[39m,\u001b[38;5;124m\"\u001b[39m\u001b[38;5;124mnitin\u001b[39m\u001b[38;5;124m\"\u001b[39m,\u001b[38;5;124m\"\u001b[39m\u001b[38;5;124mmotor\u001b[39m\u001b[38;5;124m\"\u001b[39m]\n\u001b[1;32m----> 2\u001b[0m \u001b[38;5;28mprint\u001b[39m(\u001b[38;5;28mlist\u001b[39m(\u001b[38;5;28mfilter\u001b[39m(\u001b[38;5;28;01mlambda\u001b[39;00m i:i[::]\u001b[38;5;241m==\u001b[39mi\u001b[38;5;241m.\u001b[39mreverse(),l)))\n",
      "Cell \u001b[1;32mIn[1], line 2\u001b[0m, in \u001b[0;36m<lambda>\u001b[1;34m(i)\u001b[0m\n\u001b[0;32m      1\u001b[0m l\u001b[38;5;241m=\u001b[39m[\u001b[38;5;124m\"\u001b[39m\u001b[38;5;124mmadam\u001b[39m\u001b[38;5;124m\"\u001b[39m,\u001b[38;5;124m\"\u001b[39m\u001b[38;5;124mcybrom\u001b[39m\u001b[38;5;124m\"\u001b[39m,\u001b[38;5;124m\"\u001b[39m\u001b[38;5;124mbb\u001b[39m\u001b[38;5;124m\"\u001b[39m,\u001b[38;5;124m\"\u001b[39m\u001b[38;5;124mnitin\u001b[39m\u001b[38;5;124m\"\u001b[39m,\u001b[38;5;124m\"\u001b[39m\u001b[38;5;124mmotor\u001b[39m\u001b[38;5;124m\"\u001b[39m]\n\u001b[1;32m----> 2\u001b[0m \u001b[38;5;28mprint\u001b[39m(\u001b[38;5;28mlist\u001b[39m(\u001b[38;5;28mfilter\u001b[39m(\u001b[38;5;28;01mlambda\u001b[39;00m i:i[::]\u001b[38;5;241m==\u001b[39mi\u001b[38;5;241m.\u001b[39mreverse(),l)))\n",
      "\u001b[1;31mAttributeError\u001b[0m: 'str' object has no attribute 'reverse'"
     ]
    }
   ],
   "source": [
    "l=[\"madam\",\"cybrom\",\"bb\",\"nitin\",\"motor\"]\n",
    "print(list(filter(lambda i:i[::]==i.reverse(),l)))"
   ]
  },
  {
   "cell_type": "code",
   "execution_count": 7,
   "id": "0f61f583-b740-419d-88d0-6d183781e0a4",
   "metadata": {},
   "outputs": [
    {
     "name": "stdout",
     "output_type": "stream",
     "text": [
      "[26, 39, 65, 221]\n"
     ]
    }
   ],
   "source": [
    "l=[1,4,15,18,26,39,11,65,123,221]\n",
    "\n",
    "#output-[26,39,65,221]\n",
    "print(list(filter(lambda i:i%13==0,l)))\n",
    "3"
   ]
  },
  {
   "cell_type": "code",
   "execution_count": 4,
   "id": "26f1d3eb-a65f-4538-b7c7-a26241dceecc",
   "metadata": {},
   "outputs": [],
   "source": [
    "#reduce\n",
    "#functool_library-> import functool as f\n",
    "\n"
   ]
  },
  {
   "cell_type": "code",
   "execution_count": 70,
   "id": "10cb2b5c-5e5e-44d7-8002-94c609bc5936",
   "metadata": {},
   "outputs": [
    {
     "name": "stdout",
     "output_type": "stream",
     "text": [
      "55\n",
      "155\n"
     ]
    }
   ],
   "source": [
    "l=[1,2,3,4,5,6,7,8,9,10]\n",
    "from functools import reduce\n",
    "print(reduce(lambda x,y:x+y,l))\n",
    "print(reduce(lambda x,y:x+y,l,100))"
   ]
  },
  {
   "cell_type": "code",
   "execution_count": 68,
   "id": "df827cc3-3fb4-4ebf-a465-49bbc21eda7f",
   "metadata": {},
   "outputs": [
    {
     "name": "stdout",
     "output_type": "stream",
     "text": [
      "1000\n",
      "-19\n"
     ]
    }
   ],
   "source": [
    "l=[10,20,100,-19,1,1000]\n",
    "from functools import reduce\n",
    "print(reduce(lambda x,y: x if x>y else y,l))\n",
    "print(reduce(lambda x,y: x if x<y else y,l))"
   ]
  },
  {
   "cell_type": "code",
   "execution_count": 72,
   "id": "a3356c76-cdd1-444e-94ec-f53616794505",
   "metadata": {},
   "outputs": [
    {
     "name": "stdout",
     "output_type": "stream",
     "text": [
      "1000\n",
      "-19\n"
     ]
    }
   ],
   "source": [
    "def maxx(x,y):\n",
    "    if x>y:\n",
    "        return x\n",
    "    return y\n",
    "\n",
    "\n",
    "def minn(x,y):\n",
    "    if x<y:\n",
    "        return x\n",
    "    return y\n",
    "\n",
    "\n",
    "def avgg(l):\n",
    "    sum=0\n",
    "    count=len(l)\n",
    "    for i in l:\n",
    "        sum+=i/count\n",
    "        \n",
    "l=[10,20,100,-19,1,1000]\n",
    "print(reduce(maxx,l))\n",
    "print(reduce(minn,l))\n"
   ]
  },
  {
   "cell_type": "code",
   "execution_count": null,
   "id": "266e04ed-646e-4a5a-8501-ffe862dac434",
   "metadata": {},
   "outputs": [],
   "source": []
  }
 ],
 "metadata": {
  "kernelspec": {
   "display_name": "Python 3",
   "language": "python",
   "name": "python3"
  },
  "language_info": {
   "codemirror_mode": {
    "name": "ipython",
    "version": 3
   },
   "file_extension": ".py",
   "mimetype": "text/x-python",
   "name": "python",
   "nbconvert_exporter": "python",
   "pygments_lexer": "ipython3",
   "version": "3.13.0"
  }
 },
 "nbformat": 4,
 "nbformat_minor": 5
}
