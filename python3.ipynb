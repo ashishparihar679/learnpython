{
 "cells": [
  {
   "cell_type": "code",
   "execution_count": 2,
   "id": "59c4a99e",
   "metadata": {},
   "outputs": [
    {
     "name": "stdout",
     "output_type": "stream",
     "text": [
      "a=10 b= 11 c=30\n"
     ]
    }
   ],
   "source": [
    "def myfunc(a,b,c):\n",
    "    print(f\"a={a} b= {b} c={c}\")\n",
    "myfunc(a=10,c=30,b=11)"
   ]
  },
  {
   "cell_type": "markdown",
   "id": "a73ec059",
   "metadata": {},
   "source": [
    "opp concept in python\n"
   ]
  },
  {
   "cell_type": "code",
   "execution_count": null,
   "id": "c9f57ede",
   "metadata": {},
   "outputs": [],
   "source": []
  }
 ],
 "metadata": {
  "kernelspec": {
   "display_name": "Python 3",
   "language": "python",
   "name": "python3"
  },
  "language_info": {
   "codemirror_mode": {
    "name": "ipython",
    "version": 3
   },
   "file_extension": ".py",
   "mimetype": "text/x-python",
   "name": "python",
   "nbconvert_exporter": "python",
   "pygments_lexer": "ipython3",
   "version": "3.13.0"
  }
 },
 "nbformat": 4,
 "nbformat_minor": 5
}
