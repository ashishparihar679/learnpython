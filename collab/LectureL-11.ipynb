{
 "cells": [
  {
   "cell_type": "code",
   "execution_count": 7,
   "id": "80e98ff5-b0f0-4d8c-9503-f95168127d05",
   "metadata": {},
   "outputs": [
    {
     "name": "stdout",
     "output_type": "stream",
     "text": [
      "[1, 2, 3, [4, 5, 6]]\n",
      "[4, 5, 6]\n",
      "3\n"
     ]
    }
   ],
   "source": [
    "#list\n",
    "#multiple list\n",
    "a=[1,2,3,[4,5,6]]\n",
    "print(a)\n",
    "print(a[3])\n",
    "print(a[2])"
   ]
  },
  {
   "cell_type": "code",
   "execution_count": 24,
   "id": "2b7014a8-ff64-40d2-a970-0d2468043ccd",
   "metadata": {},
   "outputs": [
    {
     "name": "stdout",
     "output_type": "stream",
     "text": [
      "8\n"
     ]
    }
   ],
   "source": [
    "#multidimensionallist\n",
    "a=[1,2,3,[4,5,6,[7,8,9]]]\n",
    "print(a[3][3][1])"
   ]
  },
  {
   "cell_type": "code",
   "execution_count": 36,
   "id": "33f13a6b-d12a-4e78-8f1f-a24d52686860",
   "metadata": {},
   "outputs": [
    {
     "name": "stdout",
     "output_type": "stream",
     "text": [
      "['DA', 'DS', 'FULLSTACK']\n",
      "DS\n"
     ]
    }
   ],
   "source": [
    "a=[\"DA\",\"DS\",\"FULLSTACK\"]\n",
    "print(a)\n",
    "print(a[-1][-2])"
   ]
  }
 ],
 "metadata": {
  "kernelspec": {
   "display_name": "Python 3 (ipykernel)",
   "language": "python",
   "name": "python3"
  },
  "language_info": {
   "codemirror_mode": {
    "name": "ipython",
    "version": 3
   },
   "file_extension": ".py",
   "mimetype": "text/x-python",
   "name": "python",
   "nbconvert_exporter": "python",
   "pygments_lexer": "ipython3",
   "version": "3.12.7"
  }
 },
 "nbformat": 4,
 "nbformat_minor": 5
}
