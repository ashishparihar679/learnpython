{
 "cells": [
  {
   "cell_type": "code",
   "execution_count": 7,
   "id": "535a8d46-da51-436f-b664-857f2f7aa679",
   "metadata": {},
   "outputs": [
    {
     "name": "stdout",
     "output_type": "stream",
     "text": [
      "class is of  python and strenth is 45 and center is Indrapuri\n",
      "class is of 45 and strenth is  python and center is Indrapuri\n"
     ]
    }
   ],
   "source": [
    " class_s =\" python\"\n",
    "strength = 45\n",
    "center = \"Indrapuri\"\n",
    "print(f\"class is of {class_s} and strenth is {strength} and center is {center}\")\n",
    "print(\"class is of {} and strenth is {} and center is {}\".format(strength,class_s,center))\n",
    "#data \n",
    "#stucture data \n",
    "# unstucture data\n",
    "# semistucture data\n",
    "#(if null,NA,nullif , fill if) are flow of funtion\n",
    " "
   ]
  },
  {
   "cell_type": "code",
   "execution_count": 2,
   "id": "aede4d2f",
   "metadata": {},
   "outputs": [
    {
     "name": "stdout",
     "output_type": "stream",
     "text": [
      "ashish\n"
     ]
    }
   ],
   "source": [
    "str1 = \"ashish\"\n",
    "print(str1)"
   ]
  },
  {
   "cell_type": "code",
   "execution_count": null,
   "id": "e04792a7",
   "metadata": {},
   "outputs": [],
   "source": []
  },
  {
   "cell_type": "markdown",
   "id": "2b3c8c82",
   "metadata": {},
   "source": [
    "str1 = \"ashish\"\n",
    "print(str1)"
   ]
  },
  {
   "cell_type": "markdown",
   "id": "169f46e8",
   "metadata": {},
   "source": []
  },
  {
   "cell_type": "markdown",
   "id": "7d4a50b3",
   "metadata": {},
   "source": []
  },
  {
   "cell_type": "code",
   "execution_count": 1,
   "id": "fe7d1d19-1f3c-4823-9496-98d8c850df20",
   "metadata": {},
   "outputs": [
    {
     "name": "stdout",
     "output_type": "stream",
     "text": [
      " CYBROM INDRAPURI\n"
     ]
    }
   ],
   "source": [
    "# Fuction \n",
    "str1= \" Cybrom Indrapuri\"\n",
    "str2= str1.upper()\n",
    "print(str2)\n"
   ]
  },
  {
   "cell_type": "code",
   "execution_count": 15,
   "id": "bfa91aa7-cfb9-4480-aa22-7c6fe3d9675b",
   "metadata": {},
   "outputs": [
    {
     "name": "stdout",
     "output_type": "stream",
     "text": [
      " cybrom indrapuri\n"
     ]
    }
   ],
   "source": [
    "str1= \" CYBROM INDRAPURI\"\n",
    "str2= str1.lower()\n",
    "print(str2)"
   ]
  },
  {
   "cell_type": "code",
   "execution_count": 23,
   "id": "0d9e61aa-d37f-45df-9298-b1de71a5a8e4",
   "metadata": {},
   "outputs": [
    {
     "name": "stdout",
     "output_type": "stream",
     "text": [
      "Cybrom indrapuri\n"
     ]
    }
   ],
   "source": [
    "str1= \"cybrom indrapuri\"\n",
    "str2= str1.capitalize()\n",
    "print(str2)\n"
   ]
  },
  {
   "cell_type": "code",
   "execution_count": 35,
   "id": "712b0fed-04fb-4dbf-a1ce-98faf2cae67c",
   "metadata": {},
   "outputs": [
    {
     "name": "stdout",
     "output_type": "stream",
     "text": [
      "False\n"
     ]
    }
   ],
   "source": [
    "str1= \"cybrom indrapuri\"\n",
    "str2= str1.startswith(\"i\")\n",
    "print(str2)"
   ]
  },
  {
   "cell_type": "code",
   "execution_count": 41,
   "id": "d892a98f-e662-49da-9e0f-a62b52126c57",
   "metadata": {},
   "outputs": [
    {
     "name": "stdout",
     "output_type": "stream",
     "text": [
      "True\n"
     ]
    }
   ],
   "source": [
    "str1= \"cybrom indrapuri\"\n",
    "str2= str1.endswith(\"i\")\n",
    "print(str2)"
   ]
  },
  {
   "cell_type": "code",
   "execution_count": 43,
   "id": "e87c2821-eb80-4c41-8457-1750318d3270",
   "metadata": {},
   "outputs": [
    {
     "name": "stdout",
     "output_type": "stream",
     "text": [
      " CYbrom IndraPURI\n"
     ]
    }
   ],
   "source": [
    "str1= \" cyBROM iNDRApuri\"\n",
    "str2= str1.swapcase()\n",
    "print(str2)"
   ]
  },
  {
   "cell_type": "code",
   "execution_count": 45,
   "id": "4950d0b7-8000-4502-8ae3-641222c0967c",
   "metadata": {},
   "outputs": [
    {
     "name": "stdout",
     "output_type": "stream",
     "text": [
      " cybROM INDRapuri\n"
     ]
    }
   ],
   "source": [
    "str1= \" CYBrom indrAPURI\"\n",
    "str2= str1.swapcase()\n",
    "print(str2)"
   ]
  },
  {
   "cell_type": "code",
   "execution_count": 47,
   "id": "72e29bb6-71cc-45f4-a0f0-7420bf5e2183",
   "metadata": {},
   "outputs": [
    {
     "name": "stdout",
     "output_type": "stream",
     "text": [
      " cybrom indrapuri\n",
      "original string: CYBROM INDRAPURI\n",
      "returned string: cybrom indrapuri\n"
     ]
    }
   ],
   "source": [
    "str1= \" CYBROM INDRAPURI\"\n",
    "str2= str1.capitalize()\n",
    "print(str2)\n",
    "print(f\"original string:{str1}\")\n",
    "print(f\"returned string:{str2}\")"
   ]
  },
  {
   "cell_type": "code",
   "execution_count": 57,
   "id": "b9145227-788d-4f7b-b9ba-3044c1736d42",
   "metadata": {},
   "outputs": [
    {
     "name": "stdout",
     "output_type": "stream",
     "text": [
      "0\n"
     ]
    }
   ],
   "source": [
    "str1= \"cybrom indrapuri\"\n",
    "str2=str1.find(\"c\")\n",
    "print(str2)"
   ]
  },
  {
   "cell_type": "code",
   "execution_count": 71,
   "id": "e9db1fbe-814a-426b-87a1-683998278b36",
   "metadata": {},
   "outputs": [
    {
     "name": "stdout",
     "output_type": "stream",
     "text": [
      "cybrom mpnager\n"
     ]
    }
   ],
   "source": [
    "str1= \"cybrom indrapuri\"\n",
    "str2=str1.replace(\"indrapuri\",\"mpnager\")\n",
    "print(str2)\n",
    "\n"
   ]
  }
 ],
 "metadata": {
  "kernelspec": {
   "display_name": "Python 3",
   "language": "python",
   "name": "python3"
  },
  "language_info": {
   "codemirror_mode": {
    "name": "ipython",
    "version": 3
   },
   "file_extension": ".py",
   "mimetype": "text/x-python",
   "name": "python",
   "nbconvert_exporter": "python",
   "pygments_lexer": "ipython3",
   "version": "3.13.0"
  }
 },
 "nbformat": 4,
 "nbformat_minor": 5
}
