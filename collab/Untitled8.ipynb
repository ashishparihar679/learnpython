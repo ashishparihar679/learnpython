{
 "cells": [
  {
   "cell_type": "code",
   "execution_count": 45,
   "id": "bf62457c-8441-4fb0-967c-e9a01bc5d53d",
   "metadata": {},
   "outputs": [
    {
     "name": "stdout",
     "output_type": "stream",
     "text": [
      "morbyC\n",
      "Cybrom\n"
     ]
    }
   ],
   "source": [
    "# string Indexing []ordered\n",
    "a= \"We are Cybrom\"\n",
    "print(a[-1:-7:-1])\n",
    "print(a[7:16:])\n"
   ]
  },
  {
   "cell_type": "code",
   "execution_count": 59,
   "id": "b1af5d81-0b4e-493b-939e-5a8d79821399",
   "metadata": {},
   "outputs": [
    {
     "name": "stdout",
     "output_type": "stream",
     "text": [
      "Cybrom\n",
      "e\n"
     ]
    }
   ],
   "source": [
    "a= \"We are Cybrom\"\n",
    "print(a[-6::1])\n",
    "print(a[1::-6])\n",
    "\n"
   ]
  },
  {
   "cell_type": "code",
   "execution_count": 61,
   "id": "dff6b7be-2411-44b5-9bd3-759e37522cc9",
   "metadata": {},
   "outputs": [
    {
     "name": "stdout",
     "output_type": "stream",
     "text": [
      "CYBROM INDRAPURI\n"
     ]
    }
   ],
   "source": [
    "#Converting strinng into uppercase\n",
    "str1=\"Cybrom Indrapuri\"\n",
    "str2=str1.upper()\n",
    "print(str2)"
   ]
  },
  {
   "cell_type": "code",
   "execution_count": 71,
   "id": "5d039936-e071-47be-a4e0-760fb01e285d",
   "metadata": {},
   "outputs": [
    {
     "ename": "SyntaxError",
     "evalue": "invalid syntax (1640172565.py, line 11)",
     "output_type": "error",
     "traceback": [
      "\u001b[1;36m  Cell \u001b[1;32mIn[71], line 11\u001b[1;36m\u001b[0m\n\u001b[1;33m    print(f \"class is {s_class} centeris{center} and Strength is {Strength}\")\u001b[0m\n\u001b[1;37m            ^\u001b[0m\n\u001b[1;31mSyntaxError\u001b[0m\u001b[1;31m:\u001b[0m invalid syntax\n"
     ]
    }
   ],
   "source": [
    "#Converting strinng into lowercase\n",
    "str1=\"Cybrom Indrapuri\"\n",
    "str2=str1.lower()\n",
    "print(str2)\n",
    "# argument Instruction\n",
    "# keyword Instructions\n",
    "\n",
    "s_class=\"python\"\n",
    "center=\" Cybrom\"\n",
    "Strength=\" 23\"\n",
    "print(\"class is {s_class} center is{center} and Strength is {Strength}\")\n",
    "\n"
   ]
  }
 ],
 "metadata": {
  "kernelspec": {
   "display_name": "Python 3 (ipykernel)",
   "language": "python",
   "name": "python3"
  },
  "language_info": {
   "codemirror_mode": {
    "name": "ipython",
    "version": 3
   },
   "file_extension": ".py",
   "mimetype": "text/x-python",
   "name": "python",
   "nbconvert_exporter": "python",
   "pygments_lexer": "ipython3",
   "version": "3.12.7"
  }
 },
 "nbformat": 4,
 "nbformat_minor": 5
}
