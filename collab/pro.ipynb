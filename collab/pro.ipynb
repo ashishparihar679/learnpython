{
 "cells": [
  {
   "cell_type": "code",
   "execution_count": null,
   "metadata": {},
   "outputs": [],
   "source": [
    "import pandas as pd\n",
    "import numpy as np\n",
    "from sklearn.cluster import KMeans\n",
    "import matplotlib.pyplot as plt\n",
    "from geopy.geocoders import Nominatim\n",
    "\n",
    "# Step 1: Load the data (Replace 'crime_data.csv' with your dataset)\n",
    "# Ensure the dataset has columns like 'latitude', 'longitude', 'crime_count', etc.\n",
    "try:\n",
    "    crime_data = pd.read_csv('crime_data.csv')\n",
    "    print(\"Data Loaded Successfully!\")\n",
    "except FileNotFoundError:\n",
    "    print(\"Dataset not found. Please ensure 'crime_data.csv' is in the working directory.\")\n",
    "    exit()\n",
    "\n",
    "# Step 2: Preprocess the data\n",
    "crime_data = crime_data.dropna()  # Remove missing values\n",
    "crime_data = crime_data[['latitude', 'longitude', 'crime_count']]  # Select relevant columns\n",
    "\n",
    "# Step 3: Apply K-Means Clustering to identify hotspots\n",
    "kmeans = KMeans(n_clusters=5, random_state=42)  # Assuming 5 hotspots\n",
    "crime_data['cluster'] = kmeans.fit_predict(crime_data[['latitude', 'longitude']])\n",
    "\n",
    "# Step 4: Visualize the clusters (optional for agencies)\n",
    "plt.figure(figsize=(10, 6))\n",
    "for cluster in range(5):\n",
    "    cluster_data = crime_data[crime_data['cluster'] == cluster]\n",
    "    plt.scatter(cluster_data['longitude'], cluster_data['latitude'], label=f'Hotspot {cluster}')\n",
    "plt.xlabel('Longitude')\n",
    "plt.ylabel('Latitude')\n",
    "plt.title('Crime Hotspots')\n",
    "plt.legend()\n",
    "plt.show()\n",
    "\n",
    "# Step 5: Generate alerts for agencies\n",
    "geolocator = Nominatim(user_agent=\"crime_hotspot_detector\")\n",
    "alerts = []\n",
    "for cluster in range(5):\n",
    "    cluster_data = crime_data[crime_data['cluster'] == cluster]\n",
    "    if cluster_data['crime_count'].sum() > 50:  # Threshold for crime hotspot\n",
    "        # Get approximate location for the cluster\n",
    "        center_lat = cluster_data['latitude'].mean()\n",
    "        center_lon = cluster_data['longitude'].mean()\n",
    "        location = geolocator.reverse((center_lat, center_lon), language='en')\n",
    "        alerts.append(f\"Hotspot Detected: Cluster {cluster} near {location.address}. Notify agencies.\")\n",
    "\n",
    "# Step 6: Print the alerts\n",
    "for alert in alerts:\n",
    "    print(alert)\n",
    "\n",
    "# Step 7: Save alerts to a file\n",
    "with open('alerts.txt', 'w') as file:\n",
    "    for alert in alerts:\n",
    "        file.write(alert + '\\n')"
   ]
  },
  {
   "cell_type": "code",
   "execution_count": null,
   "metadata": {},
   "outputs": [],
   "source": [
    "pip install scikit-learn\n"
   ]
  }
 ],
 "metadata": {
  "kernelspec": {
   "display_name": "Python 3",
   "language": "python",
   "name": "python3"
  },
  "language_info": {
   "name": "python",
   "version": "3.13.0"
  }
 },
 "nbformat": 4,
 "nbformat_minor": 2
}
