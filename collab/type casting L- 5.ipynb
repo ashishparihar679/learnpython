{
 "cells": [
  {
   "cell_type": "code",
   "execution_count": 33,
   "id": "f222fb70-5512-4a9e-a1ed-c587d71bd80b",
   "metadata": {},
   "outputs": [
    {
     "name": "stdout",
     "output_type": "stream",
     "text": [
      "6\n"
     ]
    },
    {
     "name": "stdin",
     "output_type": "stream",
     "text": [
      "enter the value1: 10\n",
      "enter the value1: 10\n"
     ]
    },
    {
     "name": "stdout",
     "output_type": "stream",
     "text": [
      "20\n"
     ]
    }
   ],
   "source": [
    "# Type casting integer\n",
    "a=\"3\"\n",
    "b=\"3\"\n",
    "print(int(a)+int(b))\n",
    "\n",
    "\n",
    "# taking input from user\n",
    "a=int(input(\"enter the value1:\"))\n",
    "b= int(input(\"enter the value2:\"))\n",
    "print(a+b)\n",
    "\n",
    "    "
   ]
  },
  {
   "cell_type": "code",
   "execution_count": 35,
   "id": "cab00e9f-52f4-47eb-bbd8-0c10df30f6ad",
   "metadata": {},
   "outputs": [
    {
     "name": "stdin",
     "output_type": "stream",
     "text": [
      "enter the value1: 20.2\n",
      "enter the value1: 3.5\n"
     ]
    },
    {
     "name": "stdout",
     "output_type": "stream",
     "text": [
      "23.7\n"
     ]
    }
   ],
   "source": [
    "a=float(input(\"enter the value1:\"))\n",
    "b= float(input(\"enter the value2:\"))\n",
    "print(a+b)"
   ]
  },
  {
   "cell_type": "code",
   "execution_count": 37,
   "id": "61aa0dda-eb91-4e83-b269-d96ecc0e7f0e",
   "metadata": {},
   "outputs": [
    {
     "name": "stdin",
     "output_type": "stream",
     "text": [
      "enter the value1: 10\n",
      "enter the value2: 20\n"
     ]
    },
    {
     "name": "stdout",
     "output_type": "stream",
     "text": [
      "1020\n"
     ]
    }
   ],
   "source": [
    "a=(input(\"enter the value1:\"))\n",
    "b= (input(\"enter the value2:\"))\n",
    "print(a+b)"
   ]
  },
  {
   "cell_type": "code",
   "execution_count": 41,
   "id": "17e5e61c-b337-42ec-bfde-89eeefba815d",
   "metadata": {},
   "outputs": [
    {
     "name": "stdin",
     "output_type": "stream",
     "text": [
      "enter the value1: indrapuri\n",
      "enter the value2: cybrom\n"
     ]
    },
    {
     "name": "stdout",
     "output_type": "stream",
     "text": [
      "indrapuri cybrom\n"
     ]
    }
   ],
   "source": [
    "a=(input(\"enter the value1:\"))\n",
    "b= (input(\"enter the value2:\"))\n",
    "print(a+\"  \"+b)"
   ]
  },
  {
   "cell_type": "code",
   "execution_count": 47,
   "id": "10ab3719-091c-4106-90b9-97ddd0d4bf23",
   "metadata": {},
   "outputs": [
    {
     "name": "stdin",
     "output_type": "stream",
     "text": [
      "enter the value1: 20\n",
      "enter the value2: 3.2\n"
     ]
    },
    {
     "name": "stdout",
     "output_type": "stream",
     "text": [
      "23.2\n"
     ]
    }
   ],
   "source": [
    "a=eval(input(\"enter the value1:\"))\n",
    "b=eval(input(\"enter the value2:\"))\n",
    "print(a+b)"
   ]
  }
 ],
 "metadata": {
  "kernelspec": {
   "display_name": "Python 3 (ipykernel)",
   "language": "python",
   "name": "python3"
  },
  "language_info": {
   "codemirror_mode": {
    "name": "ipython",
    "version": 3
   },
   "file_extension": ".py",
   "mimetype": "text/x-python",
   "name": "python",
   "nbconvert_exporter": "python",
   "pygments_lexer": "ipython3",
   "version": "3.12.7"
  }
 },
 "nbformat": 4,
 "nbformat_minor": 5
}
