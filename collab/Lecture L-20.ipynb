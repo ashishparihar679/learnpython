{
 "cells": [
  {
   "cell_type": "code",
   "execution_count": null,
   "id": "4a42618d-26f2-43dc-9b73-324d4db2e4af",
   "metadata": {},
   "outputs": [],
   "source": [
    "n=int(input(\"enter the number\"))\n",
    "sum_e=0\n",
    "sum_o=0\n",
    "\n",
    "for i in range(1,n+1):\n",
    "    if i%2 == 0:\n",
    "        sum_e = sum_e+i\n",
    "    else:\n",
    "        sum_o =sum_o+i\n",
    "print(sum_e)\n",
    "print(sum_o)"
   ]
  },
  {
   "cell_type": "code",
   "execution_count": null,
   "id": "b6e10627-4380-44d2-8c23-b21424f3cd42",
   "metadata": {},
   "outputs": [],
   "source": [
    "n=int(input(\"enter the number\"))\n",
    "sum_e=0\n",
    "sum_o=0\n",
    "count_o=0\n",
    "count_e=0\n",
    "for i in range(1,n+1):\n",
    "    if i%2 == 0:\n",
    "        sum_e = sum_e+i\n",
    "        count_e=count_e+1\n",
    "    else:\n",
    "        sum_o =sum_o+i\n",
    "        count_o=count_o+1\n",
    "\n",
    "print(sum_e)\n",
    "print(sum_o)\n",
    "print(count_e)\n",
    "print(count_o)\n",
    "\n"
   ]
  },
  {
   "cell_type": "code",
   "execution_count": 23,
   "id": "3d20259e-cb28-4c73-8ee0-af24ede39d3f",
   "metadata": {},
   "outputs": [
    {
     "name": "stdin",
     "output_type": "stream",
     "text": [
      "enter the number 6\n"
     ]
    },
    {
     "name": "stdout",
     "output_type": "stream",
     "text": [
      "prime number\n"
     ]
    }
   ],
   "source": [
    "n=int(input(\"enter the number\"))\n",
    "if n==0 or n==0:\n",
    "    print(\"not a prime number\")\n",
    "else:\n",
    "        print(\"prime number\")\n",
    "        \n",
    "    \n"
   ]
  },
  {
   "cell_type": "code",
   "execution_count": null,
   "id": "46a8aab0-083b-4d58-9d19-2968043e8dfd",
   "metadata": {},
   "outputs": [],
   "source": [
    "a=0\n",
    "b=1\n",
    "c= a+b\n",
    "for i in range(n):\n",
    "    \n"
   ]
  }
 ],
 "metadata": {
  "kernelspec": {
   "display_name": "Python 3 (ipykernel)",
   "language": "python",
   "name": "python3"
  },
  "language_info": {
   "codemirror_mode": {
    "name": "ipython",
    "version": 3
   },
   "file_extension": ".py",
   "mimetype": "text/x-python",
   "name": "python",
   "nbconvert_exporter": "python",
   "pygments_lexer": "ipython3",
   "version": "3.12.7"
  }
 },
 "nbformat": 4,
 "nbformat_minor": 5
}
