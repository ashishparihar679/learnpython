{
 "cells": [
  {
   "cell_type": "code",
   "execution_count": 2,
   "metadata": {},
   "outputs": [
    {
     "name": "stdout",
     "output_type": "stream",
     "text": [
      "you are not eligible for voting\n"
     ]
    }
   ],
   "source": [
    "#WAP TO PROINT WEARHER A USER ELIGIBLE TO VOTE OR NOT\n",
    "a = int (input(\"enter your age : \"))\n",
    "if (a>=18):\n",
    "    print(\"you are eligible for voting\")\n",
    "else:\n",
    "    print(\"you are not eligible for voting\")\n"
   ]
  },
  {
   "cell_type": "code",
   "execution_count": 8,
   "metadata": {},
   "outputs": [
    {
     "name": "stdout",
     "output_type": "stream",
     "text": [
      " NOT DIVISIBLE BY 3\n"
     ]
    }
   ],
   "source": [
    "#WAP TO PRINT WEATHER A LAST DIGIT OF ANY NUMBER IS\n",
    "# DIVISIBLE BY 3 OR NOT\n",
    "a = int (input(\"enter your age : \"))\n",
    "n = a%10\n",
    "if (n%3==0):\n",
    "    print(\"DIVISIBLE BY 3\")\n",
    "else:\n",
    "    print(\" NOT DIVISIBLE BY 3\")\n"
   ]
  },
  {
   "cell_type": "markdown",
   "metadata": {},
   "source": [
    "FACTORIAL\n",
    "PRIME NUMBER \n",
    "ARMSTRAM\n",
    "FIBBONACHI SERIES\n",
    "WITH INPUT ,WITHOUT INPUT ,WITH FUNCTION"
   ]
  },
  {
   "cell_type": "code",
   "execution_count": 9,
   "metadata": {},
   "outputs": [
    {
     "name": "stdout",
     "output_type": "stream",
     "text": [
      "b = 100 greater than a = 90 and c = 30\n"
     ]
    }
   ],
   "source": [
    "#WAP TO FIND THE LARGEST NO AMAONG THREE NUMBERS\n",
    "a = int (input(\"enter number 1 : \"))\n",
    "b = int (input(\"enter number 2 : \"))\n",
    "c = int (input(\"enter number 3 : \"))\n",
    "if(a>b and a>c):\n",
    "    print(f\"a = {a} greater than b = {b} and c = {c}\")\n",
    "elif(b>a and b>c):\n",
    "    print(f\"b = {b} greater than a = {a} and c = {c}\")\n",
    "else:\n",
    "    print(f\"c = {c} greater than b = {b} and a = {a}\")"
   ]
  },
  {
   "cell_type": "code",
   "execution_count": null,
   "metadata": {},
   "outputs": [],
   "source": [
    "#WAP TO FIND A TOTAL PERCENTAGE AND DIVISION ACCORDING TO PERCENTAGE\n",
    "hindi = int (input(\"enter number of hindi\"))\n",
    "english = int (input(\"enter number of english\"))\n",
    "math = int (input(\"enter number of math\"))\n",
    "physics = int (input(\"enter number of physics\"))\n",
    "che = int (input(\"enter number of che\"))\n",
    "total = (hindi + english + math + physics + che)/5\n",
    "print(total)\n",
    " \n",
    "if(total >= 90 and total<=100 ):\n",
    "    print(f\"student grade A = {total} \")\n",
    "elif(total >= 70 and total<90 ):\n",
    "    print(\"student grade B \")\n",
    "elif(total >= 50 and total<70 ):\n",
    "    print(\"student grade C \")\n",
    "elif(total >= 35 and total<50 ):\n",
    "    print(\"student grade D \")\n",
    "elif(total >= 0 and total<35 ):\n",
    "    print(\"student grade F \")\n",
    "else:\n",
    "    print(\"you enter wroungh input \")"
   ]
  },
  {
   "cell_type": "code",
   "execution_count": 9,
   "metadata": {},
   "outputs": [
    {
     "name": "stdout",
     "output_type": "stream",
     "text": [
      "The 2020 is a leap year\n"
     ]
    }
   ],
   "source": [
    "#WAP to find weather a year is a leap year or not\n",
    "\n",
    "a = int(input(\"enter the year\"))\n",
    "# if(a%4==0 and a!=100):\n",
    "if(a%4 == 0):\n",
    "    print(f\"The {a} is a leap year\")\n",
    "else:\n",
    "    print(f\"The {a} is not a leap year\")"
   ]
  },
  {
   "cell_type": "code",
   "execution_count": 3,
   "metadata": {},
   "outputs": [
    {
     "name": "stdout",
     "output_type": "stream",
     "text": [
      "2\n",
      "4\n",
      "6\n",
      "8\n",
      "10\n",
      "12\n",
      "14\n",
      "16\n",
      "18\n",
      "20\n",
      "1\n",
      "3\n",
      "5\n",
      "7\n",
      "9\n",
      "11\n",
      "13\n",
      "15\n",
      "17\n",
      "19\n"
     ]
    }
   ],
   "source": [
    "n= int(input(\"enter number\"))\n",
    "for i in range(2 , n+1 , 2):\n",
    "    print(i)\n",
    "\n",
    "for i in range(1 , n+1 , 2):\n",
    "    print(i)"
   ]
  }
 ],
 "metadata": {
  "kernelspec": {
   "display_name": "Python 3",
   "language": "python",
   "name": "python3"
  },
  "language_info": {
   "codemirror_mode": {
    "name": "ipython",
    "version": 3
   },
   "file_extension": ".py",
   "mimetype": "text/x-python",
   "name": "python",
   "nbconvert_exporter": "python",
   "pygments_lexer": "ipython3",
   "version": "3.13.0"
  }
 },
 "nbformat": 4,
 "nbformat_minor": 2
}
