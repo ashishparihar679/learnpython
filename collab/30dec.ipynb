{
 "cells": [
  {
   "cell_type": "code",
   "execution_count": 18,
   "metadata": {},
   "outputs": [
    {
     "name": "stdout",
     "output_type": "stream",
     "text": [
      " 134 is armstram not number\n"
     ]
    }
   ],
   "source": [
    "n = int(input(\"enter number\"))\n",
    "temp=n\n",
    "sum =0\n",
    "while(temp>0):\n",
    "    r = temp%10\n",
    "    sum = sum + (r*r*r)\n",
    "    temp = temp//10\n",
    "if(n == sum): \n",
    "    print(f\" {sum} is armstram number\")\n",
    "else: \n",
    "    print(f\" {sum} is armstram not number\")"
   ]
  },
  {
   "cell_type": "code",
   "execution_count": 28,
   "metadata": {},
   "outputs": [
    {
     "name": "stdout",
     "output_type": "stream",
     "text": [
      "5\n"
     ]
    }
   ],
   "source": [
    "def sum():\n",
    "    a = int(input(\"enter number\"))\n",
    "    b = int(input(\"enter number\"))\n",
    "    c=a+b\n",
    "    print(c)\n",
    "sum()"
   ]
  },
  {
   "cell_type": "code",
   "execution_count": null,
   "metadata": {},
   "outputs": [
    {
     "name": "stdout",
     "output_type": "stream",
     "text": [
      "8\n"
     ]
    }
   ],
   "source": [
    "sum()"
   ]
  },
  {
   "cell_type": "code",
   "execution_count": null,
   "metadata": {},
   "outputs": [],
   "source": []
  }
 ],
 "metadata": {
  "kernelspec": {
   "display_name": "Python 3",
   "language": "python",
   "name": "python3"
  },
  "language_info": {
   "codemirror_mode": {
    "name": "ipython",
    "version": 3
   },
   "file_extension": ".py",
   "mimetype": "text/x-python",
   "name": "python",
   "nbconvert_exporter": "python",
   "pygments_lexer": "ipython3",
   "version": "3.13.0"
  }
 },
 "nbformat": 4,
 "nbformat_minor": 2
}
