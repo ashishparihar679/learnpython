{
 "cells": [
  {
   "cell_type": "code",
   "execution_count": 51,
   "id": "d8c806dc-48cb-43bb-91c0-a150ee9b9124",
   "metadata": {},
   "outputs": [
    {
     "name": "stdout",
     "output_type": "stream",
     "text": [
      "<class 'list'>\n",
      "<class 'tuple'>\n",
      "<class 'set'>\n"
     ]
    }
   ],
   "source": [
    "                                               #assignment operators \n",
    "# a=10\n",
    "# a=a+20\n",
    "# print(a)\n",
    "# a=a+10\n",
    "# print(a)\n",
    "\n",
    "# a=10\n",
    "# a+=10\n",
    "# print(a)\n",
    "# a=10\n",
    "# a-=10\n",
    "# print(a)\n",
    "# a=(\"cybrom\")\n",
    "# print( id(a)) memory location\n",
    "                                    \n",
    "                                        # membership Operators(in ,not in)\n",
    "# a= \"cybrom\"\n",
    "# print(\"c\" in a)\n",
    "# print(\"d\" not in a)\n",
    "# print(\"d\" in a)\n",
    "\n",
    "                                               # identity Operator( is ,is not)\n",
    "# a= 10 \n",
    "# b=20\n",
    "# print(a is b)\n",
    "# print(a is not b)\n",
    "                                                      # data type \n",
    "# int \n",
    "# string\n",
    "# boolean\n",
    "# float\n",
    "# complex\n",
    "# list\n",
    "# tupple \n",
    "# set\n",
    "#dictionary\n",
    "\n",
    "# a=10 \n",
    "# print(type(a))\n",
    "# print(\" the type of a is \", type (a))\n",
    "# b= \" Cybrom\"\n",
    "# print(type(b))\n",
    "# c=4.3\n",
    "# print(type(c))\n",
    "# a=2\n",
    "# b=2\n",
    "# print(type(a==b))\n",
    "\n",
    "# d=1+8j(complex)\n",
    "# print(type(d))\n",
    "# list\n",
    "# a=[1,2,3,4]\n",
    "# print(type(a))\n",
    "\n",
    "a=[]\n",
    "b=()\n",
    "c={1,2,3} show a\n",
    "print(type(a))\n",
    "print(type(b))\n",
    "print(type(c))\n",
    "\n",
    "\n"
   ]
  }
 ],
 "metadata": {
  "kernelspec": {
   "display_name": "Python 3 (ipykernel)",
   "language": "python",
   "name": "python3"
  },
  "language_info": {
   "codemirror_mode": {
    "name": "ipython",
    "version": 3
   },
   "file_extension": ".py",
   "mimetype": "text/x-python",
   "name": "python",
   "nbconvert_exporter": "python",
   "pygments_lexer": "ipython3",
   "version": "3.12.7"
  }
 },
 "nbformat": 4,
 "nbformat_minor": 5
}
