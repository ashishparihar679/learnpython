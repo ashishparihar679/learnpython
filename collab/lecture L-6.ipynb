{
 "cells": [
  {
   "cell_type": "code",
   "execution_count": 7,
   "id": "0cb7752b-1e3c-4ac7-a606-d38a43b00405",
   "metadata": {},
   "outputs": [
    {
     "name": "stdin",
     "output_type": "stream",
     "text": [
      "Enter the age 15\n"
     ]
    },
    {
     "name": "stdout",
     "output_type": "stream",
     "text": [
      " you are not eligible\n"
     ]
    }
   ],
   "source": [
    "# conditional statement (if,else,elif)\n",
    "age=int(input(\"Enter the age\"))\n",
    "if age>=18:\n",
    "    print(\"you are eligible for voting\")\n",
    "else:\n",
    "    print(\" you are not eligible\")"
   ]
  },
  {
   "cell_type": "code",
   "execution_count": null,
   "id": "a2b9ff04-663d-43f7-bfc8-a1215601529b",
   "metadata": {},
   "outputs": [],
   "source": [
    "# vowels and consonante\n",
    "a= input(\"Enter the Character:\")"
   ]
  },
  {
   "cell_type": "code",
   "execution_count": 106,
   "id": "275669dc-c46f-4e5b-8145-89174c1bffa4",
   "metadata": {},
   "outputs": [
    {
     "name": "stdin",
     "output_type": "stream",
     "text": [
      "Enter the number -2\n"
     ]
    },
    {
     "name": "stdout",
     "output_type": "stream",
     "text": [
      "nagative\n"
     ]
    }
   ],
   "source": [
    "a=int(input(\"Enter the number\"))\n",
    "if (a>0):\n",
    "    print(\" positive\")\n",
    "\n",
    "if a < 0:\n",
    "    print(\"nagative\")\n",
    "else:\n",
    "    print(\"zero\")"
   ]
  },
  {
   "cell_type": "code",
   "execution_count": 126,
   "id": "4f66ac49-20c6-477f-a08f-d7e9ad3404f3",
   "metadata": {},
   "outputs": [
    {
     "name": "stdin",
     "output_type": "stream",
     "text": [
      " Enter the marks 83\n"
     ]
    },
    {
     "name": "stdout",
     "output_type": "stream",
     "text": [
      "GradeB\n"
     ]
    }
   ],
   "source": [
    "marks= int(input(\" Enter the marks\"))\n",
    "if marks>90:\n",
    "    print(\"Grade A\")\n",
    "elif marks>=80:\n",
    "    print(\"GradeB\")\n",
    "elif marks >=70:\n",
    "    print(\"Grade C\")\n",
    "elif marks>=60:\n",
    "    print(\"Grade d\")\n",
    "else:\n",
    "    print(\" fail\")\n",
    "          "
   ]
  },
  {
   "cell_type": "code",
   "execution_count": 170,
   "id": "a1b722eb-6d9e-4ffe-9b37-0cf696ef9ddd",
   "metadata": {},
   "outputs": [
    {
     "name": "stdin",
     "output_type": "stream",
     "text": [
      "Enter the number: 10\n"
     ]
    },
    {
     "name": "stdout",
     "output_type": "stream",
     "text": [
      "non divisible\n"
     ]
    }
   ],
   "source": [
    "number=int(input(\"Enter the number:\"))\n",
    "if number % 5 == 0 and number %3 ==0:\n",
    "    print(\"divisible\")\n",
    "else:\n",
    "    print(\"non divisible\")"
   ]
  },
  {
   "cell_type": "code",
   "execution_count": null,
   "id": "9c30c199-b1fd-4ddb-a08c-c3a9ddaa43e8",
   "metadata": {},
   "outputs": [],
   "source": []
  }
 ],
 "metadata": {
  "kernelspec": {
   "display_name": "Python 3 (ipykernel)",
   "language": "python",
   "name": "python3"
  },
  "language_info": {
   "codemirror_mode": {
    "name": "ipython",
    "version": 3
   },
   "file_extension": ".py",
   "mimetype": "text/x-python",
   "name": "python",
   "nbconvert_exporter": "python",
   "pygments_lexer": "ipython3",
   "version": "3.12.7"
  }
 },
 "nbformat": 4,
 "nbformat_minor": 5
}
