{
 "cells": [
  {
   "cell_type": "code",
   "execution_count": 17,
   "id": "3421389e-7633-489e-9abc-88fdeb870f29",
   "metadata": {},
   "outputs": [
    {
     "name": "stdin",
     "output_type": "stream",
     "text": [
      " enter charactor BHOPAL\n"
     ]
    },
    {
     "name": "stdout",
     "output_type": "stream",
     "text": [
      " charactor is upper case\n"
     ]
    }
   ],
   "source": [
    "char = input(\" enter charactor\")\n",
    "if char.isupper():\n",
    "    print(\" charactor is upper case\")\n",
    "elif char.lower():\n",
    "    print(\" charactor is lowercase\")\n",
    "else :\n",
    "    print(\" invalid charactor\")"
   ]
  },
  {
   "cell_type": "code",
   "execution_count": null,
   "id": "7cd4d248-99f5-4d35-81a6-02c729a68063",
   "metadata": {},
   "outputs": [],
   "source": [
    "a=int(input(\"enter the number1:\")\n",
    "b=int(input(\"enter the number2:\")\n",
    "c=int(input(\"enter the number3:\")\n",
    "if a>b :\n",
    "      print(\"num1 is greater\")\n",
    "      "
   ]
  },
  {
   "cell_type": "code",
   "execution_count": 85,
   "id": "f51d28d8-9a8d-45c3-8785-bffb92b8b17b",
   "metadata": {},
   "outputs": [
    {
     "name": "stdin",
     "output_type": "stream",
     "text": [
      "enter the number 3\n"
     ]
    },
    {
     "name": "stdout",
     "output_type": "stream",
     "text": [
      "num is odd number\n"
     ]
    }
   ],
   "source": [
    "a = int(input(\"enter the number\"))\n",
    "if a%2==0:\n",
    "    print(\"num is even number\")\n",
    "else:\n",
    "    print(\"num is odd number\")"
   ]
  },
  {
   "cell_type": "code",
   "execution_count": null,
   "id": "5d461989-d5da-4804-a521-f88766a84cf9",
   "metadata": {},
   "outputs": [],
   "source": [
    "num = int(input(\"Enter the number :\"))\n",
    "if num<0:\n",
    "    print(\"negative number:\")\n",
    "elif num>0:\n",
    "    if num>0 and num<=5:\n",
    "        print(\" number is negative:\")\n",
    "    elif num >0:\n",
    "        if num>0 and num<=5:\n",
    "            print(\"number within 1 to 5:\")\n",
    "        elif num>5 and num<=10:\n",
    "            print(\"number within 6 to 10:\")\n",
    "        else:\n",
    "            print(\"number is greater than 10 :\")\n",
    "    else:\n",
    "        print(\" number is zero:\")"
   ]
  }
 ],
 "metadata": {
  "kernelspec": {
   "display_name": "Python 3 (ipykernel)",
   "language": "python",
   "name": "python3"
  },
  "language_info": {
   "codemirror_mode": {
    "name": "ipython",
    "version": 3
   },
   "file_extension": ".py",
   "mimetype": "text/x-python",
   "name": "python",
   "nbconvert_exporter": "python",
   "pygments_lexer": "ipython3",
   "version": "3.12.7"
  }
 },
 "nbformat": 4,
 "nbformat_minor": 5
}
