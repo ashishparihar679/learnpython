{
 "cells": [
  {
   "cell_type": "code",
   "execution_count": 17,
   "id": "3421389e-7633-489e-9abc-88fdeb870f29",
   "metadata": {},
   "outputs": [
    {
     "name": "stdout",
     "output_type": "stream",
     "text": [
      " enter charactor BHOPAL\n"
     ]
    },
    {
     "name": "stdout",
     "output_type": "stream",
     "text": [
      " charactor is upper case\n"
     ]
    }
   ],
   "source": [
    "char = input(\" enter charactor\")\n",
    "if char.isupper():\n",
    "    print(\" charactor is upper case\")\n",
    "elif char.lower():\n",
    "    print(\" charactor is lowercase\")\n",
    "else :\n",
    "    print(\" invalid charactor\")"
   ]
  },
  {
   "cell_type": "code",
   "execution_count": null,
   "id": "7cd4d248-99f5-4d35-81a6-02c729a68063",
   "metadata": {},
   "outputs": [],
   "source": [
    "a=int(input(\"enter the number1:\")\n",
    "b=int(input(\"enter the number2:\")\n",
    "c=int(input(\"enter the number3:\")\n",
    "if a>b :\n",
    "      print(\"num1 is greater\")\n",
    "      "
   ]
  },
  {
   "cell_type": "code",
   "execution_count": 1,
   "id": "f51d28d8-9a8d-45c3-8785-bffb92b8b17b",
   "metadata": {},
   "outputs": [
    {
     "ename": "ValueError",
     "evalue": "invalid literal for int() with base 10: ''",
     "output_type": "error",
     "traceback": [
      "\u001b[1;31m---------------------------------------------------------------------------\u001b[0m",
      "\u001b[1;31mValueError\u001b[0m                                Traceback (most recent call last)",
      "Cell \u001b[1;32mIn[1], line 1\u001b[0m\n\u001b[1;32m----> 1\u001b[0m a \u001b[38;5;241m=\u001b[39m \u001b[38;5;28;43mint\u001b[39;49m\u001b[43m(\u001b[49m\u001b[38;5;28;43minput\u001b[39;49m\u001b[43m(\u001b[49m\u001b[38;5;124;43m\"\u001b[39;49m\u001b[38;5;124;43menter the number\u001b[39;49m\u001b[38;5;124;43m\"\u001b[39;49m\u001b[43m)\u001b[49m\u001b[43m)\u001b[49m\n\u001b[0;32m      2\u001b[0m \u001b[38;5;28;01mif\u001b[39;00m a\u001b[38;5;241m%\u001b[39m\u001b[38;5;241m2\u001b[39m\u001b[38;5;241m==\u001b[39m\u001b[38;5;241m0\u001b[39m:\n\u001b[0;32m      3\u001b[0m     \u001b[38;5;28mprint\u001b[39m(\u001b[38;5;124m\"\u001b[39m\u001b[38;5;124mnum is even number\u001b[39m\u001b[38;5;124m\"\u001b[39m)\n",
      "\u001b[1;31mValueError\u001b[0m: invalid literal for int() with base 10: ''"
     ]
    }
   ],
   "source": [
    "a = int(input(\"enter the number\"))\n",
    "if a%2==0:\n",
    "    print(\"num is even number\")\n",
    "else:\n",
    "    print(\"num is odd number\")"
   ]
  },
  {
   "cell_type": "code",
   "execution_count": null,
   "id": "5d461989-d5da-4804-a521-f88766a84cf9",
   "metadata": {},
   "outputs": [],
   "source": [
    "num = int(input(\"Enter the number :\"))\n",
    "if num<0:\n",
    "    print(\"negative number:\")\n",
    "elif num>0:\n",
    "    if num>0 and num<=5:\n",
    "        print(\" number is negative:\")\n",
    "    elif num >0:\n",
    "        if num>0 and num<=5:\n",
    "            print(\"number within 1 to 5:\")\n",
    "        elif num>5 and num<=10:\n",
    "            print(\"number within 6 to 10:\")\n",
    "        else:\n",
    "            print(\"number is greater than 10 :\")\n",
    "    else:\n",
    "        print(\" number is zero:\")"
   ]
  },
  {
   "cell_type": "markdown",
   "id": "ad98888c",
   "metadata": {},
   "source": [
    "print(\"ashish\")"
   ]
  }
 ],
 "metadata": {
  "kernelspec": {
   "display_name": "Python 3",
   "language": "python",
   "name": "python3"
  },
  "language_info": {
   "codemirror_mode": {
    "name": "ipython",
    "version": 3
   },
   "file_extension": ".py",
   "mimetype": "text/x-python",
   "name": "python",
   "nbconvert_exporter": "python",
   "pygments_lexer": "ipython3",
   "version": "3.13.0"
  }
 },
 "nbformat": 4,
 "nbformat_minor": 5
}
