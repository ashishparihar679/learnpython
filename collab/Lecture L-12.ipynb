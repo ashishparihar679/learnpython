{
 "cells": [
  {
   "cell_type": "code",
   "execution_count": 33,
   "id": "2e0f7e7e-fb1c-4b94-b319-744a332c486b",
   "metadata": {},
   "outputs": [
    {
     "name": "stdout",
     "output_type": "stream",
     "text": [
      "['aaa', 'bbb', 'ccc', 'ddd', 'eee']\n",
      "ddd\n",
      "aaa\n",
      "eee\n"
     ]
    }
   ],
   "source": [
    "# grab the element at index 0, which is the first element\n",
    "\n",
    "loss_name=['aaa','bbb','ccc','ddd','eee']\n",
    "print(loss_name)\n",
    "print(loss_name[3])\n",
    "print(loss_name[0])\n",
    "print(loss_name[-1])"
   ]
  },
  {
   "cell_type": "code",
   "execution_count": 41,
   "id": "cbd7a7e3-8f0e-41b3-967c-20fbb804795f",
   "metadata": {},
   "outputs": [
    {
     "name": "stdout",
     "output_type": "stream",
     "text": [
      "['bbb', 'ccc', 'ddd', 'eee']\n"
     ]
    }
   ],
   "source": [
    "loss_name=['aaa','bbb','ccc','ddd','eee']\n",
    "print(loss_name[1:5])"
   ]
  },
  {
   "cell_type": "code",
   "execution_count": 49,
   "id": "40c6bdd4-5d27-4827-80fc-6ebe2d673f20",
   "metadata": {},
   "outputs": [
    {
     "data": {
      "text/plain": [
       "' '"
      ]
     },
     "execution_count": 49,
     "metadata": {},
     "output_type": "execute_result"
    }
   ],
   "source": [
    "new_list = ('a','b','x','y','m')\n",
    "min(new_list)\n",
    "max(new_list)\n",
    "\n"
   ]
  },
  {
   "cell_type": "code",
   "execution_count": 55,
   "id": "cf37971e-c991-47ca-88b9-3a98bb72b45a",
   "metadata": {},
   "outputs": [
    {
     "data": {
      "text/plain": [
       "'Cybrom '"
      ]
     },
     "execution_count": 55,
     "metadata": {},
     "output_type": "execute_result"
    }
   ],
   "source": [
    "new_list = (\"Cybrom \",\"Indrapuri\")\n",
    "min(new_list)"
   ]
  }
 ],
 "metadata": {
  "kernelspec": {
   "display_name": "Python 3 (ipykernel)",
   "language": "python",
   "name": "python3"
  },
  "language_info": {
   "codemirror_mode": {
    "name": "ipython",
    "version": 3
   },
   "file_extension": ".py",
   "mimetype": "text/x-python",
   "name": "python",
   "nbconvert_exporter": "python",
   "pygments_lexer": "ipython3",
   "version": "3.12.7"
  }
 },
 "nbformat": 4,
 "nbformat_minor": 5
}
