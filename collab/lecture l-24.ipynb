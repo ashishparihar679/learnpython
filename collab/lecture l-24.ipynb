{
 "cells": [
  {
   "cell_type": "code",
   "execution_count": null,
   "id": "95b8d4d3-f6a8-4973-8045-1b555608e12a",
   "metadata": {},
   "outputs": [],
   "source": [
    "#reverse number print\n",
    "a= int(input(\"enter value\"))\n",
    "rev=0\n",
    "while a!=0:\n",
    "    digit=a%10\n",
    "    rev=(rev*10)+digit\n",
    "    a=a//10\n",
    "print(\" \",rev)\n",
    "    \n",
    "    \n",
    "    \n"
   ]
  },
  {
   "cell_type": "code",
   "execution_count": null,
   "id": "8fa300c2-0b2f-4d60-8475-4f1038d1a3b4",
   "metadata": {},
   "outputs": [],
   "source": [
    "# user define strinng palendron \n",
    "n= (input(\"Enter a string:\"))\n",
    "rev=n[::-1]\n",
    "if n==rev:\n",
    "    print(\"The string is a palindrome!\")\n",
    "else:\n",
    "    print(\"The string is not a palindrome.\")"
   ]
  },
  {
   "cell_type": "code",
   "execution_count": null,
   "id": "86c10e96-6bb2-4e18-a7fc-efc1a467db77",
   "metadata": {},
   "outputs": [],
   "source": [
    "n=input(\"enter string\")\n",
    "vowel=0\n",
    "s.char=0\n",
    "cons=0\n",
    "if vowels()"
   ]
  }
 ],
 "metadata": {
  "kernelspec": {
   "display_name": "Python 3 (ipykernel)",
   "language": "python",
   "name": "python3"
  },
  "language_info": {
   "codemirror_mode": {
    "name": "ipython",
    "version": 3
   },
   "file_extension": ".py",
   "mimetype": "text/x-python",
   "name": "python",
   "nbconvert_exporter": "python",
   "pygments_lexer": "ipython3",
   "version": "3.12.7"
  }
 },
 "nbformat": 4,
 "nbformat_minor": 5
}
