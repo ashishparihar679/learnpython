{
 "cells": [
  {
   "cell_type": "code",
   "execution_count": 5,
   "id": "e46e706e-3ee0-4e9a-be6c-7349845b6381",
   "metadata": {},
   "outputs": [
    {
     "name": "stdout",
     "output_type": "stream",
     "text": [
      "2,4,6,8,10,12,14,16,18,"
     ]
    }
   ],
   "source": [
    "# for loop\n",
    "a=[1,2,3,4,5,6,7,8,9]\n",
    "for i in a:\n",
    "    print(i*2,end=',')"
   ]
  },
  {
   "cell_type": "code",
   "execution_count": 27,
   "id": "f5ecfb9c-6717-4eef-bc6e-35d5e75c63e4",
   "metadata": {},
   "outputs": [
    {
     "name": "stdout",
     "output_type": "stream",
     "text": [
      "0,1,2,3,4,5,6,7,8,"
     ]
    }
   ],
   "source": [
    "# for loop\n",
    "a=[1,2,3,4,5,6,7,8,9]\n",
    "for i in range(9):\n",
    "    print(i,end=\",\")"
   ]
  },
  {
   "cell_type": "code",
   "execution_count": 3,
   "id": "70a52777-f44f-4f1f-a2d8-b8037fc9a314",
   "metadata": {},
   "outputs": [
    {
     "name": "stdin",
     "output_type": "stream",
     "text": [
      "enter the number 6\n"
     ]
    },
    {
     "name": "stdout",
     "output_type": "stream",
     "text": [
      "720\n"
     ]
    }
   ],
   "source": [
    "number=int(input(\"enter the number\"))\n",
    "factorial=1\n",
    "for i in range(1,number+1):\n",
    "    factorial=factorial*i\n",
    "print(factorial)\n",
    "    \n",
    "    "
   ]
  },
  {
   "cell_type": "code",
   "execution_count": 13,
   "id": "05bad0c5-dd47-4bf1-81a9-23a60832fe99",
   "metadata": {},
   "outputs": [
    {
     "name": "stdout",
     "output_type": "stream",
     "text": [
      "2\n",
      "4\n",
      "6\n",
      "8\n",
      "10\n",
      "12\n",
      "14\n",
      "16\n",
      "18\n",
      "20\n"
     ]
    }
   ],
   "source": [
    "#find even number 1to 10\n",
    "\n",
    "a=[1,2,3,4,5,6,7,8,9,10]\n",
    "for i in a:\n",
    "    print(i*2)"
   ]
  },
  {
   "cell_type": "code",
   "execution_count": 37,
   "id": "b942d8b5-0058-4c00-8a5b-39d18c9a789b",
   "metadata": {},
   "outputs": [
    {
     "name": "stdout",
     "output_type": "stream",
     "text": [
      "9\n"
     ]
    }
   ],
   "source": [
    "a=[1,2,9,6,5]\n",
    "max=a[0]\n",
    "for i in a:\n",
    "    if i>max:\n",
    "        max =i\n",
    "print(max)\n",
    "        "
   ]
  }
 ],
 "metadata": {
  "kernelspec": {
   "display_name": "Python 3 (ipykernel)",
   "language": "python",
   "name": "python3"
  },
  "language_info": {
   "codemirror_mode": {
    "name": "ipython",
    "version": 3
   },
   "file_extension": ".py",
   "mimetype": "text/x-python",
   "name": "python",
   "nbconvert_exporter": "python",
   "pygments_lexer": "ipython3",
   "version": "3.12.7"
  }
 },
 "nbformat": 4,
 "nbformat_minor": 5
}
