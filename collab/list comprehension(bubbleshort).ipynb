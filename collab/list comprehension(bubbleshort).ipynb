{
 "cells": [
  {
   "cell_type": "code",
   "execution_count": 107,
   "id": "dc374f21-853e-497f-8f1e-7225ca7c0674",
   "metadata": {},
   "outputs": [
    {
     "name": "stdout",
     "output_type": "stream",
     "text": [
      "[1, 4, 9, 16, 25, 36, 49, 64, 81, 100]\n"
     ]
    }
   ],
   "source": [
    " #Q1. list comprehension( sqr 1 to 10 number)\n",
    "sqr=[i*i for i in range(1,11)]\n",
    "print(sqr)\n"
   ]
  },
  {
   "cell_type": "code",
   "execution_count": 47,
   "id": "469f8ffa-ee82-4e83-af62-5e5338e04b02",
   "metadata": {},
   "outputs": [
    {
     "name": "stdout",
     "output_type": "stream",
     "text": [
      "[1, 10, 100, 200]\n"
     ]
    }
   ],
   "source": [
    "# accednding sorting list(bubble sort)\n",
    "l=[100,1,200,10]\n",
    "for i in range(len(l)):\n",
    "   for j in range(i+1,len(l)):\n",
    "      if l[i]>l[j]:\n",
    "          l[i],l[j]=l[j],l[i]\n",
    "print(l)\n"
   ]
  },
  {
   "cell_type": "code",
   "execution_count": 49,
   "id": "78eaf1da-01ef-40df-9158-5e6e90445351",
   "metadata": {},
   "outputs": [
    {
     "name": "stdout",
     "output_type": "stream",
     "text": [
      "[200, 100, 10, 1]\n"
     ]
    }
   ],
   "source": [
    "# deccednding sorting list(bubble sort)\n",
    "l=[100,1,200,10]\n",
    "for i in range(len(l)):\n",
    "   for j in range(i+1,len(l)):\n",
    "      if l[i]<l[j]:\n",
    "          l[i],l[j]=l[j],l[i]\n",
    "print(l)\n"
   ]
  },
  {
   "cell_type": "code",
   "execution_count": 143,
   "id": "810fa25d-6680-4308-a78f-0cc066a51114",
   "metadata": {},
   "outputs": [
    {
     "name": "stdout",
     "output_type": "stream",
     "text": [
      "[2, 4, 6, 8, 10, 12, 14, 16, 18, 20]\n"
     ]
    }
   ],
   "source": [
    "#Q2. list coprehension 1to 20 even number\n",
    "n = [i for i in range(1,21) if i%2 == 0]\n",
    "print(n)"
   ]
  },
  {
   "cell_type": "code",
   "execution_count": 159,
   "id": "10d2c6d4-6fa1-4062-8d27-005123002ad9",
   "metadata": {},
   "outputs": [
    {
     "name": "stdout",
     "output_type": "stream",
     "text": [
      "['APPLE', 'MANGO', 'ORANGE', 'BANANA']\n"
     ]
    }
   ],
   "source": [
    "#Q3.conver string upper case by using list comprehension\n",
    "str=[i.upper() for i in [\"apple\",\"mango\",\"orange\",\"banana\"]]\n",
    "print(str)\n"
   ]
  },
  {
   "cell_type": "code",
   "execution_count": 163,
   "id": "7ade313a-ab97-4931-ad89-a1f8968e729f",
   "metadata": {},
   "outputs": [
    {
     "name": "stdout",
     "output_type": "stream",
     "text": [
      "['apple', 'mango', 'orange', 'banana']\n"
     ]
    }
   ],
   "source": [
    "#Q4.conver string lowercase case by using list comprehension\n",
    "\n",
    "str=[i.lower() for i in['APPLE', 'MANGO', 'ORANGE', 'BANANA']]\n",
    "print(str)"
   ]
  }
 ],
 "metadata": {
  "kernelspec": {
   "display_name": "Python 3 (ipykernel)",
   "language": "python",
   "name": "python3"
  },
  "language_info": {
   "codemirror_mode": {
    "name": "ipython",
    "version": 3
   },
   "file_extension": ".py",
   "mimetype": "text/x-python",
   "name": "python",
   "nbconvert_exporter": "python",
   "pygments_lexer": "ipython3",
   "version": "3.12.7"
  }
 },
 "nbformat": 4,
 "nbformat_minor": 5
}
