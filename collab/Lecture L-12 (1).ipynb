{
 "cells": [
  {
   "cell_type": "code",
   "execution_count": 1,
   "id": "6e7a3813-5f0a-4bdb-9f72-19369b42eb9d",
   "metadata": {},
   "outputs": [
    {
     "data": {
      "text/plain": [
       "24.5"
      ]
     },
     "execution_count": 1,
     "metadata": {},
     "output_type": "execute_result"
    }
   ],
   "source": [
    "# sum of list variable\n",
    "new_list=[6,9,1,3,5.5]\n",
    "sum(new_list)"
   ]
  },
  {
   "cell_type": "code",
   "execution_count": 5,
   "id": "8ea18b28-0445-4ab8-bf36-41f3751433fa",
   "metadata": {},
   "outputs": [
    {
     "data": {
      "text/plain": [
       "[1, 3, 5.5, 6, 9]"
      ]
     },
     "execution_count": 5,
     "metadata": {},
     "output_type": "execute_result"
    }
   ],
   "source": [
    "# sorted\n",
    "new_list=[6,9,1,3,5.5]\n",
    "sorted(new_list)"
   ]
  },
  {
   "cell_type": "code",
   "execution_count": 19,
   "id": "8ac4cccf-2db1-4a40-b774-5861e9733d10",
   "metadata": {},
   "outputs": [
    {
     "name": "stdout",
     "output_type": "stream",
     "text": [
      "[6, 9, 1, 3, 5.5]\n"
     ]
    },
    {
     "data": {
      "text/plain": [
       "[9, 6, 5.5, 3, 1]"
      ]
     },
     "execution_count": 19,
     "metadata": {},
     "output_type": "execute_result"
    }
   ],
   "source": [
    "# dessending order\n",
    "new_list=[6,9,1,3,5.5]\n",
    "print(new_list)\n",
    "sorted(new_list,reverse=True)"
   ]
  },
  {
   "cell_type": "code",
   "execution_count": 23,
   "id": "264815b9-ed8d-432e-8db2-8e48ea68c7f6",
   "metadata": {},
   "outputs": [
    {
     "name": "stdout",
     "output_type": "stream",
     "text": [
      "[1, 2, 3, 5, 6, 7, 8]\n",
      "[8, 7, 6, 5, 3, 2, 1]\n"
     ]
    }
   ],
   "source": [
    "a=[1,3,5,6,7,2,8]\n",
    "print(sorted(a))\n",
    "print(sorted (a,reverse=True))\n"
   ]
  },
  {
   "cell_type": "code",
   "execution_count": 35,
   "id": "e8f0151a-390c-4d72-9a79-0d544bd56bde",
   "metadata": {},
   "outputs": [
    {
     "name": "stdout",
     "output_type": "stream",
     "text": [
      "[1, 2, 3, 1, 1, 1, 3, 10, 5, 8]\n",
      "[1, 1, 1, 1, 2, 3, 3, 5, 8, 10]\n",
      "[8, 7, 6, 5, 3, 2, 1]\n"
     ]
    }
   ],
   "source": [
    "my_list=[1,2,3,1,1,1,3,10,5,8]\n",
    "print(my_list)\n",
    "print(sorted(my_list))\n",
    "print(sorted(a,reverse=True))"
   ]
  },
  {
   "cell_type": "code",
   "execution_count": null,
   "id": "37a38917-0ff6-4a9a-b75e-c698d5c4801d",
   "metadata": {},
   "outputs": [],
   "source": []
  },
  {
   "cell_type": "code",
   "execution_count": 41,
   "id": "b539c988-f421-4a54-b10a-7f1b42f374d6",
   "metadata": {},
   "outputs": [
    {
     "name": "stdout",
     "output_type": "stream",
     "text": [
      "[1, 2, 'cybrom', 2.05, 2.07, [1, 2, 3, 4]]\n"
     ]
    }
   ],
   "source": [
    "#method\n",
    "#append \n",
    "a=[1,2,\"cybrom\",2.05,2.07]\n",
    "a.append([1,2,3,4,])\n",
    "print(a)\n"
   ]
  },
  {
   "cell_type": "code",
   "execution_count": 49,
   "id": "30ad4f9c-d766-4276-8e8b-88aab30750dd",
   "metadata": {},
   "outputs": [
    {
     "name": "stdout",
     "output_type": "stream",
     "text": [
      "[1, 2, 4, 5, 6, 7, 9, 4, 5, 10, [1, 2, 3, 4]]\n"
     ]
    }
   ],
   "source": [
    "a=[1,2,4,5,6,7,9,4,5,10]\n",
    "a.append([1,2,3,4,])\n",
    "print(a)"
   ]
  },
  {
   "cell_type": "code",
   "execution_count": 63,
   "id": "1438005a-7a9a-432e-b151-8a8976dbbcdf",
   "metadata": {},
   "outputs": [
    {
     "data": {
      "text/plain": [
       "5"
      ]
     },
     "execution_count": 63,
     "metadata": {},
     "output_type": "execute_result"
    }
   ],
   "source": [
    "a=[1,2,4,5,6,7,9,4,5,10]\n",
    "a.pop(3)"
   ]
  }
 ],
 "metadata": {
  "kernelspec": {
   "display_name": "Python 3 (ipykernel)",
   "language": "python",
   "name": "python3"
  },
  "language_info": {
   "codemirror_mode": {
    "name": "ipython",
    "version": 3
   },
   "file_extension": ".py",
   "mimetype": "text/x-python",
   "name": "python",
   "nbconvert_exporter": "python",
   "pygments_lexer": "ipython3",
   "version": "3.12.7"
  }
 },
 "nbformat": 4,
 "nbformat_minor": 5
}
