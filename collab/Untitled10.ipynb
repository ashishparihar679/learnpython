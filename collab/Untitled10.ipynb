{
 "cells": [
  {
   "cell_type": "code",
   "execution_count": 1,
   "id": "e65bf4d5-129b-4f63-b1cc-2fb7cb18cd39",
   "metadata": {},
   "outputs": [
    {
     "name": "stdout",
     "output_type": "stream",
     "text": [
      " CYBROM INDRAPURI\n"
     ]
    }
   ],
   "source": [
    "#using .upper\n",
    "str1=\" CYBROM INDRAPURI\"\n",
    "str2=str1.upper()\n",
    "print(str2)"
   ]
  },
  {
   "cell_type": "code",
   "execution_count": 3,
   "id": "1b982b2e-adb3-4bfc-964b-9d217e37ee9a",
   "metadata": {},
   "outputs": [
    {
     "name": "stdout",
     "output_type": "stream",
     "text": [
      "True\n"
     ]
    }
   ],
   "source": [
    "# using is upper\n",
    "str1=\" CYBROM INDRAPURI\"\n",
    "str2=str1.isupper()\n",
    "print(str2)"
   ]
  },
  {
   "cell_type": "code",
   "execution_count": 17,
   "id": "ef844f80-053a-4d4b-8812-5be9e9975de7",
   "metadata": {},
   "outputs": [
    {
     "name": "stdout",
     "output_type": "stream",
     "text": [
      "True\n"
     ]
    }
   ],
   "source": [
    "# isalpha,isdigit,ia alnum\n",
    "# isalpha\n",
    "\n",
    "str1=\"cybromindrapuri\"\n",
    "str2=str1.isalpha()\n",
    "print(str2)\n",
    "\n"
   ]
  },
  {
   "cell_type": "code",
   "execution_count": 21,
   "id": "86c91cd7-e58c-4758-bcda-c99b7d6dcfdd",
   "metadata": {},
   "outputs": [
    {
     "name": "stdout",
     "output_type": "stream",
     "text": [
      "False\n"
     ]
    }
   ],
   "source": [
    "# is digit\n",
    "str1=\"123 python\"\n",
    "str2=str1.isdigit()\n",
    "print(str2)"
   ]
  },
  {
   "cell_type": "code",
   "execution_count": 27,
   "id": "254835b7-8846-4e11-8b40-e73cde0bc202",
   "metadata": {},
   "outputs": [
    {
     "name": "stdout",
     "output_type": "stream",
     "text": [
      "True\n"
     ]
    }
   ],
   "source": [
    "# isalnum\n",
    "str1=\"python\"\n",
    "str2=str1.isalnum()\n",
    "print(str2)"
   ]
  },
  {
   "cell_type": "code",
   "execution_count": 29,
   "id": "e9fcd20b-b5a0-4996-8b65-b9a24c2320d5",
   "metadata": {},
   "outputs": [
    {
     "name": "stdout",
     "output_type": "stream",
     "text": [
      "          hiresh\n"
     ]
    }
   ],
   "source": [
    "str1=\"          hiresh\"\n",
    "str2=str1.rstrip()\n",
    "print(str2)"
   ]
  },
  {
   "cell_type": "code",
   "execution_count": 33,
   "id": "30ac130b-bdcd-46b7-ac2b-e8f83e65e9e5",
   "metadata": {},
   "outputs": [
    {
     "name": "stdout",
     "output_type": "stream",
     "text": [
      "hiresh\n"
     ]
    }
   ],
   "source": [
    "# rstrip \n",
    "str1=\"hiresh    \"\n",
    "str2=str1.rstrip()\n",
    "print(str2)"
   ]
  },
  {
   "cell_type": "code",
   "execution_count": null,
   "id": "2e0c11ca",
   "metadata": {},
   "outputs": [],
   "source": []
  },
  {
   "cell_type": "code",
   "execution_count": 35,
   "id": "d0388c96-24d7-4ee6-9537-9d2ed6f2df02",
   "metadata": {},
   "outputs": [
    {
     "data": {
      "text/plain": [
       "CENTER ISINDRAPURI\n"
      ]
     },
     "metadata": {},
     "output_type": "display_data"
    }
   ],
   "source": [
    "class_s=\"pyhton\"\n",
    "strength=23\n",
    "center=\"indrapuri\"\n",
    "print(f\"center is{center}\".upper())"
   ]
  },
  {
   "cell_type": "code",
   "execution_count": null,
   "id": "584d9a1c-a0e5-4763-9765-0b3c7b852bcd",
   "metadata": {},
   "outputs": [
    {
     "data": {
      "text/plain": [
       "CENTER ISINDRAPURI\n"
      ]
     },
     "metadata": {},
     "output_type": "display_data"
    }
   ],
   "source": [
    "class_s=\"pyhton\"\n",
    "strength=23\n",
    "center=\"indrapuri\"\n",
    "print(f\"center is{center}\".upper())"
   ]
  },
  {
   "cell_type": "markdown",
   "id": "4b0c2dc4",
   "metadata": {},
   "source": []
  },
  {
   "cell_type": "code",
   "execution_count": null,
   "id": "a6236a6c-d308-473a-802f-568ac88743a4",
   "metadata": {},
   "outputs": [
    {
     "data": {
      "text/plain": [
       "ashish\n"
      ]
     },
     "metadata": {},
     "output_type": "display_data"
    }
   ],
   "source": [
    "print(\"ashish\")"
   ]
  }
 ],
 "metadata": {
  "kernelspec": {
   "display_name": "Python 3 (ipykernel)",
   "language": "python",
   "name": "python3"
  },
  "language_info": {
   "codemirror_mode": {
    "name": "ipython",
    "version": 3
   },
   "file_extension": ".py",
   "mimetype": "text/x-python",
   "name": "python",
   "nbconvert_exporter": "python",
   "pygments_lexer": "ipython3",
   "version": "3.12.7"
  }
 },
 "nbformat": 4,
 "nbformat_minor": 5
}
