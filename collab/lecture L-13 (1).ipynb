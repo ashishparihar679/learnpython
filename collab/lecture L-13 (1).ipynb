{
 "cells": [
  {
   "cell_type": "code",
   "execution_count": null,
   "id": "a4c38038-20dc-4f9d-8c31-68b92ed770e3",
   "metadata": {},
   "outputs": [],
   "source": []
  },
  {
   "cell_type": "code",
   "execution_count": 45,
   "id": "8b93f3f9-fe00-43fe-a4bb-80b5f5153c22",
   "metadata": {},
   "outputs": [
    {
     "name": "stdout",
     "output_type": "stream",
     "text": [
      "[1, 9, 2, 3, 4, 5]\n"
     ]
    }
   ],
   "source": [
    "# .insert() method\n",
    "a =[1,2,3,4,5]\n",
    "a.insert(1,9)\n",
    "print(a)"
   ]
  },
  {
   "cell_type": "code",
   "execution_count": 49,
   "id": "c87922d6-33ab-40fd-8a9d-c9496ee1e511",
   "metadata": {},
   "outputs": [
    {
     "name": "stdout",
     "output_type": "stream",
     "text": [
      "0\n"
     ]
    }
   ],
   "source": [
    "# .index() method\n",
    "a =[1,2,3,4,5]\n",
    "print(a.index(1))\n"
   ]
  },
  {
   "cell_type": "markdown",
   "id": "4513c3dc-e368-4b7b-aeb8-5c1c42d55cfb",
   "metadata": {},
   "source": [
    "# .remove()method\n",
    "# # a =[1,2,,3,4,5]\n",
    "# a.remove(5)\n",
    "a =[\"cybrom\",\"cybrom\",\"cybrom\",\"cybrom\",\"cybrom\",\"cybrom\",\"cybrom\"]\n",
    "# a.count(\"cybrom\")\n",
    "print(a.count(\"cybrom\"))\n"
   ]
  },
  {
   "cell_type": "code",
   "execution_count": 93,
   "id": "1883b1b3-ec6f-44a9-981a-56dd52493045",
   "metadata": {},
   "outputs": [
    {
     "name": "stdout",
     "output_type": "stream",
     "text": [
      "[1, 2, 3, 3, 4, 5, 7]\n"
     ]
    }
   ],
   "source": [
    "# .sort ()method\n",
    "\n",
    "a =[1,2,3,7,4,5,3]\n",
    "a.sort()\n",
    "print(a)"
   ]
  },
  {
   "cell_type": "code",
   "execution_count": 97,
   "id": "bbb4a361-0b4e-4824-b221-3813331cc0f0",
   "metadata": {},
   "outputs": [
    {
     "name": "stdout",
     "output_type": "stream",
     "text": [
      "[' minal', 'bhopal', 'indrapuri', 'indrapuri', 'minal', 'mp nagar', 'ratnagiri']\n"
     ]
    }
   ],
   "source": [
    "# string value using .sort() method\n",
    "a =[\"bhopal\",\"ratnagiri\",\" minal\",\"mp nagar\",\"indrapuri\",\"minal\",\"indrapuri\"]\n",
    "a.sort()\n",
    "print(a)"
   ]
  }
 ],
 "metadata": {
  "kernelspec": {
   "display_name": "Python 3 (ipykernel)",
   "language": "python",
   "name": "python3"
  },
  "language_info": {
   "codemirror_mode": {
    "name": "ipython",
    "version": 3
   },
   "file_extension": ".py",
   "mimetype": "text/x-python",
   "name": "python",
   "nbconvert_exporter": "python",
   "pygments_lexer": "ipython3",
   "version": "3.12.7"
  }
 },
 "nbformat": 4,
 "nbformat_minor": 5
}
