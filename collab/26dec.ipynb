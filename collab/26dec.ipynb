{
 "cells": [
  {
   "cell_type": "code",
   "execution_count": 5,
   "metadata": {},
   "outputs": [
    {
     "name": "stdout",
     "output_type": "stream",
     "text": [
      "24\n"
     ]
    }
   ],
   "source": [
    "a = {\"name\":\"ashish\",\"age\":\"24\",\"city\":\"bhopal\"}\n",
    "print(a['age'])\n",
    "# acces the value associated with a specific key in dictionary"
   ]
  },
  {
   "cell_type": "code",
   "execution_count": 9,
   "metadata": {},
   "outputs": [
    {
     "name": "stdout",
     "output_type": "stream",
     "text": [
      "B\n",
      "dict_keys(['name', 'city'])\n"
     ]
    }
   ],
   "source": [
    "a = { \"name\": [\"A\",\"B\",\"C\"], \"city\":[\"bhopal\",\"indore\"]}\n",
    "print(a[\"name\"][1])\n",
    "d = a.keys()\n",
    "print(d)"
   ]
  },
  {
   "cell_type": "code",
   "execution_count": 11,
   "metadata": {},
   "outputs": [
    {
     "name": "stdout",
     "output_type": "stream",
     "text": [
      "{'name': ['A', 'B', 'C'], 'city': ['bhopal', 'indore'], 'age': '23'}\n"
     ]
    }
   ],
   "source": [
    "a = { \"name\": [\"A\",\"B\",\"C\"], \"city\":[\"bhopal\",\"indore\"]}\n",
    "a[\"age\"]=\"23\"\n",
    "print(a)"
   ]
  },
  {
   "cell_type": "code",
   "execution_count": null,
   "metadata": {},
   "outputs": [],
   "source": [
    "a = { \"name\": [\"A\",\"B\",\"C\"], \"city\":[\"bhopal\",\"indore\"]}\n",
    "if(name in a){\n",
    "    \n",
    "}\n"
   ]
  },
  {
   "cell_type": "code",
   "execution_count": 22,
   "metadata": {},
   "outputs": [
    {
     "name": "stdout",
     "output_type": "stream",
     "text": [
      "value 12\n",
      "value 16\n",
      "value 20\n",
      "value 24\n"
     ]
    }
   ],
   "source": [
    "a ={ 'ashish':12,'akash':16,'aryan':20,'harsh':24}\n",
    "n=input(\"enter the key that you fatch\")\n",
    "for n in a.keys():\n",
    "    print(\"value\",a[n])\n",
    "\n"
   ]
  },
  {
   "cell_type": "code",
   "execution_count": 30,
   "metadata": {},
   "outputs": [
    {
     "name": "stdout",
     "output_type": "stream",
     "text": [
      "{'ashish': 12, 'akash': 16, 'aryan': 20, 'harsh': 24, 'anshu': 45, 'karan': 67}\n"
     ]
    }
   ],
   "source": [
    "a ={ 'ashish':12,'akash':16,'aryan':20,'harsh':24}\n",
    "b ={ 'anshu':45, 'karan':67}\n",
    "a.update(b)\n",
    "print(a)"
   ]
  }
 ],
 "metadata": {
  "kernelspec": {
   "display_name": "Python 3",
   "language": "python",
   "name": "python3"
  },
  "language_info": {
   "codemirror_mode": {
    "name": "ipython",
    "version": 3
   },
   "file_extension": ".py",
   "mimetype": "text/x-python",
   "name": "python",
   "nbconvert_exporter": "python",
   "pygments_lexer": "ipython3",
   "version": "3.13.0"
  }
 },
 "nbformat": 4,
 "nbformat_minor": 2
}
