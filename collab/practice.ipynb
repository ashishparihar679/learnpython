{
 "cells": [
  {
   "cell_type": "code",
   "execution_count": null,
   "metadata": {},
   "outputs": [],
   "source": [
    "new_variable =\"cybrom\"\n",
    "new2_variable =\"  cybrom\"\n",
    "print(new2_variable)"
   ]
  },
  {
   "cell_type": "code",
   "execution_count": null,
   "metadata": {},
   "outputs": [],
   "source": [
    "a=int(input(\"enter the number 1 \"))\n",
    "b=int(input(\"enter the number 2 \"))\n",
    "print(\"squre of a and b = \", a**b)\n"
   ]
  },
  {
   "cell_type": "code",
   "execution_count": null,
   "metadata": {},
   "outputs": [
    {
     "name": "stdout",
     "output_type": "stream",
     "text": [
      "user eligible for voting\n"
     ]
    }
   ],
   "source": [
    "\n",
    "# WAP TO PROINT WEARHER A USER ELIGIBLE TO VOTE OR NOT\n",
    "a=int(input(\"enter your age \"))\n",
    "if(a>18):\n",
    "    print(\"user eligible for voting\")\n",
    "else:\n",
    "    print(\"user not eligible for \")"
   ]
  },
  {
   "cell_type": "code",
   "execution_count": 7,
   "metadata": {},
   "outputs": [
    {
     "name": "stdout",
     "output_type": "stream",
     "text": [
      "ashish\n"
     ]
    }
   ],
   "source": [
    "print(\"ashish\")"
   ]
  },
  {
   "cell_type": "code",
   "execution_count": 21,
   "metadata": {},
   "outputs": [
    {
     "name": "stdout",
     "output_type": "stream",
     "text": [
      "number is not divisible by 3\n"
     ]
    }
   ],
   "source": [
    "#WAP TO PRINT WEATHER A LAST DIGIT OF ANY NUMBER IS DIVISIBLE BY 3 OR NOT\n",
    "a = int(input(\" enter the number \"))\n",
    "b = a%10\n",
    "if(b%3==0):\n",
    "    print(\"number is divisible by 3\")\n",
    "else:   \n",
    "    print(\"number is not divisible by 3\")"
   ]
  },
  {
   "cell_type": "code",
   "execution_count": 23,
   "metadata": {},
   "outputs": [
    {
     "name": "stdout",
     "output_type": "stream",
     "text": [
      "number 3 is great 1 and 2 -> 3\n"
     ]
    }
   ],
   "source": [
    "#WAP TO FIND THE LARGEST NO AMAONG THREE NUMBERS\n",
    "a = int(input(\" enter the number 1\"))\n",
    "b = int(input(\" enter the number 2\"))\n",
    "c = int(input(\" enter the number 3\"))\n",
    "if(a>b and a>c):\n",
    "    print(\"number 1 is great 2 and 3 ->\", a)\n",
    "elif(b>c and b>a):\n",
    "    print(\"number 2 is great 1 and 3 ->\", b)\n",
    "else:\n",
    "    print(\"number 3 is great 1 and 2 ->\", c)\n"
   ]
  },
  {
   "cell_type": "code",
   "execution_count": 28,
   "metadata": {},
   "outputs": [
    {
     "name": "stdout",
     "output_type": "stream",
     "text": [
      "leap year\n"
     ]
    }
   ],
   "source": [
    " #WAP to find weather a year is a leap year or not\n",
    "a = int(input(\"enter the year\"))\n",
    "if(a%4==0):\n",
    "    print(\"leap year\")\n",
    "else:\n",
    "    print(\"not leap year\")\n"
   ]
  },
  {
   "cell_type": "code",
   "execution_count": null,
   "metadata": {},
   "outputs": [
    {
     "name": "stdout",
     "output_type": "stream",
     "text": [
      "number is negetive\n",
      "number is odd\n"
     ]
    }
   ],
   "source": [
    " #WAP TO CHECK NO IF ITS NEGETIVE POSITIVE OR ZERO AND IF ITS POSITIVE CHECK WHES=ATHER ITS ODD OR EVEN\n",
    "a = int(input(\"enter the number \"))\n",
    "if(a>0):\n",
    "    print(\"number is positive\")\n",
    "    if(a%2==0):\n",
    "        print(\"number is even\")\n",
    "    else:\n",
    "        print(\"number is odd\")\n",
    "elif(a<0):\n",
    "    print(\"number is negetive\")\n",
    "else:\n",
    "    print(\"number is zero\")\n",
    "     \n",
    "\n",
    "        \n"
   ]
  },
  {
   "cell_type": "code",
   "execution_count": 42,
   "metadata": {},
   "outputs": [
    {
     "name": "stdout",
     "output_type": "stream",
     "text": [
      "final amount is = 192.0\n"
     ]
    }
   ],
   "source": [
    "#WAP to find discount and final selling price Of article \n",
    "#if  MRP is greater to 1000 then discount will be 10% and \n",
    "#if mrp  is less than 1000 then discount is 5%\n",
    "\n",
    "a =int (input(\"enter amount\"))\n",
    "if(a>=1000):\n",
    "   b= a / 10\n",
    "   print(\"final amount is \",a-b)\n",
    "else:\n",
    "    b= a / 5\n",
    "    print(\"final amount is =\",a-b)"
   ]
  },
  {
   "cell_type": "code",
   "execution_count": 3,
   "metadata": {},
   "outputs": [
    {
     "name": "stdout",
     "output_type": "stream",
     "text": [
      "1 2 3 4 5 6 7 8 9 10 "
     ]
    }
   ],
   "source": [
    " #WAP TO PRINT FIRST 10 NATURAL NO (IN A SINGLE LINE)\n",
    "for i in range(1,11):\n",
    "    print(i,end=\" \")"
   ]
  },
  {
   "cell_type": "code",
   "execution_count": 4,
   "metadata": {},
   "outputs": [
    {
     "name": "stdout",
     "output_type": "stream",
     "text": [
      "0\n",
      "1\n",
      "2\n",
      "3\n",
      "4\n",
      "5\n",
      "6\n",
      "7\n",
      "8\n",
      "9\n",
      "10\n"
     ]
    }
   ],
   "source": [
    "#wap TO PRINT FIRST 10 WHOLE NO\n",
    "for i in range(11):\n",
    "    print(i)"
   ]
  },
  {
   "cell_type": "code",
   "execution_count": 13,
   "metadata": {},
   "outputs": [
    {
     "name": "stdout",
     "output_type": "stream",
     "text": [
      "even number\n",
      "2 4 6 8 10 12 14 16 18 20  odd number\n",
      "1 3 5 7 9 11 13 15 17 19 "
     ]
    }
   ],
   "source": [
    " #wap to PRINT FIRST 10 EVEN AND 10 ODD NO\n",
    "print(\"even number\")\n",
    "for i in range(2,21,2):\n",
    "    print(i,end=\" \")\n",
    "\n",
    "print(end=\" \")\n",
    "print(\"odd number\")\n",
    "for i in range(1,21,2):\n",
    "    print(i,end=\" \")"
   ]
  },
  {
   "cell_type": "code",
   "execution_count": 19,
   "metadata": {},
   "outputs": [
    {
     "name": "stdout",
     "output_type": "stream",
     "text": [
      "1 2 3 4 5 6 7 8 9 10 11 12 13 14 15 16 17 18 19 20 21 22 23 24 25 26 27 28 29 30 31 32 33 34 35 36 37 38 39 40 41 42 43 44 "
     ]
    }
   ],
   "source": [
    " #wap to print first n natural no\n",
    "n = int(input(\"enter number\"))\n",
    "for i in range(1,n+1):\n",
    "    print(i,end=\" \")"
   ]
  },
  {
   "cell_type": "code",
   "execution_count": 23,
   "metadata": {},
   "outputs": [
    {
     "name": "stdout",
     "output_type": "stream",
     "text": [
      "15 "
     ]
    }
   ],
   "source": [
    "#WAP TO PRINT SUM OF FIRST N NATURAL NUMBER\n",
    "sum = 0\n",
    "n = int(input(\"enter number\"))\n",
    "for i in range(1,n+1):\n",
    "    # print(i,end=\" \")\n",
    "    sum=sum +i\n",
    "print(sum,end=\" \")"
   ]
  },
  {
   "cell_type": "code",
   "execution_count": 29,
   "metadata": {},
   "outputs": [
    {
     "name": "stdout",
     "output_type": "stream",
     "text": [
      "120 "
     ]
    }
   ],
   "source": [
    " #multiplication of n natural no\n",
    "mul = 1\n",
    "n = int(input(\"enter number\"))\n",
    "for i in range(1,n+1):\n",
    "    # print(i,end=\" \")\n",
    "    mul=mul *i\n",
    "print(mul,end=\" \")"
   ]
  },
  {
   "cell_type": "code",
   "execution_count": 10,
   "metadata": {},
   "outputs": [
    {
     "name": "stdout",
     "output_type": "stream",
     "text": [
      "6 \n",
      "9 "
     ]
    }
   ],
   "source": [
    "#wap to print sum of first n even and odd no\n",
    "n=int (input(\"enter n\"))\n",
    "sume =0\n",
    "for i in range(2,n+1,2):\n",
    "    sume =sume+i\n",
    "print(sume,end=\" \")\n",
    "print()\n",
    "\n",
    "# print(end=\" \")\n",
    "# print(\"odd number\")\n",
    "sumo=0\n",
    "for i in range(1,n+1,2):\n",
    "    sumo= sumo+i\n",
    "print(sumo,end=\" \")"
   ]
  },
  {
   "cell_type": "code",
   "execution_count": 12,
   "metadata": {},
   "outputs": [
    {
     "name": "stdout",
     "output_type": "stream",
     "text": [
      "even  6 \n",
      "5 odd  9 "
     ]
    }
   ],
   "source": [
    "#wap to print sum of first n even and odd no with count\n",
    "n=int (input(\"enter n\"))\n",
    "sume =0\n",
    "for i in range(2,n+1,2):\n",
    "    sume =sume+i\n",
    "print(\"even \", sume,end=\" \")\n",
    "print()\n",
    "\n",
    "# print(end=\" \")\n",
    "# print(\"odd number\")\n",
    "sumo=0\n",
    "for i in range(1,n+1,2):\n",
    "    sumo= sumo+i\n",
    "print(i,\"odd \", sumo,end=\" \")"
   ]
  },
  {
   "cell_type": "code",
   "execution_count": 17,
   "metadata": {},
   "outputs": [
    {
     "name": "stdout",
     "output_type": "stream",
     "text": [
      "even  0 even  1 even  2 even  3 even  4 even  5 even  6 even  7 even  8 even  9 even  10 odd  10 "
     ]
    }
   ],
   "source": [
    "#wap to print sum of first n even and odd no with count\n",
    "n=int (input(\"enter n\"))\n",
    "# sume =0\n",
    "# sumo =0\n",
    "for i in range(n+1):\n",
    "  if(n%2==0):\n",
    "    print(\"even \",i,end=\" \")\n",
    "else:\n",
    "    print(\"odd \",i,end=\" \")"
   ]
  },
  {
   "cell_type": "code",
   "execution_count": 30,
   "metadata": {},
   "outputs": [
    {
     "name": "stdout",
     "output_type": "stream",
     "text": [
      "720 "
     ]
    }
   ],
   "source": [
    "#WAP TO PRINT FACTORIAL OF GIVEN NO with help of negetive steping.\n",
    "fact = 1\n",
    "n = int(input(\"enter number\"))\n",
    "for i in range(n+1,1,-1):\n",
    "    # print(i,end=\" \")\n",
    "    fact=fact *i\n",
    "print(fact,end=\" \")"
   ]
  },
  {
   "cell_type": "code",
   "execution_count": null,
   "metadata": {},
   "outputs": [],
   "source": [
    "#wap to check weather a no is prime or not\n"
   ]
  }
 ],
 "metadata": {
  "kernelspec": {
   "display_name": "Python 3",
   "language": "python",
   "name": "python3"
  },
  "language_info": {
   "codemirror_mode": {
    "name": "ipython",
    "version": 3
   },
   "file_extension": ".py",
   "mimetype": "text/x-python",
   "name": "python",
   "nbconvert_exporter": "python",
   "pygments_lexer": "ipython3",
   "version": "3.13.0"
  }
 },
 "nbformat": 4,
 "nbformat_minor": 2
}
