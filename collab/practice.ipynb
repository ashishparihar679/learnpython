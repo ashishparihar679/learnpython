{
 "cells": [
  {
   "cell_type": "code",
   "execution_count": null,
   "metadata": {},
   "outputs": [],
   "source": [
    "new_variable =\"cybrom\"\n",
    "new2_variable =\"  cybrom\"\n",
    "print(new2_variable)"
   ]
  },
  {
   "cell_type": "code",
   "execution_count": null,
   "metadata": {},
   "outputs": [],
   "source": [
    "a=int(input(\"enter the number 1 \"))\n",
    "b=int(input(\"enter the number 2 \"))\n",
    "print(\"squre of a and b = \", a**b)\n"
   ]
  },
  {
   "cell_type": "code",
   "execution_count": null,
   "metadata": {},
   "outputs": [
    {
     "name": "stdout",
     "output_type": "stream",
     "text": [
      "user eligible for voting\n"
     ]
    }
   ],
   "source": [
    "\n",
    "# WAP TO PROINT WEARHER A USER ELIGIBLE TO VOTE OR NOT\n",
    "a=int(input(\"enter your age \"))\n",
    "if(a>18):\n",
    "    print(\"user eligible for voting\")\n",
    "else:\n",
    "    print(\"user not eligible for \")"
   ]
  },
  {
   "cell_type": "code",
   "execution_count": 1,
   "metadata": {},
   "outputs": [
    {
     "name": "stdout",
     "output_type": "stream",
     "text": [
      "user not eligible forrrrrrrrrrr \n"
     ]
    }
   ],
   "source": [
    "\n",
    "# WAP TO PROINT WEARHER A USER ELIGIBLE TO VOTE OR NOT\n",
    "a=int(input(\"enter your age \"))\n",
    "if(a>18):\n",
    "    print(\"user eligible for votinggggggggggg\")\n",
    "else:\n",
    "    print(\"user not eligible forrrrrrrrrrr \")"
   ]
  },
  {
   "cell_type": "code",
   "execution_count": 1,
   "metadata": {},
   "outputs": [
    {
     "name": "stdout",
     "output_type": "stream",
     "text": [
      "user eligible for votinggggggggggg\n"
     ]
    }
   ],
   "source": [
    "\n",
    "# WAP TO PROINT WEARHER A USER ELIGIBLE TO VOTE OR NOT\n",
    "a=int(input(\"enter your age \"))\n",
    "if(a>18):\n",
    "    print(\"user eligible for votinggggggggggg\")\n",
    "else:\n",
    "    print(\"user not eligible forrrrrrrrrrrrrrrrrrrrr \")"
   ]
  },
  {
   "cell_type": "code",
   "execution_count": 1,
   "metadata": {},
   "outputs": [
    {
     "name": "stdout",
     "output_type": "stream",
     "text": [
      "user not eligible forrrrrrrrrrrrrrrrrrrrr \n"
     ]
    }
   ],
   "source": [
    "\n",
    "# WAP TO PROINT WEARHER A USER ELIGIBLE TO VOTE OR NOT\n",
    "a=int(input(\"enter your age \"))\n",
    "if(a>18):\n",
    "    print(\"user eligible for votinggggggggggggggggggggg\")\n",
    "else:\n",
    "    print(\"user not eligible forrrrrrrrrrrrrrrrrrrrr \")"
   ]
  },
  {
   "cell_type": "code",
   "execution_count": 7,
   "metadata": {},
   "outputs": [
    {
     "name": "stdout",
     "output_type": "stream",
     "text": [
      "ashish\n"
     ]
    }
   ],
   "source": [
    "print(\"ashish\")"
   ]
  },
  {
   "cell_type": "code",
   "execution_count": 21,
   "metadata": {},
   "outputs": [
    {
     "name": "stdout",
     "output_type": "stream",
     "text": [
      "number is not divisible by 3\n"
     ]
    }
   ],
   "source": [
    "#WAP TO PRINT WEATHER A LAST DIGIT OF ANY NUMBER IS DIVISIBLE BY 3 OR NOT\n",
    "a = int(input(\" enter the number \"))\n",
    "b = a%10\n",
    "if(b%3==0):\n",
    "    print(\"number is divisible by 3\")\n",
    "else:   \n",
    "    print(\"number is not divisible by 3\")"
   ]
  },
  {
   "cell_type": "code",
   "execution_count": 1,
   "metadata": {},
   "outputs": [
    {
     "name": "stdout",
     "output_type": "stream",
     "text": [
      "number is not divisible by 3\n"
     ]
    }
   ],
   "source": [
    "#WAP TO PRINT WEATHER A LAST DIGIT OF ANY NUMBER IS DIVISIBLE BY 3 OR NOT\n",
    "a = int(input(\" enter the number \"))\n",
    "b = a%10\n",
    "if(b%3==0):\n",
    "    print(\"number is divisible by 3 three\")\n",
    "else:   \n",
    "    print(\"number is not divisible by 3\")"
   ]
  },
  {
   "cell_type": "code",
   "execution_count": 23,
   "metadata": {},
   "outputs": [
    {
     "name": "stdout",
     "output_type": "stream",
     "text": [
      "number 3 is great 1 and 2 -> 3\n"
     ]
    }
   ],
   "source": [
    "#WAP TO FIND THE LARGEST NO AMAONG THREE NUMBERS\n",
    "a = int(input(\" enter the number 1\"))\n",
    "b = int(input(\" enter the number 2\"))\n",
    "c = int(input(\" enter the number 3\"))\n",
    "if(a>b and a>c):\n",
    "    print(\"number 1 is great 2 and 3 ->\", a)\n",
    "elif(b>c and b>a):\n",
    "    print(\"number 2 is great 1 and 3 ->\", b)\n",
    "else:\n",
    "    print(\"number 3 is great 1 and 2 ->\", c)\n"
   ]
  },
  {
   "cell_type": "code",
   "execution_count": 28,
   "metadata": {},
   "outputs": [
    {
     "name": "stdout",
     "output_type": "stream",
     "text": [
      "leap year\n"
     ]
    }
   ],
   "source": [
    " #WAP to find weather a year is a leap year or not\n",
    "a = int(input(\"enter the year\"))\n",
    "if(a%4==0):\n",
    "    print(\"leap year\")\n",
    "else:\n",
    "    print(\"not leap year\")\n"
   ]
  },
  {
   "cell_type": "code",
   "execution_count": 1,
   "metadata": {},
   "outputs": [
    {
     "name": "stdout",
     "output_type": "stream",
     "text": [
      "squre of a and b =  8\n"
     ]
    }
   ],
   "source": [
    "a=int(input(\"enter the number 1 \"))\n",
    "b=int(input(\"enter the number 2 \"))\n",
    "print(\"squre of a and b = \", a**b)\n"
   ]
  },
  {
   "cell_type": "code",
   "execution_count": 1,
   "metadata": {},
   "outputs": [
    {
     "name": "stdout",
     "output_type": "stream",
     "text": [
      "squre of a and b =  3552713678800500929355621337890625\n"
     ]
    }
   ],
   "source": [
    "a=int(input(\"enter the number 1 \"))\n",
    "b=int(input(\"enter the number 2000000000 \"))\n",
    "print(\"squre of a and b = \", a**b)\n"
   ]
  },
  {
   "cell_type": "code",
   "execution_count": 1,
   "metadata": {},
   "outputs": [
    {
     "name": "stdout",
     "output_type": "stream",
     "text": [
      "squre of a and b =  7355827511386641\n"
     ]
    }
   ],
   "source": [
    "a=int(input(\"enter the number 1000000000 \"))\n",
    "b=int(input(\"enter the number 2000000000 \"))\n",
    "print(\"squre of a and b = \", a**b)\n"
   ]
  },
  {
   "cell_type": "code",
   "execution_count": null,
   "metadata": {},
   "outputs": [
    {
     "name": "stdout",
     "output_type": "stream",
     "text": [
      "number is negetive\n",
      "number is odd\n"
     ]
    }
   ],
   "source": [
    " #WAP TO CHECK NO IF ITS NEGETIVE POSITIVE OR ZERO AND IF ITS POSITIVE CHECK WHES=ATHER ITS ODD OR EVEN\n",
    "a = int(input(\"enter the number \"))\n",
    "if(a>0):\n",
    "    print(\"number is positive\")\n",
    "    if(a%2==0):\n",
    "        print(\"number is even\")\n",
    "    else:\n",
    "        print(\"number is odd\")\n",
    "elif(a<0):\n",
    "    print(\"number is negetive\")\n",
    "else:\n",
    "    print(\"number is zero\")\n",
    "     \n",
    "\n",
    "        \n"
   ]
  },
  {
   "cell_type": "code",
   "execution_count": 1,
   "metadata": {},
   "outputs": [
    {
     "name": "stdout",
     "output_type": "stream",
     "text": [
      "number is positive\n",
      "number is oooodd\n"
     ]
    }
   ],
   "source": [
    " #WAP TO CHECK NO IF ITS NEGETIVE POSITIVE OR ZERO AND IF ITS POSITIVE CHECK WHES=ATHER ITS ODD OR EVEN\n",
    "a = int(input(\"enter the number \"))\n",
    "if(a>0):\n",
    "    print(\"number is positive\")\n",
    "    if(a%2==0):\n",
    "        print(\"number is eeeeven\")\n",
    "    else:\n",
    "        print(\"number is oooodd\")\n",
    "elif(a<0):\n",
    "    print(\"number is negetive\")\n",
    "else:\n",
    "    print(\"number is zero\")\n",
    "     \n",
    "\n",
    "        \n"
   ]
  },
  {
   "cell_type": "code",
   "execution_count": 1,
   "metadata": {},
   "outputs": [
    {
     "name": "stdout",
     "output_type": "stream",
     "text": [
      "number is positive\n",
      "number is oooodd\n"
     ]
    }
   ],
   "source": [
    " #WAP TO CHECK NO IF ITS NEGETIVE POSITIVE OR ZERO AND IF ITS POSITIVE CHECK WHES=ATHER ITS ODD OR EVEN\n",
    "a = int(input(\"enter the number \"))\n",
    "if(a>0):\n",
    "    print(\"number is positive\")\n",
    "    if(a%2==0):\n",
    "        print(\"number is eeeeven\")\n",
    "    else:\n",
    "        print(\"number is oooodd\")\n",
    "elif(a<0):\n",
    "    print(\"number is negetive\")\n",
    "else:\n",
    "    print(\"number is zero000000000\")\n",
    "     \n",
    "\n",
    "        \n"
   ]
  },
  {
   "cell_type": "code",
   "execution_count": 1,
   "metadata": {},
   "outputs": [
    {
     "name": "stdout",
     "output_type": "stream",
     "text": [
      "number is positive\n",
      "number is eeeeven\n"
     ]
    }
   ],
   "source": [
    " #WAP TO CHECK NO IF ITS NEGETIVE POSITIVE OR ZERO AND IF ITS POSITIVE CHECK WHES=ATHER ITS ODD OR EVEN\n",
    "a = int(input(\"enter the number \"))\n",
    "if(a>0):\n",
    "    print(\"number is positive\")\n",
    "    if(a%2==0):\n",
    "        print(\"number is eeeeven\")\n",
    "    else:\n",
    "        print(\"number is oooodd\")\n",
    "elif(a<0):\n",
    "    print(\"number is negetive\")\n",
    "else:\n",
    "    print(\"number is zero000000000\")\n",
    "     \n",
    "\n",
    "        \n"
   ]
  },
  {
   "cell_type": "code",
   "execution_count": 4,
   "metadata": {},
   "outputs": [
    {
     "name": "stdout",
     "output_type": "stream",
     "text": [
      "final amount is = 570.0\n"
     ]
    }
   ],
   "source": [
    "#WAP to find discount and final selling price Of article \n",
    "#if  MRP is greater to 1000 then discount will be 10% and \n",
    "#if mrp  is less than 1000 then discount is 5%\n",
    "\n",
    "a =int (input(\"enter amount\"))\n",
    "if(a>=1000):\n",
    "   b= (a*10)/100\n",
    "   print(\"final amount is \",a-b)\n",
    "else:\n",
    "    b= (a*5)/100\n",
    "    print(\"final amount is =\",a-b)"
   ]
  },
  {
   "cell_type": "code",
   "execution_count": 3,
   "metadata": {},
   "outputs": [
    {
     "name": "stdout",
     "output_type": "stream",
     "text": [
      "1 2 3 4 5 6 7 8 9 10 "
     ]
    }
   ],
   "source": [
    " #WAP TO PRINT FIRST 10 NATURAL NO (IN A SINGLE LINE)\n",
    "for i in range(1,11):\n",
    "    print(i,end=\" \")"
   ]
  },
  {
   "cell_type": "code",
   "execution_count": 4,
   "metadata": {},
   "outputs": [
    {
     "name": "stdout",
     "output_type": "stream",
     "text": [
      "0\n",
      "1\n",
      "2\n",
      "3\n",
      "4\n",
      "5\n",
      "6\n",
      "7\n",
      "8\n",
      "9\n",
      "10\n"
     ]
    }
   ],
   "source": [
    "#wap TO PRINT FIRST 10 WHOLE NO\n",
    "for i in range(11):\n",
    "    print(i)"
   ]
  },
  {
   "cell_type": "code",
   "execution_count": 13,
   "metadata": {},
   "outputs": [
    {
     "name": "stdout",
     "output_type": "stream",
     "text": [
      "even number\n",
      "2 4 6 8 10 12 14 16 18 20  odd number\n",
      "1 3 5 7 9 11 13 15 17 19 "
     ]
    }
   ],
   "source": [
    " #wap to PRINT FIRST 10 EVEN AND 10 ODD NO\n",
    "print(\"even number\")\n",
    "for i in range(2,21,2):\n",
    "    print(i,end=\" \")\n",
    "\n",
    "print(end=\" \")\n",
    "print(\"odd number\")\n",
    "for i in range(1,21,2):\n",
    "    print(i,end=\" \")"
   ]
  },
  {
   "cell_type": "code",
   "execution_count": 1,
   "metadata": {},
   "outputs": [
    {
     "name": "stdout",
     "output_type": "stream",
     "text": [
      "even number\n",
      "2 4 6 8 10 12 14 16 18 20  odd number\n",
      "1 4 7 10 13 16 19 "
     ]
    }
   ],
   "source": [
    " #wap to PRINT FIRST 10 EVEN AND 10 ODD NO\n",
    "print(\"even number\")\n",
    "for i in range(2,21,2):\n",
    "    print(i,end=\" \")\n",
    "\n",
    "print(end=\" \")\n",
    "print(\"odd number\")\n",
    "for i in range(1,21,3):\n",
    "    print(i,end=\" \")"
   ]
  },
  {
   "cell_type": "code",
   "execution_count": 1,
   "metadata": {},
   "outputs": [
    {
     "name": "stdout",
     "output_type": "stream",
     "text": [
      "even number\n",
      "2 4 6 8 10 12 14 16 18 20  odd nuuuuuuuuuuuumber\n",
      "1 4 7 10 13 16 19 "
     ]
    }
   ],
   "source": [
    " #wap to PRINT FIRST 10 EVEN AND 10 ODD NO\n",
    "print(\"even number\")\n",
    "for i in range(2,21,2):\n",
    "    print(i,end=\" \")\n",
    "\n",
    "print(end=\" \")\n",
    "print(\"odd nuuuuuuuuuuuumber\")\n",
    "for i in range(1,21,3):\n",
    "    print(i,end=\" \")"
   ]
  },
  {
   "cell_type": "code",
   "execution_count": 2,
   "metadata": {},
   "outputs": [
    {
     "name": "stdout",
     "output_type": "stream",
     "text": [
      "even numbehhhhhhhhhhhhhhr\n",
      "2 8 14 20  odd nuuuuuuuuuuuumber\n",
      "1 4 7 10 13 16 19 "
     ]
    }
   ],
   "source": [
    " #wap to PRINT FIRST 10 EVEN AND 10 ODD NO\n",
    "print(\"even numbehhhhhhhhhhhhhhr\")\n",
    "for i in range(2,21,6):\n",
    "    print(i,end=\" \")\n",
    "\n",
    "print(end=\" \")\n",
    "print(\"odd nuuuuuuuuuuuumber\")\n",
    "for i in range(1,21,3):\n",
    "    print(i,end=\" \")"
   ]
  },
  {
   "cell_type": "code",
   "execution_count": 19,
   "metadata": {},
   "outputs": [
    {
     "name": "stdout",
     "output_type": "stream",
     "text": [
      "1 2 3 4 5 6 7 8 9 10 11 12 13 14 15 16 17 18 19 20 21 22 23 24 25 26 27 28 29 30 31 32 33 34 35 36 37 38 39 40 41 42 43 44 "
     ]
    }
   ],
   "source": [
    " #wap to print first n natural no\n",
    "n = int(input(\"enter number\"))\n",
    "for i in range(1,n+1):\n",
    "    print(i,end=\" \")"
   ]
  },
  {
   "cell_type": "code",
   "execution_count": 23,
   "metadata": {},
   "outputs": [
    {
     "name": "stdout",
     "output_type": "stream",
     "text": [
      "15 "
     ]
    }
   ],
   "source": [
    "#WAP TO PRINT SUM OF FIRST N NATURAL NUMBER\n",
    "sum = 0\n",
    "n = int(input(\"enter number\"))\n",
    "for i in range(1,n+1):\n",
    "    # print(i,end=\" \")\n",
    "    sum=sum +i\n",
    "print(sum,end=\" \")"
   ]
  },
  {
   "cell_type": "code",
   "execution_count": 29,
   "metadata": {},
   "outputs": [
    {
     "name": "stdout",
     "output_type": "stream",
     "text": [
      "120 "
     ]
    }
   ],
   "source": [
    " #multiplication of n natural no\n",
    "mul = 1\n",
    "n = int(input(\"enter number\"))\n",
    "for i in range(1,n+1):\n",
    "    # print(i,end=\" \")\n",
    "    mul=mul *i\n",
    "print(mul,end=\" \")"
   ]
  },
  {
   "cell_type": "code",
   "execution_count": 1,
   "metadata": {},
   "outputs": [
    {
     "name": "stdout",
     "output_type": "stream",
     "text": [
      "25852016738884976640000 "
     ]
    }
   ],
   "source": [
    " #multiplication of n natural no\n",
    "mul = 1\n",
    "n = int(input(\"enter numberrrrrrrrrrrr\"))\n",
    "for i in range(1,n+1):\n",
    "    # print(i,end=\" \")\n",
    "    mul=mul *i\n",
    "print(mul,end=\" \")"
   ]
  },
  {
   "cell_type": "code",
   "execution_count": 1,
   "metadata": {},
   "outputs": [
    {
     "name": "stdout",
     "output_type": "stream",
     "text": [
      "2 "
     ]
    }
   ],
   "source": [
    " #multiplication of n natural no\n",
    "mul = 1\n",
    "n = int(input(\"enterrrrrrrrrrrrrrrrr numberrrrrrrrrrrr\"))\n",
    "for i in range(1,n+1):\n",
    "    # print(i,end=\" \")\n",
    "    mul=mul *i\n",
    "print(mul,end=\" \")"
   ]
  },
  {
   "cell_type": "code",
   "execution_count": 2,
   "metadata": {},
   "outputs": [
    {
     "name": "stdout",
     "output_type": "stream",
     "text": [
      "  5\n"
     ]
    }
   ],
   "source": [
    "#reverse number print\n",
    "a= int(input(\"enter value.......................\"))\n",
    "rev=0\n",
    "while a!=0:\n",
    "    digit=a%10\n",
    "    rev=(rev*10)+digit\n",
    "    a=a//10\n",
    "print(\" \",rev)\n",
    "    \n",
    "    \n",
    "    \n"
   ]
  },
  {
   "cell_type": "code",
   "execution_count": 10,
   "metadata": {},
   "outputs": [
    {
     "name": "stdout",
     "output_type": "stream",
     "text": [
      "6 \n",
      "9 "
     ]
    }
   ],
   "source": [
    "#wap to print sum of first n even and odd no\n",
    "n=int (input(\"enter n\"))\n",
    "sume =0\n",
    "for i in range(2,n+1,2):\n",
    "    sume =sume+i\n",
    "print(sume,end=\" \")\n",
    "print()\n",
    "\n",
    "# print(end=\" \")\n",
    "# print(\"odd number\")\n",
    "sumo=0\n",
    "for i in range(1,n+1,2):\n",
    "    sumo= sumo+i\n",
    "print(sumo,end=\" \")"
   ]
  },
  {
   "cell_type": "code",
   "execution_count": 12,
   "metadata": {},
   "outputs": [
    {
     "name": "stdout",
     "output_type": "stream",
     "text": [
      "even  6 \n",
      "5 odd  9 "
     ]
    }
   ],
   "source": [
    "#wap to print sum of first n even and odd no with count\n",
    "n=int (input(\"enter n\"))\n",
    "sume =0\n",
    "for i in range(2,n+1,2):\n",
    "    sume =sume+i\n",
    "print(\"even \", sume,end=\" \")\n",
    "print()\n",
    "\n",
    "# print(end=\" \")\n",
    "# print(\"odd number\")\n",
    "sumo=0\n",
    "for i in range(1,n+1,2):\n",
    "    sumo= sumo+i\n",
    "print(i,\"odd \", sumo,end=\" \")"
   ]
  },
  {
   "cell_type": "code",
   "execution_count": 17,
   "metadata": {},
   "outputs": [
    {
     "name": "stdout",
     "output_type": "stream",
     "text": [
      "even  0 even  1 even  2 even  3 even  4 even  5 even  6 even  7 even  8 even  9 even  10 odd  10 "
     ]
    }
   ],
   "source": [
    "#wap to print sum of first n even and odd no with count\n",
    "n=int (input(\"enter n\"))\n",
    "# sume =0\n",
    "# sumo =0\n",
    "for i in range(n+1):\n",
    "  if(n%2==0):\n",
    "    print(\"even \",i,end=\" \")\n",
    "else:\n",
    "    print(\"odd \",i,end=\" \")"
   ]
  },
  {
   "cell_type": "code",
   "execution_count": 30,
   "metadata": {},
   "outputs": [
    {
     "name": "stdout",
     "output_type": "stream",
     "text": [
      "720 "
     ]
    }
   ],
   "source": [
    "#WAP TO PRINT FACTORIAL OF GIVEN NO with help of negetive steping.\n",
    "fact = 1\n",
    "n = int(input(\"enter number\"))\n",
    "for i in range(n+1,1,-1):\n",
    "    # print(i,end=\" \")\n",
    "    fact=fact *i\n",
    "print(fact,end=\" \")"
   ]
  },
  {
   "cell_type": "code",
   "execution_count": null,
   "metadata": {},
   "outputs": [],
   "source": [
    "#wap to check weather a no is prime or not\n"
   ]
  },
  {
   "cell_type": "code",
   "execution_count": null,
   "metadata": {},
   "outputs": [],
   "source": [
    " \n",
    "#wap to fund withdrawl and to show case avilable fund\n",
    "a = int (input(\"enter the withdrawl amount\"))"
   ]
  },
  {
   "cell_type": "code",
   "execution_count": 7,
   "metadata": {},
   "outputs": [
    {
     "name": "stdout",
     "output_type": "stream",
     "text": [
      "the numbe is naither upper nor lower\n"
     ]
    }
   ],
   "source": [
    "char = input(\"enter value \")\n",
    "if char.isupper():\n",
    "    print(\"the number upper case\")\n",
    "elif char.islower():\n",
    "    print(\"the number is lower case\")\n",
    "else:\n",
    "    print(\"the numbe is naither upper nor lower\")"
   ]
  },
  {
   "cell_type": "code",
   "execution_count": 11,
   "metadata": {},
   "outputs": [
    {
     "name": "stdout",
     "output_type": "stream",
     "text": [
      "the character is special chararcter\n"
     ]
    }
   ],
   "source": [
    "a = input(\"Enter charcter\")\n",
    "if a.isdigit():\n",
    "    print(\"the character is digit\")\n",
    "elif a.isalpha():\n",
    "    print(\"the character is alphabet\")\n",
    "else :\n",
    "    print(\"the character is special chararcter\")"
   ]
  },
  {
   "cell_type": "code",
   "execution_count": 21,
   "metadata": {},
   "outputs": [
    {
     "name": "stdout",
     "output_type": "stream",
     "text": [
      "e in cybrom\n"
     ]
    }
   ],
   "source": [
    "a = \"we are in cybrom\"\n",
    "# print(a[1])\n",
    "# print(a[10:16])\n",
    "print(a[10:16:2])\n",
    "# print(a[-1:-7:-1])\n",
    "# print(a[-7:-1:1])\n",
    "# print(a[::-1])\n",
    "# print(a[-6::1])\n",
    "# print(a[5::])"
   ]
  },
  {
   "cell_type": "code",
   "execution_count": 1,
   "metadata": {},
   "outputs": [
    {
     "name": "stdout",
     "output_type": "stream",
     "text": [
      "  class is 4 center is 1 and strenght is 1\n"
     ]
    }
   ],
   "source": [
    "# str1= \"cybrom indrapuri\"\n",
    "# str2= str1.upper()\n",
    "# print(str2)\n",
    "\n",
    "\n",
    "# argument instructor\n",
    "# keyword instructor\n",
    "s_class =input(\"enter the class\")\n",
    "center = input(\"enter the center\")\n",
    "strength =int(input(\"enter the class streng\"))\n",
    "# print(f\"  class is {s_class} center is {center} and strenght is {strength}\")\n",
    "print(\"  class is {} center is {} and strenght is {}\".format(s_class,center,strength))\n",
    "\n",
    "# unstructure data storede = semi lake\n"
   ]
  },
  {
   "cell_type": "code",
   "execution_count": 23,
   "metadata": {},
   "outputs": [
    {
     "name": "stdout",
     "output_type": "stream",
     "text": [
      "CYBROM INDRAPURI\n"
     ]
    }
   ],
   "source": [
    "# function\n",
    "str1= \"cybrom indrapuri\"\n",
    "str2= str1.upper()\n",
    "print(str2)"
   ]
  },
  {
   "cell_type": "code",
   "execution_count": 24,
   "metadata": {},
   "outputs": [
    {
     "name": "stdout",
     "output_type": "stream",
     "text": [
      "cybrom indrapuri\n"
     ]
    }
   ],
   "source": [
    "\n",
    "str1= \"CYbrom indrapuri\"\n",
    "str2= str1.lower()\n",
    "print(str2)"
   ]
  },
  {
   "cell_type": "code",
   "execution_count": 25,
   "metadata": {},
   "outputs": [
    {
     "name": "stdout",
     "output_type": "stream",
     "text": [
      "Cybrom indrapuri\n"
     ]
    }
   ],
   "source": [
    "str1= \"cybrom indrapuri\"\n",
    "str2= str1.capitalize()\n",
    "print(str2)"
   ]
  },
  {
   "cell_type": "code",
   "execution_count": 27,
   "metadata": {},
   "outputs": [
    {
     "name": "stdout",
     "output_type": "stream",
     "text": [
      "False\n"
     ]
    }
   ],
   "source": [
    "str1= \"cybrom indrapuri\"\n",
    "# str2= str1.endswith(\"indrapuri\")\n",
    "str2= str1.endswith(\"i\")\n",
    "print(str2)"
   ]
  },
  {
   "cell_type": "code",
   "execution_count": 28,
   "metadata": {},
   "outputs": [
    {
     "name": "stdout",
     "output_type": "stream",
     "text": [
      "True\n"
     ]
    }
   ],
   "source": [
    "\n",
    "str1= \"cybrom indrapuri\"\n",
    "str2= str1.startswith(\"cybrom\")\n",
    "print(str2)"
   ]
  },
  {
   "cell_type": "code",
   "execution_count": 31,
   "metadata": {},
   "outputs": [
    {
     "name": "stdout",
     "output_type": "stream",
     "text": [
      "Cybrom indrapuri\n",
      "original string cybrom indrapuri\n",
      "returned string Cybrom indrapuri\n"
     ]
    }
   ],
   "source": [
    "\n",
    "str1= \"cybrom indrapuri\"\n",
    "str2= str1.capitalize()\n",
    "print(str2)\n",
    "\n",
    "print(f\"original string {str1}\")\n",
    "print(f\"returned string {str2}\")\n"
   ]
  },
  {
   "cell_type": "code",
   "execution_count": 2,
   "metadata": {},
   "outputs": [
    {
     "name": "stdout",
     "output_type": "stream",
     "text": [
      "8\n",
      "cybrom mpnagar\n",
      "['cybrom mpnagar']\n",
      "['apple ', ' banana', ' grape']\n"
     ]
    }
   ],
   "source": [
    "# function\n",
    "str1= \"cybrom indrapuri\"\n",
    "str2= str1.find(\"n\")\n",
    "# str2= str1.find(\"t\")\n",
    "print(str2)\n",
    "\n",
    "str1= \"cybrom indrapuri\"\n",
    "# str1[5] = \"d\"   value assign nhi kar sakte hai but replace kar sakte h\n",
    "str2 = str1.replace(\"indrapuri\",\"mpnagar\")\n",
    "print(str2)\n",
    "print(str2.split(\",\"))\n",
    "\n",
    "s = \"apple , banana, grape\"\n",
    "print(s.split(\",\"))"
   ]
  },
  {
   "cell_type": "code",
   "execution_count": 33,
   "metadata": {},
   "outputs": [
    {
     "name": "stdout",
     "output_type": "stream",
     "text": [
      "cybrom indrapuri\n",
      "cybrom indrapuri     \n",
      "     cybrom indrapuri\n"
     ]
    }
   ],
   "source": [
    "str1 = \"     cybrom indrapuri     \"\n",
    "str2 = str1.strip()\n",
    "print(str2)\n",
    "\n",
    "\n",
    "str1 = \"     cybrom indrapuri     \"\n",
    "str2 = str1.lstrip()\n",
    "print(str2)\n",
    "\n",
    "str1 = \"     cybrom indrapuri     \"\n",
    "str2 = str1.rstrip()\n",
    "print(str2)\n",
    "\n",
    "# str1 = \"python\"\n",
    "# str2 = str1.upper()\n",
    "# print(str2)\n"
   ]
  },
  {
   "cell_type": "code",
   "execution_count": 36,
   "metadata": {},
   "outputs": [
    {
     "name": "stdout",
     "output_type": "stream",
     "text": [
      "3\n"
     ]
    }
   ],
   "source": [
    "# every eliment with alist is comma sapreted\n",
    "# mutebale in nature\n",
    "# homogenious\n",
    "# we can create empty list as well\n",
    "\n",
    "# a =[1,2,3,4] # single diamantional\n",
    "# print(type(a))\n",
    "\n",
    "# a =[1,\"cybrom\",2,0.6]\n",
    "# print(type(a))\n",
    "# a = []\n",
    "# print(a)\n",
    "\n",
    "b = [1,2,3,[4,5,6,[7,8,9]]]   #multi diamantional\n",
    "# print(b[3][3][1])\n",
    "print(b[-2])\n",
    "\n",
    "\n",
    "# a =[1,2,3,4] # single diamantional\n",
    "# print(a[-1])\n",
    "\n",
    "# a = [\"DA\", \"DS\",\"FULLstack\"]\n",
    "# print(a[0])\n",
    "# print(a[-1])\n",
    "\n",
    "\n",
    "# method\n",
    "# a = [\"DA\", \"DS\",\"FULLstack\"]\n",
    "# print(a.append(1))\n",
    "\n",
    "# append\n",
    "# extend\n"
   ]
  },
  {
   "cell_type": "code",
   "execution_count": 37,
   "metadata": {},
   "outputs": [
    {
     "name": "stdout",
     "output_type": "stream",
     "text": [
      "1\n",
      "4\n",
      "16\n",
      "36\n",
      "121\n",
      "196\n",
      "289\n",
      "400\n",
      "[1, 4, 16, 36, 121, 196, 289, 400]\n"
     ]
    }
   ],
   "source": [
    "list_of_number = [1,2,4,6,11,14,17,20]\n",
    "a = []\n",
    "for i in list_of_number:\n",
    "    square = i*i\n",
    "    print(square)\n",
    "    a.append(square)\n",
    "print(a)\n"
   ]
  },
  {
   "cell_type": "code",
   "execution_count": 38,
   "metadata": {},
   "outputs": [
    {
     "name": "stdout",
     "output_type": "stream",
     "text": [
      "5\n",
      "4\n",
      "3\n",
      "2\n",
      "1\n"
     ]
    }
   ],
   "source": [
    "# for i in range(5):\n",
    "#     print(i)\n",
    "\n",
    "# range\n",
    "# start\n",
    "# stop\n",
    "# stepsize\n",
    "for i in range(5,0,-1):\n",
    "    print(i)"
   ]
  },
  {
   "cell_type": "code",
   "execution_count": 40,
   "metadata": {},
   "outputs": [
    {
     "name": "stdout",
     "output_type": "stream",
     "text": [
      "i   a m   s t u d e n t "
     ]
    }
   ],
   "source": [
    "ashish =  \"i am student\" \n",
    "for a in ashish:\n",
    "    # print(a,end=\" \")"
   ]
  },
  {
   "cell_type": "code",
   "execution_count": null,
   "metadata": {},
   "outputs": [
    {
     "name": "stdout",
     "output_type": "stream",
     "text": [
      "not a prime number\n",
      "not a prime number\n",
      "not a prime number\n",
      "not a prime number\n",
      "prime number\n"
     ]
    }
   ],
   "source": [
    "n = int(input(\"enetr any number \"))\n",
    "if n==0 or n==1:\n",
    "    print(\"not a prime number\")\n",
    "elif n>1:\n",
    "     for i in range(2,n):\n",
    "          if n%i==0:\n",
    "               print(\"not a prime number\")\n",
    "               break\n",
    "     else:\n",
    "               print(\"prime number\")\n",
    "else:\n",
    "     print(\"Not prime\")\n",
    "\n",
    "    "
   ]
  },
  {
   "cell_type": "code",
   "execution_count": 2,
   "metadata": {},
   "outputs": [
    {
     "name": "stdout",
     "output_type": "stream",
     "text": [
      "The 57 is not a leap year\n"
     ]
    }
   ],
   "source": [
    "#WAP to find weather a year is a leap year or not\n",
    "\n",
    "a = int(input(\"enter the year\"))\n",
    "# if(a%4==0 and a!=100):\n",
    "if(a%4 == 0):\n",
    "    print(f\"The {a} is a leap year\")\n",
    "else:\n",
    "    print(f\"The {a} is not a leap year\")"
   ]
  },
  {
   "cell_type": "code",
   "execution_count": 8,
   "metadata": {},
   "outputs": [
    {
     "name": "stdout",
     "output_type": "stream",
     "text": [
      "e\n",
      "cybrom\n",
      "cbo\n",
      "morbyc\n",
      " cybro\n",
      "morbyc ni era ew\n",
      "cybrom\n",
      "e in cybrom\n"
     ]
    }
   ],
   "source": [
    "a = \"we are in cybrom\"\n",
    "print(a[1])\n",
    "print(a[10:16])\n",
    "print(a[10:16:2])\n",
    "print(a[-1:-7:-1])\n",
    "print(a[-7:-1:1])\n",
    "print(a[::-1])\n",
    "print(a[-6::1])\n",
    "print(a[5::])"
   ]
  },
  {
   "cell_type": "code",
   "execution_count": 2,
   "metadata": {},
   "outputs": [
    {
     "name": "stdout",
     "output_type": "stream",
     "text": [
      "e\n"
     ]
    }
   ],
   "source": [
    "a = \"we are in cybrom\"\n",
    "print(a[1])"
   ]
  },
  {
   "cell_type": "code",
   "execution_count": 9,
   "metadata": {},
   "outputs": [
    {
     "name": "stdout",
     "output_type": "stream",
     "text": [
      "CYBROM INDRAPURI\n",
      "cybrom indrapuri\n",
      "Cybrom indrapuri\n",
      "True\n",
      "True\n",
      "True\n",
      "Cybrom indrapuri\n",
      "original string cybrom indrapuri\n",
      "returned string Cybrom indrapuri\n"
     ]
    }
   ],
   "source": [
    "# function\n",
    "str1= \"cybrom indrapuri\"\n",
    "str2= str1.upper()\n",
    "print(str2)\n",
    "\n",
    "str1= \"CYbrom indrapuri\"\n",
    "str2= str1.lower()\n",
    "print(str2)\n",
    "\n",
    "str1= \"cybrom indrapuri\"\n",
    "str2= str1.capitalize()\n",
    "print(str2)\n",
    "\n",
    "str1= \"cybrom indrapuri\"\n",
    "# str2= str1.endswith(\"indrapuri\")\n",
    "str2= str1.endswith(\"i\")\n",
    "print(str2)\n",
    "\n",
    "str1= \"cybrom indrapuri\"\n",
    "str2= str1.startswith(\"cybrom\")\n",
    "print(str2)\n",
    "\n",
    "\n",
    "str1= \"cybrom indrapuri\"\n",
    "str2= str1.startswith(\"cybrom\")\n",
    "print(str2)\n",
    "str1= \"cybrom indrapuri\"\n",
    "str2= str1.capitalize()\n",
    "print(str2)\n",
    "print(f\"original string {str1}\")\n",
    "print(f\"returned string {str2}\")\n",
    "\n",
    "# method\n",
    "# print(len(str1))"
   ]
  },
  {
   "cell_type": "code",
   "execution_count": 5,
   "metadata": {},
   "outputs": [
    {
     "name": "stdout",
     "output_type": "stream",
     "text": [
      "CYBROM INDRAPURI\n",
      "True\n",
      "cybrom indrapuri\n",
      "True\n"
     ]
    }
   ],
   "source": [
    "str1 = \"cybrom indrapuri\"\n",
    "str2 = str1.upper()\n",
    "print(str2)\n",
    "\n",
    "# str1 = \"cybrom indrapuri\"\n",
    "s = str2.isupper()\n",
    "print(s)\n",
    "\n",
    "str1 = \"cybrom indrapuri\"\n",
    "str2 = str1.lower()\n",
    "print(str2)\n",
    "\n",
    "str1 = \"cybrom indrapuri\"\n",
    "str2 = str1.islower()\n",
    "print(str2)"
   ]
  },
  {
   "cell_type": "code",
   "execution_count": 1,
   "metadata": {},
   "outputs": [
    {
     "name": "stdout",
     "output_type": "stream",
     "text": [
      "CYBROM INDRAPURI\n",
      "True\n",
      "cybrom indrapuri\n",
      "True\n"
     ]
    }
   ],
   "source": [
    "str1 = \"cybrom indrapuri\"\n",
    "str2 = str1.upper()\n",
    "print(str2)\n",
    "\n",
    "# str1 = \"cybrom indrapuri\"\n",
    "s = str2.isupper()\n",
    "print(s)\n",
    "\n",
    "str1 = \"cybrom indrapuri\"\n",
    "str2 = str1.lower()\n",
    "print(str2)\n",
    "\n",
    "str1 = \"cybrom indrapuri\"\n",
    "str2 = str1.islower()\n",
    "print(str2)\n",
    "/\n"
   ]
  },
  {
   "cell_type": "code",
   "execution_count": null,
   "metadata": {},
   "outputs": [
    {
     "name": "stdout",
     "output_type": "stream",
     "text": [
      "CYBROM INDRAPURI\n",
      "True\n",
      "cybrom indrapuri\n",
      "True\n"
     ]
    },
    {
     "data": {
      "text/plain": [
       "()"
      ]
     },
     "execution_count": 1,
     "metadata": {},
     "output_type": "execute_result"
    }
   ],
   "source": [
    "str1 = \"cybrom indrapuri\"\n",
    "str2 = str1.upper()\n",
    "print(str2)\n",
    "\n",
    "# str1 = \"cybrom indrapuri\"\n",
    "s = str2.isupper()\n",
    "print(s)\n",
    "\n",
    "str1 = \"cybrom indrapuri\"\n",
    "str2 = str1.lower()\n",
    "print(str2)\n",
    "\n",
    "str1 = \"cybrom indrapuri\"\n",
    "str2 = str1.islower()\n",
    "print(str2)\n"
   ]
  },
  {
   "cell_type": "code",
   "execution_count": null,
   "metadata": {},
   "outputs": [],
   "source": []
  },
  {
   "cell_type": "code",
   "execution_count": 8,
   "metadata": {},
   "outputs": [
    {
     "name": "stdout",
     "output_type": "stream",
     "text": [
      "cybrom indrapuri\n",
      "cybrom indrapuri     \n",
      "     cybrom indrapuri\n"
     ]
    }
   ],
   "source": [
    "str1 = \"     cybrom indrapuri     \"\n",
    "str2 = str1.strip()\n",
    "print(str2)\n",
    "\n",
    "\n",
    "str1 = \"     cybrom indrapuri     \"\n",
    "str2 = str1.lstrip()\n",
    "print(str2)\n",
    "\n",
    "str11 = \"     cybrom indrapuri     \"\n",
    "str21 = str11.rstrip()\n",
    "print(str21)\n",
    "\n",
    "# str1 = \"python\"\n",
    "# str2 = str1.upper()\n",
    "# print(str2)\n"
   ]
  },
  {
   "cell_type": "code",
   "execution_count": 9,
   "metadata": {},
   "outputs": [
    {
     "name": "stdout",
     "output_type": "stream",
     "text": [
      "10\n",
      "[1, 2, 3, 1, 1, 1, 3, 10, 5, 8, 'Append me!']\n",
      "[1, 2, 'cybrom', 2.05, 'cybrom', 80]\n",
      "[1, 2, 3, 1, 1, 1, 3, 10, 5, 8, 'Append me!', [5, 6, 8, 9]]\n",
      "[1, 2, 3, 1, 1, 1, 3, 10, 5, 8, 'Append me!', [5, 6, 8, 9], 'wubba', 'lubba', 'dub', 'dub']\n",
      "[1, 2, 3, 1, 1, 1, 3, 10, 5, 8, 'Append me!', 'wubba', 'lubba', 'dub', 'dub']\n"
     ]
    }
   ],
   "source": [
    "my_list = [1,2,3,1,1,1,3,10,5,8]\n",
    "print(len(my_list))\n",
    "my_list.append('Append me!')\n",
    "print(my_list)\n",
    "\n",
    "a= [1,2,\"cybrom\",2.05]\n",
    "a.append(\"cybrom\")\n",
    "a.append(80)\n",
    "print(a)\n",
    "\n",
    "my_list.append([5,6,8,9])\n",
    "print(my_list)                                                  \n",
    "\n",
    "my_list.extend(['wubba', 'lubba', 'dub','dub'])\n",
    "# my_list.append(['wubba', 'lubba', 'dub','dub'])\n",
    "print(my_list)\n",
    "# # print(sorted(my_list))\n",
    "                    \n",
    "# # pop off the 0 indexed item\n",
    "# my_list.pop()\n",
    "# print(my_list)\n",
    "my_list.pop(-5)\n",
    "print(my_list)"
   ]
  },
  {
   "cell_type": "code",
   "execution_count": 1,
   "metadata": {},
   "outputs": [
    {
     "name": "stdout",
     "output_type": "stream",
     "text": [
      "10\n",
      "[1, 2, 3, 1, 1, 1, 3, 10, 5, 8, 'Append me!']\n",
      "[1, 2, 'cybrom', 2.05, 'cybrom', 80]\n",
      "[1, 2, 3, 1, 1, 1, 3, 10, 5, 8, 'Append me!', [5, 6, 8, 9]]\n",
      "[1, 2, 3, 1, 1, 1, 3, 10, 5, 8, 'Append me!', [5, 6, 8, 9], 'wubba', 'lubba', 'dub', 'dub']\n",
      "[1, 2, 3, 1, 1, 1, 3, 10, 5, 8, 'Append me!', 'wubba', 'lubba', 'dub', 'dub']\n"
     ]
    }
   ],
   "source": [
    "my_list = [1,2,3,1,1,1,3,10,5,8]\n",
    "print(len(my_list))\n",
    "my_list.append('Append me!')\n",
    "print(my_list)\n",
    "\n",
    "a= [1,2,\"cybrom\",2.05]\n",
    "a.append(\"cybrom\")\n",
    "a.append(80)\n",
    "print(a)\n",
    "\n",
    "my_list.append([5,6,8,9])\n",
    "print(my_list)                                                  \n",
    "\n",
    "my_list.extend(['wubba', 'lubba', 'dub','dub'])\n",
    "# my_list.append(['wubba', 'lubba', 'dub','dub'])\n",
    "print(my_list)\n",
    "# # print(sorted(my_list))\n",
    "                    \n",
    "# # pop off the 0 indexed item\n",
    "# my_list.pop()\n",
    "# print(my_list)\n",
    "my_list.pop(-5)\n",
    "print(my_list)"
   ]
  },
  {
   "cell_type": "code",
   "execution_count": 1,
   "metadata": {},
   "outputs": [
    {
     "ename": "ModuleNotFoundError",
     "evalue": "No module named 'pandas'",
     "output_type": "error",
     "traceback": [
      "\u001b[1;31m---------------------------------------------------------------------------\u001b[0m",
      "\u001b[1;31mModuleNotFoundError\u001b[0m                       Traceback (most recent call last)",
      "Cell \u001b[1;32mIn[1], line 1\u001b[0m\n\u001b[1;32m----> 1\u001b[0m \u001b[38;5;28;01mimport\u001b[39;00m \u001b[38;5;21;01mpandas\u001b[39;00m \u001b[38;5;28;01mas\u001b[39;00m \u001b[38;5;21;01mpd\u001b[39;00m\n\u001b[0;32m      2\u001b[0m \u001b[38;5;28;01mimport\u001b[39;00m \u001b[38;5;21;01mnumpy\u001b[39;00m \u001b[38;5;28;01mas\u001b[39;00m \u001b[38;5;21;01mnp\u001b[39;00m\n\u001b[0;32m      3\u001b[0m \u001b[38;5;28;01mfrom\u001b[39;00m \u001b[38;5;21;01msklearn\u001b[39;00m\u001b[38;5;21;01m.\u001b[39;00m\u001b[38;5;21;01mcluster\u001b[39;00m \u001b[38;5;28;01mimport\u001b[39;00m KMeans\n",
      "\u001b[1;31mModuleNotFoundError\u001b[0m: No module named 'pandas'"
     ]
    }
   ],
   "source": [
    "import pandas as pd\n",
    "import numpy as np\n",
    "from sklearn.cluster import KMeans\n",
    "import matplotlib.pyplot as plt\n",
    "from geopy.geocoders import Nominatim\n",
    "\n",
    "# Step 1: Load the data (Replace 'crime_data.csv' with your dataset)\n",
    "# Ensure the dataset has columns like 'latitude', 'longitude', 'crime_count', etc.\n",
    "try:\n",
    "    crime_data = pd.read_csv('crime_data.csv')\n",
    "    print(\"Data Loaded Successfully!\")\n",
    "except FileNotFoundError:\n",
    "    print(\"Dataset not found. Please ensure 'crime_data.csv' is in the working directory.\")\n",
    "    exit()\n",
    "\n",
    "# Step 2: Preprocess the data\n",
    "crime_data = crime_data.dropna()  # Remove missing values\n",
    "crime_data = crime_data[['latitude', 'longitude', 'crime_count']]  # Select relevant columns\n",
    "\n",
    "# Step 3: Apply K-Means Clustering to identify hotspots\n",
    "kmeans = KMeans(n_clusters=5, random_state=42)  # Assuming 5 hotspots\n",
    "crime_data['cluster'] = kmeans.fit_predict(crime_data[['latitude', 'longitude']])\n",
    "\n",
    "# Step 4: Visualize the clusters (optional for agencies)\n",
    "plt.figure(figsize=(10, 6))\n",
    "for cluster in range(5):\n",
    "    cluster_data = crime_data[crime_data['cluster'] == cluster]\n",
    "    plt.scatter(cluster_data['longitude'], cluster_data['latitude'], label=f'Hotspot {cluster}')\n",
    "plt.xlabel('Longitude')\n",
    "plt.ylabel('Latitude')\n",
    "plt.title('Crime Hotspots')\n",
    "plt.legend()\n",
    "plt.show()\n",
    "\n",
    "# Step 5: Generate alerts for agencies\n",
    "geolocator = Nominatim(user_agent=\"crime_hotspot_detector\")\n",
    "alerts = []\n",
    "for cluster in range(5):\n",
    "    cluster_data = crime_data[crime_data['cluster'] == cluster]\n",
    "    if cluster_data['crime_count'].sum() > 50:  # Threshold for crime hotspot\n",
    "        # Get approximate location for the cluster\n",
    "        center_lat = cluster_data['latitude'].mean()\n",
    "        center_lon = cluster_data['longitude'].mean()\n",
    "        location = geolocator.reverse((center_lat, center_lon), language='en')\n",
    "        alerts.append(f\"Hotspot Detected: Cluster {cluster} near {location.address}. Notify agencies.\")\n",
    "\n",
    "# Step 6: Print the alerts\n",
    "for alert in alerts:\n",
    "    print(alert)\n",
    "\n",
    "# Step 7: Save alerts to a file\n",
    "with open('alerts.txt', 'w') as file:\n",
    "    for alert in alerts:\n",
    "        file.write(alert + '\\n')\n"
   ]
  },
  {
   "cell_type": "code",
   "execution_count": 1,
   "metadata": {},
   "outputs": [
    {
     "data": {
      "text/plain": [
       "'odd'"
      ]
     },
     "execution_count": 1,
     "metadata": {},
     "output_type": "execute_result"
    }
   ],
   "source": [
    "# Create a lambda function to check if a number is even or odd.\n",
    "even = lambda a: \"even\" if a%2==0 else \"odd\"\n",
    "even(5)"
   ]
  },
  {
   "cell_type": "code",
   "execution_count": 1,
   "metadata": {},
   "outputs": [
    {
     "ename": "NameError",
     "evalue": "name 'ii' is not defined",
     "output_type": "error",
     "traceback": [
      "\u001b[1;31m---------------------------------------------------------------------------\u001b[0m",
      "\u001b[1;31mNameError\u001b[0m                                 Traceback (most recent call last)",
      "Cell \u001b[1;32mIn[1], line 6\u001b[0m\n\u001b[0;32m      4\u001b[0m    \u001b[38;5;28;01mfor\u001b[39;00m j \u001b[38;5;129;01min\u001b[39;00m \u001b[38;5;28mrange\u001b[39m(i\u001b[38;5;241m+\u001b[39m\u001b[38;5;241m1\u001b[39m,\u001b[38;5;28mlen\u001b[39m(l)):\n\u001b[0;32m      5\u001b[0m       \u001b[38;5;28;01mif\u001b[39;00m l[i]\u001b[38;5;241m>\u001b[39ml[j]:\n\u001b[1;32m----> 6\u001b[0m           l[i],l[j]\u001b[38;5;241m=\u001b[39ml[j],l[\u001b[43mii\u001b[49m]\n\u001b[0;32m      7\u001b[0m \u001b[38;5;28mprint\u001b[39m(l)\n",
      "\u001b[1;31mNameError\u001b[0m: name 'ii' is not defined"
     ]
    }
   ],
   "source": [
    "# accednding sorting list(bubble sort)\n",
    "l=[100,1,200,10]\n",
    "for i in range(len(l)):\n",
    "   for j in range(i+1,len(l)):\n",
    "      if l[i]>l[j]:\n",
    "          l[i],l[j]=l[j],l[ii]\n",
    "print(l)\n"
   ]
  },
  {
   "cell_type": "code",
   "execution_count": 1,
   "metadata": {},
   "outputs": [
    {
     "name": "stdout",
     "output_type": "stream",
     "text": [
      "6\n",
      "7\n"
     ]
    }
   ],
   "source": [
    "# Type casting integer\n",
    "a=\"3\"\n",
    "b=\"3\"\n",
    "print(int(a)+int(b))\n",
    "\n",
    "\n",
    "# taking input from user\n",
    "a=int(input(\"enter the value1111:\"))\n",
    "b= int(input(\"enter the value2:\"))\n",
    "print(a+b)\n",
    "\n",
    "    "
   ]
  },
  {
   "cell_type": "code",
   "execution_count": 1,
   "metadata": {},
   "outputs": [
    {
     "name": "stdout",
     "output_type": "stream",
     "text": [
      "10\n"
     ]
    }
   ],
   "source": [
    "\n",
    "a=int(input(\"enter the value1111:\"))\n",
    "b= int(input(\"enter the value2:\"))\n",
    "print(a+b)\n"
   ]
  },
  {
   "cell_type": "code",
   "execution_count": 3,
   "metadata": {},
   "outputs": [
    {
     "name": "stdout",
     "output_type": "stream",
     "text": [
      "15\n"
     ]
    }
   ],
   "source": [
    "\n",
    "a=int(input(\"enter the value1111:\"))\n",
    "b= int(input(\"enter the value2:\"))\n",
    "c= int(input(\"enter the value3:\"))\n",
    "print(a+b+c)\n"
   ]
  },
  {
   "cell_type": "code",
   "execution_count": 1,
   "metadata": {},
   "outputs": [
    {
     "name": "stdout",
     "output_type": "stream",
     "text": [
      "CYBROM INDRAPURI\n",
      "cybrom indrapuri\n",
      "Cybrom indrapuri\n",
      "True\n",
      "True\n"
     ]
    }
   ],
   "source": [
    "# function\n",
    "str1= \"cybrom indrapuri\"\n",
    "str2= str1.upper()\n",
    "print(str2)\n",
    "\n",
    "str1= \"CYbrom indrapuri\"\n",
    "str2= str1.lower()\n",
    "print(str2)\n",
    "\n",
    "str1= \"cybrom indrapuri\"\n",
    "str2= str1.capitalize()\n",
    "print(str2)\n",
    "\n",
    "str1= \"cybrom indrapuri\"\n",
    "# str2= str1.endswith(\"indrapuri\")\n",
    "str2= str1.endswith(\"i\")\n",
    "print(str2)\n",
    "\n",
    "str1= \"cybrom indrapuri\"\n",
    "str2= str1.startswith(\"cybrom\")\n",
    "print(str2)\n",
    "\n",
    "# method\n",
    "# print(len(str1))"
   ]
  },
  {
   "cell_type": "code",
   "execution_count": 1,
   "metadata": {},
   "outputs": [
    {
     "name": "stdout",
     "output_type": "stream",
     "text": [
      "{'name': ['abc', 'xyz', 'pqr'], 'subject': ['da', 'ds', 'java'], 'fees': [10000, 20000, 30000], 'city': ['bpl', 'jbpll', 'gwl']}\n"
     ]
    }
   ],
   "source": [
    " #uodate\n",
    "d={\"name\":['abc','xyz',\"pqr\"],\n",
    "   'subject':['da','ds','java'],\n",
    "   'fees':[10000,20000,30000]}\n",
    "d.update(city=[\"bpl\",\"jbpll\",\"gwl\"])\n",
    "print(d)\n",
    "\n"
   ]
  },
  {
   "cell_type": "code",
   "execution_count": 2,
   "metadata": {},
   "outputs": [
    {
     "name": "stdout",
     "output_type": "stream",
     "text": [
      "{'name': ['abc', 'xyz', 'pqr'], 'subject': ['da', 'ds..', 'java'], 'fees': [10000, 20000, 30000]}\n"
     ]
    }
   ],
   "source": [
    "#DICT-dict is keyword to typecast into dictionary\n",
    "\n",
    "d=dict(name=['abc','xyz',\"pqr\"],subject=['da','ds..','java'],fees=[10000,20000,30000])\n",
    "print(d)"
   ]
  },
  {
   "cell_type": "code",
   "execution_count": 1,
   "metadata": {},
   "outputs": [
    {
     "name": "stdout",
     "output_type": "stream",
     "text": [
      "{'name': ['abc', 'xyz', 'pqr'], 'subject': ['da', 'ds', 'java', 'hiiii'], 'fees': [10000, 20000, 30000], 'city': ['bpl', 'jbpll', 'gwl']}\n"
     ]
    }
   ],
   "source": [
    " #uodate\n",
    "d={\"name\":['abc','xyz',\"pqr\"],\n",
    "   'subject':['da','ds','java','hiiii'],\n",
    "   'fees':[10000,20000,30000]}\n",
    "d.update(city=[\"bpl\",\"jbpll\",\"gwl\"])\n",
    "print(d)\n",
    "\n"
   ]
  },
  {
   "cell_type": "code",
   "execution_count": 2,
   "metadata": {},
   "outputs": [
    {
     "name": "stdout",
     "output_type": "stream",
     "text": [
      "['mean absolute', 'mean squared']\n",
      "['mean absolute', 'mean squared', 'huber loss', 'log loss', 'hing loss']\n"
     ]
    }
   ],
   "source": [
    "# slice\n",
    "loss_function = [ 'mean absolute', 'mean squared', 'huber loss'  ,'log loss','hing loss']\n",
    "# print(loss_function[1:4])\n",
    "# print(loss_function[1:8])\n",
    "# print(loss_function[1:])\n",
    "print(loss_function[:2])\n",
    "print(loss_function[:])\n",
    "\n"
   ]
  },
  {
   "cell_type": "code",
   "execution_count": 1,
   "metadata": {},
   "outputs": [
    {
     "name": "stdout",
     "output_type": "stream",
     "text": [
      "CYBROM INDRAPURI\n",
      "cybrom indrapuri\n",
      "Cybrom indrapuri\n",
      "True\n",
      "False\n"
     ]
    }
   ],
   "source": [
    "# function\n",
    "str1= \"cybrom indrapuri\"\n",
    "str2= str1.upper()\n",
    "print(str2)\n",
    "\n",
    "str1= \"CYbrom indrapuri\"\n",
    "str2= str1.lower()\n",
    "print(str2)\n",
    "\n",
    "str1= \"cybrom indrapuri\"\n",
    "str2= str1.capitalize()\n",
    "print(str2)\n",
    "\n",
    "str1= \"cybrom indrapuri\"\n",
    "# str2= str1.endswith(\"indrapuri\")\n",
    "str2= str1.endswith(\"i\")\n",
    "print(str2)\n",
    "\n",
    "str1= \"cybrom indrapuriiiiii\"\n",
    "str2= str1.startswith(\"cybrommmm\")\n",
    "print(str2)\n",
    "\n",
    "# method\n",
    "# print(len(str1))"
   ]
  },
  {
   "cell_type": "code",
   "execution_count": 1,
   "metadata": {},
   "outputs": [
    {
     "name": "stdout",
     "output_type": "stream",
     "text": [
      "{10, 'hello', 20}\n",
      "<class 'set'>\n"
     ]
    }
   ],
   "source": [
    "# set\n",
    "s=set()\n",
    "l=[10,20,\"hello\"]\n",
    "for i in l:\n",
    "    s.add(i)\n",
    "print(s)\n",
    "print(type(s))"
   ]
  },
  {
   "cell_type": "code",
   "execution_count": 1,
   "metadata": {},
   "outputs": [
    {
     "name": "stdout",
     "output_type": "stream",
     "text": [
      "{'hellooooooooooooo', 10, 20}\n",
      "<class 'set'>\n"
     ]
    }
   ],
   "source": [
    "# set\n",
    "s=set()\n",
    "l=[10,20,\"hellooooooooooooo\"]\n",
    "for i in l:\n",
    "    s.add(i)\n",
    "print(s)\n",
    "print(type(s))"
   ]
  },
  {
   "cell_type": "code",
   "execution_count": 2,
   "metadata": {},
   "outputs": [
    {
     "name": "stdout",
     "output_type": "stream",
     "text": [
      "        # \n",
      "      # # = \n",
      "    # # # = = \n",
      "  # # # # = = = \n",
      "# # # # # = = = = \n"
     ]
    }
   ],
   "source": [
    "# practice\n",
    "# example of nested for loop\n",
    "#creating a pyramid  pattern using nested loops \n",
    "n = int(input(\"enter any number\"))\n",
    "for i in range(n):\n",
    "    for j in range(0,n-i-1,1):\n",
    "        print(\" \",end=\" \")\n",
    "    for j in range(0,i+1,1):\n",
    "        print(\"#\",end=\" \")\n",
    "    for j in range(0,i,1):\n",
    "        print(\"=\",end=\" \")\n",
    "    print()"
   ]
  },
  {
   "cell_type": "code",
   "execution_count": 1,
   "metadata": {},
   "outputs": [
    {
     "name": "stdout",
     "output_type": "stream",
     "text": [
      "o\n"
     ]
    }
   ],
   "source": [
    "tu=(10,20.5,100,\"cybrom\")\n",
    "print(tu[3][4])"
   ]
  },
  {
   "cell_type": "code",
   "execution_count": 2,
   "metadata": {},
   "outputs": [
    {
     "name": "stdout",
     "output_type": "stream",
     "text": [
      "{'name': 'amit', 'subject': 'python', 'batch': 'da/ds26'}\n"
     ]
    }
   ],
   "source": [
    "#DICTIONARY-ORDERED COLLECTION OF ELEMENT.\n",
    "#DENOTED BY{} WITH KEY:VALUE PAIR\n",
    "#UNINDEXED,HETROGENOUS,MUTUABLE\n",
    "d={\"name\":\"amit\",\"subject\":\"python\",\"batch\":\"da/ds26\"}\n",
    "print(d)\n"
   ]
  },
  {
   "cell_type": "code",
   "execution_count": 10,
   "metadata": {},
   "outputs": [
    {
     "name": "stdout",
     "output_type": "stream",
     "text": [
      "{'name': ['amit', 'karan', 'deepesh'], 'subject': ['python', 'sql'], 'batch': ['da/ds26', 'da/ds24']}\n",
      "['da/ds26', 'da/ds24']\n",
      "sql\n",
      "{'name': ['amit', 'karan', 'deepesh'], 'subject': ['python', 'sql'], 'batch': ['da/ds26', 'da/ds24'], 'fees': 100000}\n"
     ]
    }
   ],
   "source": [
    "di={\"name\":[\"amit\",\"karan\",\"deepesh\"],\"subject\":[\"python\",\"sql\",],\"batch\":[\"da/ds26\",\"da/ds24\"]}\n",
    "print(di)\n",
    "print(di[\"batch\"])\n",
    "print(di[\"subject\"][1])\n",
    "di[\"fees\"]=100000\n",
    "print(di)"
   ]
  },
  {
   "cell_type": "code",
   "execution_count": 1,
   "metadata": {},
   "outputs": [
    {
     "name": "stdout",
     "output_type": "stream",
     "text": [
      "invalid input\n",
      "empty stack ........\n"
     ]
    }
   ],
   "source": [
    "# stack\n",
    "l=[]\n",
    "while True:\n",
    "    c=int(input('''\n",
    "    1.push\n",
    "    2.pop\n",
    "    3.peek\n",
    "    4.display\n",
    "    5.exit'''))\n",
    "    if c==1:\n",
    "        n=input((\"enter any value:\"))\n",
    "        l.append(n)\n",
    "        print(l)\n",
    "    elif c==2:\n",
    "        if len(l)==0:\n",
    "            print(\"empty stack ........\")\n",
    "        else:\n",
    "            p=l.pop()\n",
    "            print(p)\n",
    "            print(l)\n",
    "    elif c==3:\n",
    "        if len(l)==0:\n",
    "            print(\"empty stack\")\n",
    "        else:\n",
    "            print(\"last element:\",l[-1])\n",
    "    elif c==4:\n",
    "        print(\"display stack:\",l)\n",
    "\n",
    "    elif c==5:\n",
    "        break\n",
    "    else:\n",
    "        print(\"invalid input\")"
   ]
  },
  {
   "cell_type": "code",
   "execution_count": 24,
   "metadata": {},
   "outputs": [
    {
     "name": "stdout",
     "output_type": "stream",
     "text": [
      "A \n",
      "A B \n",
      "A B C \n",
      "A B C D \n",
      "A B C D E \n"
     ]
    }
   ],
   "source": [
    "\n",
    "#creating a pattern of AB\n",
    "n=5\n",
    "for i in range(n):\n",
    "    for j in range(i+1):\n",
    "        print(chr(65+j),end=\" \")\n",
    "    print()\n",
    "    "
   ]
  }
 ],
 "metadata": {
  "kernelspec": {
   "display_name": "Python 3",
   "language": "python",
   "name": "python3"
  },
  "language_info": {
   "codemirror_mode": {
    "name": "ipython",
    "version": 3
   },
   "file_extension": ".py",
   "mimetype": "text/x-python",
   "name": "python",
   "nbconvert_exporter": "python",
   "pygments_lexer": "ipython3",
   "version": "3.13.0"
  }
 },
 "nbformat": 4,
 "nbformat_minor": 2
}
