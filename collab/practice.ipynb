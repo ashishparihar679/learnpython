{
 "cells": [
  {
   "cell_type": "code",
   "execution_count": null,
   "metadata": {},
   "outputs": [],
   "source": [
    "new_variable =\"cybrom\"\n",
    "new2_variable =\"  cybrom\"\n",
    "print(new2_variable)"
   ]
  },
  {
   "cell_type": "code",
   "execution_count": null,
   "metadata": {},
   "outputs": [],
   "source": [
    "a=int(input(\"enter the number 1 \"))\n",
    "b=int(input(\"enter the number 2 \"))\n",
    "print(\"squre of a and b = \", a**b)\n"
   ]
  },
  {
   "cell_type": "code",
   "execution_count": null,
   "metadata": {},
   "outputs": [
    {
     "name": "stdout",
     "output_type": "stream",
     "text": [
      "user eligible for voting\n"
     ]
    }
   ],
   "source": [
    "\n",
    "# WAP TO PROINT WEARHER A USER ELIGIBLE TO VOTE OR NOT\n",
    "a=int(input(\"enter your age \"))\n",
    "if(a>18):\n",
    "    print(\"user eligible for voting\")\n",
    "else:\n",
    "    print(\"user not eligible for \")"
   ]
  },
  {
   "cell_type": "code",
   "execution_count": 7,
   "metadata": {},
   "outputs": [
    {
     "name": "stdout",
     "output_type": "stream",
     "text": [
      "ashish\n"
     ]
    }
   ],
   "source": [
    "print(\"ashish\")"
   ]
  },
  {
   "cell_type": "code",
   "execution_count": 21,
   "metadata": {},
   "outputs": [
    {
     "name": "stdout",
     "output_type": "stream",
     "text": [
      "number is not divisible by 3\n"
     ]
    }
   ],
   "source": [
    "#WAP TO PRINT WEATHER A LAST DIGIT OF ANY NUMBER IS DIVISIBLE BY 3 OR NOT\n",
    "a = int(input(\" enter the number \"))\n",
    "b = a%10\n",
    "if(b%3==0):\n",
    "    print(\"number is divisible by 3\")\n",
    "else:   \n",
    "    print(\"number is not divisible by 3\")"
   ]
  },
  {
   "cell_type": "code",
   "execution_count": 23,
   "metadata": {},
   "outputs": [
    {
     "name": "stdout",
     "output_type": "stream",
     "text": [
      "number 3 is great 1 and 2 -> 3\n"
     ]
    }
   ],
   "source": [
    "#WAP TO FIND THE LARGEST NO AMAONG THREE NUMBERS\n",
    "a = int(input(\" enter the number 1\"))\n",
    "b = int(input(\" enter the number 2\"))\n",
    "c = int(input(\" enter the number 3\"))\n",
    "if(a>b and a>c):\n",
    "    print(\"number 1 is great 2 and 3 ->\", a)\n",
    "elif(b>c and b>a):\n",
    "    print(\"number 2 is great 1 and 3 ->\", b)\n",
    "else:\n",
    "    print(\"number 3 is great 1 and 2 ->\", c)\n"
   ]
  },
  {
   "cell_type": "code",
   "execution_count": 28,
   "metadata": {},
   "outputs": [
    {
     "name": "stdout",
     "output_type": "stream",
     "text": [
      "leap year\n"
     ]
    }
   ],
   "source": [
    " #WAP to find weather a year is a leap year or not\n",
    "a = int(input(\"enter the year\"))\n",
    "if(a%4==0):\n",
    "    print(\"leap year\")\n",
    "else:\n",
    "    print(\"not leap year\")\n"
   ]
  },
  {
   "cell_type": "code",
   "execution_count": null,
   "metadata": {},
   "outputs": [
    {
     "name": "stdout",
     "output_type": "stream",
     "text": [
      "number is negetive\n",
      "number is odd\n"
     ]
    }
   ],
   "source": [
    " #WAP TO CHECK NO IF ITS NEGETIVE POSITIVE OR ZERO AND IF ITS POSITIVE CHECK WHES=ATHER ITS ODD OR EVEN\n",
    "a = int(input(\"enter the number \"))\n",
    "if(a>0):\n",
    "    print(\"number is positive\")\n",
    "    if(a%2==0):\n",
    "        print(\"number is even\")\n",
    "    else:\n",
    "        print(\"number is odd\")\n",
    "elif(a<0):\n",
    "    print(\"number is negetive\")\n",
    "else:\n",
    "    print(\"number is zero\")\n",
    "     \n",
    "\n",
    "        \n"
   ]
  }
 ],
 "metadata": {
  "kernelspec": {
   "display_name": "Python 3",
   "language": "python",
   "name": "python3"
  },
  "language_info": {
   "codemirror_mode": {
    "name": "ipython",
    "version": 3
   },
   "file_extension": ".py",
   "mimetype": "text/x-python",
   "name": "python",
   "nbconvert_exporter": "python",
   "pygments_lexer": "ipython3",
   "version": "3.13.0"
  }
 },
 "nbformat": 4,
 "nbformat_minor": 2
}
