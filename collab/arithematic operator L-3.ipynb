{
 "cells": [
  {
   "cell_type": "code",
   "execution_count": 15,
   "id": "202880ec-abcb-4768-bc70-6006b50a1d4a",
   "metadata": {},
   "outputs": [
    {
     "name": "stdout",
     "output_type": "stream",
     "text": [
      "False\n"
     ]
    }
   ],
   "source": [
    "#arithmetic operator(+,-,/,//,**,%)\n",
    "\n",
    "# a=10\n",
    "# b=20\n",
    "# print(a+b)\n",
    "# print(a-b)\n",
    "# print(a*b)\n",
    "# print(a/b)\n",
    "# print(\" sume of a+b is\",a+b)\n",
    "# print(\"multiplication of a and b is\",a*b)\n",
    "# type casting\n",
    "# print(int(a)+int(b)) \n",
    "\n",
    "#comparision operator(<,>,<=,>=,=!,/,<>)\n",
    "# a =20\n",
    "# b=30\n",
    "# print(a<b)\n",
    "# print(a>b)\n",
    "# print(a<=b)\n",
    "# print(a>=b)\n",
    "\n",
    "#logical operator(and,or,not)\n",
    "\n",
    "#and \n",
    "a =20\n",
    "b=30\n",
    "# print(a>b and a<=b)\n",
    "# ans= false\n",
    "#OR( any operation are true that is given ture)\n",
    "#print(a<b or a!=b)\n",
    "# not\n",
    "print(not(a<b))\n"
   ]
  }
 ],
 "metadata": {
  "kernelspec": {
   "display_name": "Python 3 (ipykernel)",
   "language": "python",
   "name": "python3"
  },
  "language_info": {
   "codemirror_mode": {
    "name": "ipython",
    "version": 3
   },
   "file_extension": ".py",
   "mimetype": "text/x-python",
   "name": "python",
   "nbconvert_exporter": "python",
   "pygments_lexer": "ipython3",
   "version": "3.12.7"
  }
 },
 "nbformat": 4,
 "nbformat_minor": 5
}
