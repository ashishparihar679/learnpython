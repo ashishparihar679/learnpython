{
 "cells": [
  {
   "cell_type": "code",
   "execution_count": 3,
   "id": "f6068b20-5955-4696-b838-1257800f0fba",
   "metadata": {},
   "outputs": [
    {
     "ename": "IndentationError",
     "evalue": "expected an indented block after 'if' statement on line 6 (161728265.py, line 7)",
     "output_type": "error",
     "traceback": [
      "\u001b[1;36m  Cell \u001b[1;32mIn[3], line 7\u001b[1;36m\u001b[0m\n\u001b[1;33m    elif:\u001b[0m\n\u001b[1;37m    ^\u001b[0m\n\u001b[1;31mIndentationError\u001b[0m\u001b[1;31m:\u001b[0m expected an indented block after 'if' statement on line 6\n"
     ]
    }
   ],
   "source": [
    "n=input(\" enter the  values\")\n",
    "digit=0\n",
    "char=0\n",
    "sp_char=0\n",
    "for i in range(n):\n",
    "    if i.digit():\n",
    "    elif:\n",
    "        digit=digit+1\n",
    "else:i.isalpha():\n",
    "        char=char+1\n",
    "else:\n",
    "sp_char=sp_char=1"
   ]
  }
 ],
 "metadata": {
  "kernelspec": {
   "display_name": "Python 3 (ipykernel)",
   "language": "python",
   "name": "python3"
  },
  "language_info": {
   "codemirror_mode": {
    "name": "ipython",
    "version": 3
   },
   "file_extension": ".py",
   "mimetype": "text/x-python",
   "name": "python",
   "nbconvert_exporter": "python",
   "pygments_lexer": "ipython3",
   "version": "3.12.7"
  }
 },
 "nbformat": 4,
 "nbformat_minor": 5
}
