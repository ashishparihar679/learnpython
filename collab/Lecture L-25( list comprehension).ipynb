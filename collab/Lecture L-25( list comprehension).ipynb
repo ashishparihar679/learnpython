{
 "cells": [
  {
   "cell_type": "code",
   "execution_count": 21,
   "id": "9261a1a9-0613-44b3-8295-d267c6f4b39f",
   "metadata": {},
   "outputs": [
    {
     "name": "stdin",
     "output_type": "stream",
     "text": [
      " Enter strings: bhopal\n"
     ]
    },
    {
     "ename": "ValueError",
     "evalue": "invalid literal for int() with base 10: 'bhopal'",
     "output_type": "error",
     "traceback": [
      "\u001b[1;31m---------------------------------------------------------------------------\u001b[0m",
      "\u001b[1;31mValueError\u001b[0m                                Traceback (most recent call last)",
      "Cell \u001b[1;32mIn[21], line 1\u001b[0m\n\u001b[1;32m----> 1\u001b[0m n\u001b[38;5;241m=\u001b[39m\u001b[38;5;28mint\u001b[39m(\u001b[38;5;28minput\u001b[39m(\u001b[38;5;124m\"\u001b[39m\u001b[38;5;124m Enter strings:\u001b[39m\u001b[38;5;124m\"\u001b[39m))\n\u001b[0;32m      2\u001b[0m v\u001b[38;5;241m=\u001b[39m\u001b[38;5;124m\"\u001b[39m\u001b[38;5;124m a,e,i,o,u\u001b[39m\u001b[38;5;124m\"\u001b[39m\n\u001b[0;32m      3\u001b[0m vowel\u001b[38;5;241m=\u001b[39m\u001b[38;5;241m0\u001b[39m\n",
      "\u001b[1;31mValueError\u001b[0m: invalid literal for int() with base 10: 'bhopal'"
     ]
    }
   ],
   "source": [
    "n=int(input(\" Enter strings:\"))\n",
    "v=\" a,e,i,o,u\"\n",
    "vowel=0\n",
    "s_char=0\n",
    "cons=0\n",
    "for i in range(0,n):\n",
    "    if(i== 'a' or i == 'e' or i == 'i' or i == 'o' or i == 'u'):\n",
    "        print(\"Vowel\")\n",
    "else:\n",
    "    print(\"consonante\")"
   ]
  },
  {
   "cell_type": "code",
   "execution_count": 61,
   "id": "cdec1ed5-36d7-4fb9-949d-2944f93cf2c4",
   "metadata": {},
   "outputs": [
    {
     "name": "stdin",
     "output_type": "stream",
     "text": [
      " Enter name dev\n"
     ]
    },
    {
     "name": "stdout",
     "output_type": "stream",
     "text": [
      "0\n",
      "1\n"
     ]
    }
   ],
   "source": [
    "n=(input(\" Enter name\"))\n",
    "v= \"aeiou\"\n",
    "vowel=0\n",
    "s_char=0\n",
    "cons=0\n",
    "for i in n:\n",
    "    if i in v:\n",
    "        vowel = vowel+1\n",
    "    elif i == \" \":\n",
    "        s_char = s_char+1\n",
    "    else:\n",
    "        print(vowel)\n",
    "\n",
    "        \n",
    "        "
   ]
  },
  {
   "cell_type": "code",
   "execution_count": 73,
   "id": "1d5f709b-e3dd-49e6-828e-2604ec147338",
   "metadata": {},
   "outputs": [
    {
     "name": "stdout",
     "output_type": "stream",
     "text": [
      "180\n"
     ]
    }
   ],
   "source": [
    "a=[20,80,180,50,60]\n",
    "max_e=0\n",
    "for i in a:\n",
    "    if i>max_e:\n",
    "        max_e=i\n",
    "print(max_e)"
   ]
  },
  {
   "cell_type": "code",
   "execution_count": 93,
   "id": "0014d746-79b6-4124-a60f-33a2b16ac15c",
   "metadata": {},
   "outputs": [
    {
     "name": "stdout",
     "output_type": "stream",
     "text": [
      "20\n"
     ]
    }
   ],
   "source": [
    "a=[20,80,180,50,60]\n",
    "max_e=a[0]\n",
    "for i in a:\n",
    "    if i<max_e:\n",
    "        max_e=i\n",
    "print(max_e)"
   ]
  },
  {
   "cell_type": "code",
   "execution_count": 113,
   "id": "8d1e170a-8538-449d-86b8-8d6e31e623ad",
   "metadata": {},
   "outputs": [
    {
     "name": "stdout",
     "output_type": "stream",
     "text": [
      "71.66666666666667\n"
     ]
    }
   ],
   "source": [
    "a=[20,80,180,50,60,40]\n",
    "max_e=0\n",
    "sum=0\n",
    "l = len(a)\n",
    "for i in a:\n",
    "    sum=sum+i\n",
    "sum=sum/l \n",
    "print(sum)"
   ]
  },
  {
   "cell_type": "code",
   "execution_count": 123,
   "id": "4f29aaac-ec15-46cf-852e-8653f5597f4d",
   "metadata": {},
   "outputs": [
    {
     "name": "stdout",
     "output_type": "stream",
     "text": [
      "['apple']\n"
     ]
    }
   ],
   "source": [
    "a=[\"apple\",\"mango\",\"graps\",\"banana\",\"papaya\"]\n",
    "j=[]\n",
    "for i in a:\n",
    "    if \"l\" in i:\n",
    "        j.append(i)\n",
    "print(j)\n",
    "    \n"
   ]
  },
  {
   "cell_type": "code",
   "execution_count": 139,
   "id": "0229c0e3-02e5-470e-ac09-82756c687feb",
   "metadata": {},
   "outputs": [
    {
     "name": "stdout",
     "output_type": "stream",
     "text": [
      "['mango', 'graps']\n"
     ]
    }
   ],
   "source": [
    "# list comprehension (using .append method---> expression for item iterable if conditions ==true)\n",
    "a=[\"apple\",\"mango\",\"graps\",\"banana\",\"papaya\"]\n",
    "j=[i for i in a if \"g\" in i]\n",
    "print(j)\n",
    "\n"
   ]
  },
  {
   "cell_type": "code",
   "execution_count": 143,
   "id": "366d2787-057a-484a-a026-81c05a581a2e",
   "metadata": {},
   "outputs": [
    {
     "ename": "SyntaxError",
     "evalue": "invalid syntax (4045332725.py, line 3)",
     "output_type": "error",
     "traceback": [
      "\u001b[1;36m  Cell \u001b[1;32mIn[143], line 3\u001b[1;36m\u001b[0m\n\u001b[1;33m    j=[i for i in n if sum=sum+1]\u001b[0m\n\u001b[1;37m                          ^\u001b[0m\n\u001b[1;31mSyntaxError\u001b[0m\u001b[1;31m:\u001b[0m invalid syntax\n"
     ]
    }
   ],
   "source": [
    "n=[1,2,3,4]\n",
    "sum=0\n",
    "j=[i for i in n if \"sum=sum+1\"]"
   ]
  }
 ],
 "metadata": {
  "kernelspec": {
   "display_name": "Python 3 (ipykernel)",
   "language": "python",
   "name": "python3"
  },
  "language_info": {
   "codemirror_mode": {
    "name": "ipython",
    "version": 3
   },
   "file_extension": ".py",
   "mimetype": "text/x-python",
   "name": "python",
   "nbconvert_exporter": "python",
   "pygments_lexer": "ipython3",
   "version": "3.12.7"
  }
 },
 "nbformat": 4,
 "nbformat_minor": 5
}
