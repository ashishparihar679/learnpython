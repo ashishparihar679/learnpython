{
 "cells": [
  {
   "cell_type": "markdown",
   "id": "f6196313",
   "metadata": {},
   "source": [
    "OOPS\n",
    "CLASS IS THE USER DEFINE DATA TYPE.\n",
    "IT IS THE BLUE PRINT OF OBJECT .\n",
    "CLASS IS A COLLECTION OF DATA AND FUNCTION.\n",
    "\n",
    "OBJECT OF A INSTANCE OF A CLASS\n",
    "\n",
    "\n",
    "SYNTAX :- \n",
    "\n",
    "class classname:\n",
    "    a\n",
    "    b\n",
    "    function\n",
    "\n",
    "4 pillar of python \n",
    "inheritance\n",
    "abstraction\n",
    "encapsulation\n",
    "polymorphism\n",
    "\n"
   ]
  },
  {
   "cell_type": "code",
   "execution_count": 2,
   "id": "6e160c6a",
   "metadata": {},
   "outputs": [
    {
     "name": "stdout",
     "output_type": "stream",
     "text": [
      "4\n"
     ]
    }
   ],
   "source": [
    "class myclass:\n",
    "    x=4\n",
    "obj=myclass\n",
    "print(obj.x)\n"
   ]
  },
  {
   "cell_type": "code",
   "execution_count": 3,
   "id": "4ffcceff",
   "metadata": {},
   "outputs": [
    {
     "name": "stdout",
     "output_type": "stream",
     "text": [
      "4\n"
     ]
    }
   ],
   "source": [
    "class myclass:\n",
    "   global x\n",
    "   x=4\n",
    "print(x)\n"
   ]
  },
  {
   "cell_type": "markdown",
   "id": "08c3e60a",
   "metadata": {},
   "source": [
    "wap to create login management system \n",
    "\n",
    "note :- function and choice based"
   ]
  },
  {
   "cell_type": "code",
   "execution_count": 11,
   "id": "fb552b25",
   "metadata": {},
   "outputs": [
    {
     "name": "stdout",
     "output_type": "stream",
     "text": [
      "not login\n"
     ]
    }
   ],
   "source": [
    "val =0\n",
    "nm1 = [\"name1\",\"name2\",\"name3\"]\n",
    "nm2 = [\"pass1\",\"pass2\",\"pass3\"]\n",
    "\n",
    "def login(n,p):\n",
    "    ind=nm1.index(n)\n",
    "    try:\n",
    "        if(nm1[ind]==n and nm2[ind]==p):\n",
    "            print(\"login............\")\n",
    "            while(True):\n",
    "                print(\"login............\")\n",
    "\n",
    "        else:\n",
    "            print(\"not login\")\n",
    "    except:\n",
    "        print(\"sorry your data is not present\")\n",
    "login(\"name1\",\"pass11\")\n"
   ]
  },
  {
   "cell_type": "markdown",
   "id": "0472d6d3",
   "metadata": {},
   "source": [
    "wap to make a bank management system using single level inheritance"
   ]
  },
  {
   "cell_type": "code",
   "execution_count": 2,
   "id": "6b0a8df5",
   "metadata": {},
   "outputs": [
    {
     "name": "stdout",
     "output_type": "stream",
     "text": [
      "7.8%\n",
      "8.9\n"
     ]
    }
   ],
   "source": [
    "class bank:\n",
    "    def rbiroi(self):\n",
    "        return \"7.8%\"\n",
    "class sbi(bank):\n",
    "    def sbiroi(self):\n",
    "        return \"8.9\"\n",
    "ob=sbi()\n",
    "print(ob.rbiroi())\n",
    "print(ob.sbiroi())"
   ]
  },
  {
   "cell_type": "markdown",
   "id": "cb7f7462",
   "metadata": {},
   "source": [
    "multilevel inheritance"
   ]
  },
  {
   "cell_type": "code",
   "execution_count": 10,
   "id": "5f54858e",
   "metadata": {},
   "outputs": [
    {
     "data": {
      "text/plain": [
       "'sbi'"
      ]
     },
     "execution_count": 10,
     "metadata": {},
     "output_type": "execute_result"
    }
   ],
   "source": [
    "class sbibank:\n",
    "    def sbiroi(self):\n",
    "        return \"sbi\"\n",
    "class icicibank(sbibank):\n",
    "    def iciciroi(self):\n",
    "        return \"icici\"\n",
    "class pnbbank(icicibank):\n",
    "    def pnbroi(self):\n",
    "        return \"pnb\"\n",
    "ob=pnbbank()\n",
    "ob.sbiroi()\n"
   ]
  },
  {
   "cell_type": "markdown",
   "id": "a1d41f70",
   "metadata": {},
   "source": [
    "multiple inheritance\n"
   ]
  },
  {
   "cell_type": "code",
   "execution_count": 12,
   "id": "7253be80",
   "metadata": {},
   "outputs": [
    {
     "ename": "TypeError",
     "evalue": "sbibank.sbiroi() missing 1 required positional argument: 'amt'",
     "output_type": "error",
     "traceback": [
      "\u001b[1;31m---------------------------------------------------------------------------\u001b[0m",
      "\u001b[1;31mTypeError\u001b[0m                                 Traceback (most recent call last)",
      "Cell \u001b[1;32mIn[12], line 15\u001b[0m\n\u001b[0;32m     13\u001b[0m     \u001b[38;5;28;01mpass\u001b[39;00m\n\u001b[0;32m     14\u001b[0m wb\u001b[38;5;241m=\u001b[39mworldbank()\n\u001b[1;32m---> 15\u001b[0m \u001b[43mwb\u001b[49m\u001b[38;5;241;43m.\u001b[39;49m\u001b[43msbiroi\u001b[49m\u001b[43m(\u001b[49m\u001b[43m)\u001b[49m\n",
      "\u001b[1;31mTypeError\u001b[0m: sbibank.sbiroi() missing 1 required positional argument: 'amt'"
     ]
    }
   ],
   "source": [
    "class sbibank:\n",
    "    def sbiroi(self,amt):\n",
    "        self.amt=amt\n",
    "        self.ir=9\n",
    "        print(self.ir)\n",
    "class icicibank():\n",
    "    def iciciroi(self,amt):\n",
    "        return \"icici\"\n",
    "class pnbbank():\n",
    "    def pnbroi(self,amt):\n",
    "        return \"pnb\"\n",
    "class worldbank(sbibank):\n",
    "    pass\n",
    "wb=worldbank()\n",
    "wb.sbiroi()\n",
    "\n"
   ]
  },
  {
   "cell_type": "markdown",
   "id": "3cacdd41",
   "metadata": {},
   "source": [
    "there will be a twwo list in which object are [12,11,13,15,17,19] and [23,11,19,17,67,31]\n",
    "find the number which have prime in both and sum them and which have greater than four factor also show them in another list."
   ]
  },
  {
   "cell_type": "code",
   "execution_count": null,
   "id": "2ad93113",
   "metadata": {},
   "outputs": [
    {
     "ename": "IndentationError",
     "evalue": "unexpected indent (3641320050.py, line 4)",
     "output_type": "error",
     "traceback": [
      "\u001b[1;36m  Cell \u001b[1;32mIn[25], line 4\u001b[1;36m\u001b[0m\n\u001b[1;33m    print(j*3, end=\" \")\u001b[0m\n\u001b[1;37m    ^\u001b[0m\n\u001b[1;31mIndentationError\u001b[0m\u001b[1;31m:\u001b[0m unexpected indent\n"
     ]
    }
   ],
   "source": [
    "\n",
    "for j in range(1,11,):\n",
    "    print(j*3, end=\" \")\n",
    "    print()\n",
    "    print(j*3, end=\" \")"
   ]
  },
  {
   "cell_type": "code",
   "execution_count": null,
   "id": "c691676d",
   "metadata": {},
   "outputs": [],
   "source": []
  },
  {
   "cell_type": "markdown",
   "id": "1c2d5f64",
   "metadata": {},
   "source": [
    "hirarachical inheritance\n"
   ]
  },
  {
   "cell_type": "code",
   "execution_count": 4,
   "id": "9042a0ce",
   "metadata": {},
   "outputs": [
    {
     "name": "stdout",
     "output_type": "stream",
     "text": [
      "THIS IS RBI BANK \n",
      "THIS IS SBI AXIS \n"
     ]
    }
   ],
   "source": [
    "# wap to make a bank management system\n",
    "\n",
    "class bank:\n",
    "    def rbi_roi(self):\n",
    "        print(\"THIS IS RBI BANK \")\n",
    "class sbi(bank):\n",
    "    def sbi_roi(self):\n",
    "        print(\"THIS IS SBI BANK \")\n",
    "class axis(bank):\n",
    "    def axis_roi(self):\n",
    "        print(\"THIS IS SBI AXIS \")\n",
    "\n",
    "ob1=axis()\n",
    "ob1.rbi_roi()\n",
    "ob1.axis_roi()\n",
    "\n",
    "\n",
    "\n"
   ]
  },
  {
   "cell_type": "markdown",
   "id": "1676709a",
   "metadata": {},
   "source": [
    "ERROR HANDLING IN PYTHON\n"
   ]
  },
  {
   "cell_type": "code",
   "execution_count": 5,
   "id": "29bcd5e2",
   "metadata": {},
   "outputs": [
    {
     "ename": "ZeroDivisionError",
     "evalue": "division by zero",
     "output_type": "error",
     "traceback": [
      "\u001b[1;31m---------------------------------------------------------------------------\u001b[0m",
      "\u001b[1;31mZeroDivisionError\u001b[0m                         Traceback (most recent call last)",
      "Cell \u001b[1;32mIn[5], line 3\u001b[0m\n\u001b[0;32m      1\u001b[0m a\u001b[38;5;241m=\u001b[39m\u001b[38;5;241m12\u001b[39m\n\u001b[0;32m      2\u001b[0m b\u001b[38;5;241m=\u001b[39m\u001b[38;5;241m0\u001b[39m\n\u001b[1;32m----> 3\u001b[0m c\u001b[38;5;241m=\u001b[39m\u001b[43ma\u001b[49m\u001b[38;5;241;43m/\u001b[39;49m\u001b[43mb\u001b[49m\n\u001b[0;32m      4\u001b[0m \u001b[38;5;28mprint\u001b[39m(c)\n",
      "\u001b[1;31mZeroDivisionError\u001b[0m: division by zero"
     ]
    }
   ],
   "source": [
    "a=12\n",
    "b=0\n",
    "c=a/b\n",
    "print(c)"
   ]
  },
  {
   "cell_type": "markdown",
   "id": "386f21c4",
   "metadata": {},
   "source": [
    "IN PYTHON WE CAN CREATE TYE ANS ACCEPT TO HANDLE OF ERROR"
   ]
  },
  {
   "cell_type": "code",
   "execution_count": 13,
   "id": "c8ff8cae",
   "metadata": {},
   "outputs": [
    {
     "name": "stdout",
     "output_type": "stream",
     "text": [
      "ZERO SE DIVIDE NHI HOGA\n"
     ]
    }
   ],
   "source": [
    "a=12\n",
    "b=0\n",
    "try:\n",
    "    c=a/b\n",
    "    print(c)\n",
    "except:\n",
    "    print(\"ZERO SE DIVIDE NHI HOGA\")\n",
    "else:\n",
    "    print(\"the c= \",c)\n"
   ]
  },
  {
   "cell_type": "markdown",
   "id": "9341e1d3",
   "metadata": {},
   "source": [
    "THE FINALLY BLOCH IS SPECIFIED WILL BE EXCUTED REGARDLESS IN THE TRY BLOCK RACE ERROR OR NOT THE FINNALY BLOCK GET EXCUTED "
   ]
  },
  {
   "cell_type": "code",
   "execution_count": 14,
   "id": "82019eab",
   "metadata": {},
   "outputs": [
    {
     "name": "stdout",
     "output_type": "stream",
     "text": [
      "ZERO SE DIVIDE NHI HOGA\n",
      "division success\n"
     ]
    }
   ],
   "source": [
    "a=12\n",
    "b=0\n",
    "try:\n",
    "    c=a/b\n",
    "    print(c)\n",
    "except:\n",
    "    print(\"ZERO SE DIVIDE NHI HOGA\")\n",
    "else:\n",
    "    print(\"the c= \",c)\n",
    "finally:\n",
    "    print(\"division success\")"
   ]
  },
  {
   "cell_type": "code",
   "execution_count": 16,
   "id": "53734918",
   "metadata": {},
   "outputs": [
    {
     "ename": "NameError",
     "evalue": "name 'aa' is not defined",
     "output_type": "error",
     "traceback": [
      "\u001b[1;31m---------------------------------------------------------------------------\u001b[0m",
      "\u001b[1;31mNameError\u001b[0m                                 Traceback (most recent call last)",
      "Cell \u001b[1;32mIn[16], line 2\u001b[0m\n\u001b[0;32m      1\u001b[0m a\u001b[38;5;241m=\u001b[39m\u001b[38;5;241m13\u001b[39m\n\u001b[1;32m----> 2\u001b[0m \u001b[38;5;28mprint\u001b[39m(\u001b[43maa\u001b[49m)\n",
      "\u001b[1;31mNameError\u001b[0m: name 'aa' is not defined"
     ]
    }
   ],
   "source": [
    "a=13\n",
    "print(aa)"
   ]
  },
  {
   "cell_type": "code",
   "execution_count": 17,
   "id": "d149f1b2",
   "metadata": {},
   "outputs": [
    {
     "ename": "IndentationError",
     "evalue": "unexpected indent (3400230148.py, line 2)",
     "output_type": "error",
     "traceback": [
      "\u001b[1;36m  Cell \u001b[1;32mIn[17], line 2\u001b[1;36m\u001b[0m\n\u001b[1;33m    print(a)\u001b[0m\n\u001b[1;37m    ^\u001b[0m\n\u001b[1;31mIndentationError\u001b[0m\u001b[1;31m:\u001b[0m unexpected indent\n"
     ]
    }
   ],
   "source": [
    "a=13\n",
    "   print(a)"
   ]
  },
  {
   "cell_type": "code",
   "execution_count": 18,
   "id": "0edca4a7",
   "metadata": {},
   "outputs": [
    {
     "ename": "ValueError",
     "evalue": "invalid literal for int() with base 10: '@44tdcff'",
     "output_type": "error",
     "traceback": [
      "\u001b[1;31m---------------------------------------------------------------------------\u001b[0m",
      "\u001b[1;31mValueError\u001b[0m                                Traceback (most recent call last)",
      "Cell \u001b[1;32mIn[18], line 1\u001b[0m\n\u001b[1;32m----> 1\u001b[0m a\u001b[38;5;241m=\u001b[39m\u001b[38;5;28;43mint\u001b[39;49m\u001b[43m(\u001b[49m\u001b[38;5;28;43minput\u001b[39;49m\u001b[43m(\u001b[49m\u001b[38;5;124;43m\"\u001b[39;49m\u001b[38;5;124;43menter the number : \u001b[39;49m\u001b[38;5;124;43m\"\u001b[39;49m\u001b[43m)\u001b[49m\u001b[43m)\u001b[49m\n\u001b[0;32m      2\u001b[0m \u001b[38;5;28mprint\u001b[39m(a)\n",
      "\u001b[1;31mValueError\u001b[0m: invalid literal for int() with base 10: '@44tdcff'"
     ]
    }
   ],
   "source": [
    "a=int(input(\"enter the number : \"))\n",
    "print(a)"
   ]
  },
  {
   "cell_type": "markdown",
   "id": "4706be66",
   "metadata": {},
   "source": [
    "type of common exception in python ,\n",
    "zero error,\n",
    "name error,\n",
    "IndentationError,\n",
    "ValueError (input output error),\n",
    "raging exception"
   ]
  },
  {
   "cell_type": "code",
   "execution_count": 20,
   "id": "556ee7ba",
   "metadata": {},
   "outputs": [
    {
     "name": "stdout",
     "output_type": "stream",
     "text": [
      "please enter interger\n"
     ]
    }
   ],
   "source": [
    "try:\n",
    "   a=int(input(\"enter the number : \"))\n",
    "except:\n",
    "   print(\"please enter interger\")\n",
    "else:\n",
    "   print(a)"
   ]
  },
  {
   "cell_type": "markdown",
   "id": "29973ef8",
   "metadata": {},
   "source": [
    "an exception can be rest forcefully by using res close in python  it is usefull in that senerio where we need to rase and exception to stop of the excution of error"
   ]
  },
  {
   "cell_type": "code",
   "execution_count": 23,
   "id": "ff96586f",
   "metadata": {},
   "outputs": [
    {
     "name": "stdout",
     "output_type": "stream",
     "text": [
      "that value is negetive\n"
     ]
    }
   ],
   "source": [
    "try:\n",
    "   x=int(input(\"enter the number : \"))\n",
    "   if(x<0):\n",
    "       raise ValueError(\"that value is negetive\")\n",
    "except ValueError as ashish:\n",
    "    print(ashish)\n",
    "else:\n",
    "    print(\"the c= \",x)\n"
   ]
  },
  {
   "cell_type": "markdown",
   "id": "c6b8fc60",
   "metadata": {},
   "source": [
    "file handling is an import part of any web scripting language.python has capability to handle a file. using python we can crete a new file as well as can read a file.\n",
    "\n",
    "to handle a file fistle we can open() method.\n",
    "e.g f=open(\"kashif.txt\")\n",
    "\n",
    "open():- this method is used to open a file inspecified mode. this method has two parameter,first is the name of the file and second is the mode to open.\n",
    "\n",
    "syntax\n",
    "-----------\n",
    "open (filename or path,mode)\n",
    "\n",
    "1.read :- read only mode. this is read the file if file is not exist this mode generate a error.\n",
    "1 write :- write mode , this is used to write date into the file ,if file does not exist this mode create a file.\n",
    "3 append :- append mode , this mode append the data at the end of file. if file does not exist this mode create a new file . if exist this mode append data in the end of line.\n",
    "4. x :- this is also a write modein which if file does not exist they can crete a new file if file is exist then can`t crete a new file.\n",
    "\n",
    "read():- this method is used to read the data in the file object.\n",
    "syntax:-\n",
    "------------\n",
    "\n",
    "filename.read()\n",
    "\n",
    "readline():- this method used to read file data in one line\n"
   ]
  },
  {
   "cell_type": "code",
   "execution_count": 3,
   "id": "73af40af",
   "metadata": {},
   "outputs": [
    {
     "ename": "FileNotFoundError",
     "evalue": "[Errno 2] No such file or directory: 'kashif.txt'",
     "output_type": "error",
     "traceback": [
      "\u001b[1;31m---------------------------------------------------------------------------\u001b[0m",
      "\u001b[1;31mFileNotFoundError\u001b[0m                         Traceback (most recent call last)",
      "Cell \u001b[1;32mIn[3], line 1\u001b[0m\n\u001b[1;32m----> 1\u001b[0m f\u001b[38;5;241m=\u001b[39m\u001b[38;5;28;43mopen\u001b[39;49m\u001b[43m(\u001b[49m\u001b[38;5;124;43m\"\u001b[39;49m\u001b[38;5;124;43mkashif.txt\u001b[39;49m\u001b[38;5;124;43m\"\u001b[39;49m\u001b[43m,\u001b[49m\u001b[38;5;124;43m\"\u001b[39;49m\u001b[38;5;124;43mr\u001b[39;49m\u001b[38;5;124;43m\"\u001b[39;49m\u001b[43m)\u001b[49m\n\u001b[0;32m      2\u001b[0m \u001b[38;5;28mprint\u001b[39m(f\u001b[38;5;241m.\u001b[39mreadline())\n",
      "File \u001b[1;32mc:\\Users\\narma\\AppData\\Local\\Programs\\Python\\Python313\\Lib\\site-packages\\IPython\\core\\interactiveshell.py:324\u001b[0m, in \u001b[0;36m_modified_open\u001b[1;34m(file, *args, **kwargs)\u001b[0m\n\u001b[0;32m    317\u001b[0m \u001b[38;5;28;01mif\u001b[39;00m file \u001b[38;5;129;01min\u001b[39;00m {\u001b[38;5;241m0\u001b[39m, \u001b[38;5;241m1\u001b[39m, \u001b[38;5;241m2\u001b[39m}:\n\u001b[0;32m    318\u001b[0m     \u001b[38;5;28;01mraise\u001b[39;00m \u001b[38;5;167;01mValueError\u001b[39;00m(\n\u001b[0;32m    319\u001b[0m         \u001b[38;5;124mf\u001b[39m\u001b[38;5;124m\"\u001b[39m\u001b[38;5;124mIPython won\u001b[39m\u001b[38;5;124m'\u001b[39m\u001b[38;5;124mt let you open fd=\u001b[39m\u001b[38;5;132;01m{\u001b[39;00mfile\u001b[38;5;132;01m}\u001b[39;00m\u001b[38;5;124m by default \u001b[39m\u001b[38;5;124m\"\u001b[39m\n\u001b[0;32m    320\u001b[0m         \u001b[38;5;124m\"\u001b[39m\u001b[38;5;124mas it is likely to crash IPython. If you know what you are doing, \u001b[39m\u001b[38;5;124m\"\u001b[39m\n\u001b[0;32m    321\u001b[0m         \u001b[38;5;124m\"\u001b[39m\u001b[38;5;124myou can use builtins\u001b[39m\u001b[38;5;124m'\u001b[39m\u001b[38;5;124m open.\u001b[39m\u001b[38;5;124m\"\u001b[39m\n\u001b[0;32m    322\u001b[0m     )\n\u001b[1;32m--> 324\u001b[0m \u001b[38;5;28;01mreturn\u001b[39;00m \u001b[43mio_open\u001b[49m\u001b[43m(\u001b[49m\u001b[43mfile\u001b[49m\u001b[43m,\u001b[49m\u001b[43m \u001b[49m\u001b[38;5;241;43m*\u001b[39;49m\u001b[43margs\u001b[49m\u001b[43m,\u001b[49m\u001b[43m \u001b[49m\u001b[38;5;241;43m*\u001b[39;49m\u001b[38;5;241;43m*\u001b[39;49m\u001b[43mkwargs\u001b[49m\u001b[43m)\u001b[49m\n",
      "\u001b[1;31mFileNotFoundError\u001b[0m: [Errno 2] No such file or directory: 'kashif.txt'"
     ]
    }
   ],
   "source": [
    "f=open(\"kashif.txt\",\"r\")\n",
    "print(f.readline())"
   ]
  },
  {
   "cell_type": "code",
   "execution_count": 8,
   "id": "d9c20d92",
   "metadata": {},
   "outputs": [
    {
     "name": "stdout",
     "output_type": "stream",
     "text": [
      "{\n",
      " \"cells\": [\n",
      "  {\n",
      "   \"cell_type\": \"code\",\n",
      "   \"execution_count\": 2,\n",
      "   \"id\": \"59c4a99e\",\n",
      "   \"metadata\": {},\n",
      "   \"outputs\": [\n",
      "    {\n",
      "     \"name\": \"stdout\",\n",
      "     \"output_type\": \"stream\",\n",
      "     \"text\": [\n",
      "      \"a=10 b= 11 c=30\\n\"\n",
      "     ]\n",
      "    }\n",
      "   ],\n",
      "   \"source\": [\n",
      "    \"def myfunc(a,b,c):\\n\",\n",
      "    \"    print(f\\\"a={a} b= {b} c={c}\\\")\\n\",\n",
      "    \"myfunc(a=10,c=30,b=11)\"\n",
      "   ]\n",
      "  },\n",
      "  {\n",
      "   \"cell_type\": \"markdown\",\n",
      "   \"id\": \"a73ec059\",\n",
      "   \"metadata\": {},\n",
      "   \"source\": [\n",
      "    \"opp concept in python\\n\"\n",
      "   ]\n",
      "  },\n",
      "  {\n",
      "   \"cell_type\": \"code\",\n",
      "   \"execution_count\": null,\n",
      "   \"id\": \"c9f57ede\",\n",
      "   \"metadata\": {},\n",
      "   \"outputs\": [],\n",
      "   \"source\": []\n",
      "  }\n",
      " ],\n",
      " \"metadata\": {\n",
      "  \"kernelspec\": {\n",
      "   \"display_name\": \"Python 3\",\n",
      "   \"language\": \"python\",\n",
      "   \"name\": \"python3\"\n",
      "  },\n",
      "  \"language_info\": {\n",
      "   \"codemirror_mode\": {\n",
      "    \"name\": \"ipython\",\n",
      "    \"version\": 3\n",
      "   },\n",
      "   \"file_extension\": \".py\",\n",
      "   \"mimetype\": \"text/x-python\",\n",
      "   \"name\": \"python\",\n",
      "   \"nbconvert_exporter\": \"python\",\n",
      "   \"pygments_lexer\": \"ipython3\",\n",
      "   \"version\": \"3.13.0\"\n",
      "  }\n",
      " },\n",
      " \"nbformat\": 4,\n",
      " \"nbformat_minor\": 5\n",
      "}\n",
      "\n"
     ]
    }
   ],
   "source": [
    "f=open(\"python3.ipynb\",\"r\")\n",
    "print(f.read())"
   ]
  },
  {
   "cell_type": "code",
   "execution_count": 9,
   "id": "f8ff3969",
   "metadata": {},
   "outputs": [
    {
     "name": "stdout",
     "output_type": "stream",
     "text": [
      " \"cells\": [\n",
      "  {\n",
      "   \"cell_type\": \"code\",\n",
      "   \"execution_count\": 2,\n",
      "   \"id\": \"59c4a99e\",\n",
      "   \"metadata\": {},\n",
      "   \"outputs\": [\n",
      "    {\n",
      "     \"name\": \"stdout\",\n",
      "     \"output_type\": \"stream\",\n",
      "     \"text\": [\n",
      "      \"a=10 b= 11 c=30\\n\"\n",
      "     ]\n",
      "    }\n",
      "   ],\n",
      "   \"source\": [\n",
      "    \"def myfunc(a,b,c):\\n\",\n",
      "    \"    print(f\\\"a={a} b= {b} c={c}\\\")\\n\",\n",
      "    \"myfunc(a=10,c=30,b=11)\"\n",
      "   ]\n",
      "  },\n",
      "  {\n",
      "   \"cell_type\": \"markdown\",\n",
      "   \"id\": \"a73ec059\",\n",
      "   \"metadata\": {},\n",
      "   \"source\": [\n",
      "    \"opp concept in python\\n\"\n",
      "   ]\n",
      "  },\n",
      "  {\n",
      "   \"cell_type\": \"code\",\n",
      "   \"execution_count\": null,\n",
      "   \"id\": \"c9f57ede\",\n",
      "   \"metadata\": {},\n",
      "   \"outputs\": [],\n",
      "   \"source\": []\n",
      "  }\n",
      " ],\n",
      " \"metadata\": {\n",
      "  \"kernelspec\": {\n",
      "   \"display_name\": \"Python 3\",\n",
      "   \"language\": \"python\",\n",
      "   \"name\": \"python3\"\n",
      "  },\n",
      "  \"language_info\": {\n",
      "   \"codemirror_mode\": {\n",
      "    \"name\": \"ipython\",\n",
      "    \"version\": 3\n",
      "   },\n",
      "   \"file_extension\": \".py\",\n",
      "   \"mimetype\": \"text/x-python\",\n",
      "   \"name\": \"python\",\n",
      "   \"nbconvert_exporter\": \"python\",\n",
      "   \"pygments_lexer\": \"ipython3\",\n",
      "   \"version\": \"3.13.0\"\n",
      "  }\n",
      " },\n",
      " \"nbformat\": 4,\n",
      " \"nbformat_minor\": 5\n",
      "}\n",
      "\n"
     ]
    }
   ],
   "source": [
    "f=open(\"python3.ipynb\",\"r\")\n",
    "for i in f:\n",
    "   print(f.read())"
   ]
  },
  {
   "cell_type": "code",
   "execution_count": 11,
   "id": "936f3b4c",
   "metadata": {},
   "outputs": [
    {
     "name": "stdout",
     "output_type": "stream",
     "text": [
      "file crete succefully\n"
     ]
    }
   ],
   "source": [
    "f=open(\"kashif.txt\",\"w\")\n",
    "f.write(\"this file if kashif\")\n",
    "print(\"file crete succefully\")"
   ]
  },
  {
   "cell_type": "code",
   "execution_count": 13,
   "id": "b337a671",
   "metadata": {},
   "outputs": [
    {
     "name": "stdout",
     "output_type": "stream",
     "text": [
      "file crete succefully\n"
     ]
    }
   ],
   "source": [
    "f=open(\"kashiff.txt\",\"w\")\n",
    "f.write(\"this file if kashif\")\n",
    "print(\"file crete succefully\")"
   ]
  },
  {
   "cell_type": "code",
   "execution_count": 14,
   "id": "88f7d8d6",
   "metadata": {},
   "outputs": [
    {
     "name": "stdout",
     "output_type": "stream",
     "text": [
      "file creation system\n",
      "file crete succefully\n"
     ]
    }
   ],
   "source": [
    "print(\"file creation system\")\n",
    "fnm=input(\"enter the file name\")\n",
    "fdata=input(\"enter the file data\")\n",
    "f=open(fnm,\"w\")\n",
    "f.write(\"ewnowenlewfnldmlke jejnewlfjf eknel\")\n",
    "print(\"file crete succefully\")"
   ]
  },
  {
   "cell_type": "markdown",
   "id": "4ab60552",
   "metadata": {},
   "source": [
    "python pip\n",
    "what is python pip:- pip = python istaller packeges.\n",
    "pge :_ a page contain all the file you need dor a module \n",
    "in python are code libraries.\n",
    "\n",
    "pip --version\n"
   ]
  },
  {
   "cell_type": "code",
   "execution_count": 2,
   "id": "b25a86b7",
   "metadata": {},
   "outputs": [
    {
     "ename": "ModuleNotFoundError",
     "evalue": "No module named 'camelcase'",
     "output_type": "error",
     "traceback": [
      "\u001b[1;31m---------------------------------------------------------------------------\u001b[0m",
      "\u001b[1;31mModuleNotFoundError\u001b[0m                       Traceback (most recent call last)",
      "Cell \u001b[1;32mIn[2], line 1\u001b[0m\n\u001b[1;32m----> 1\u001b[0m \u001b[38;5;28;01mimport\u001b[39;00m \u001b[38;5;21;01mcamelcase\u001b[39;00m\n\u001b[0;32m      2\u001b[0m c\u001b[38;5;241m=\u001b[39mcamelcase\u001b[38;5;241m.\u001b[39mCamelCase()\n\u001b[0;32m      3\u001b[0m txt\u001b[38;5;241m=\u001b[39m\u001b[38;5;124m\"\u001b[39m\u001b[38;5;124mhy railway\u001b[39m\u001b[38;5;124m\"\u001b[39m\n",
      "\u001b[1;31mModuleNotFoundError\u001b[0m: No module named 'camelcase'"
     ]
    }
   ],
   "source": [
    "import camelcase\n",
    "c=camelcase.CamelCase()\n",
    "txt=\"hy railway\"\n",
    "msg=c.hump(txt)\n",
    "print(msg)"
   ]
  },
  {
   "cell_type": "markdown",
   "id": "64fef523",
   "metadata": {},
   "source": [
    "python string formatting"
   ]
  },
  {
   "cell_type": "code",
   "execution_count": 7,
   "id": "4d9a217b",
   "metadata": {},
   "outputs": [
    {
     "name": "stdout",
     "output_type": "stream",
     "text": [
      "helle i am 22 year old my name is asis my city is bhopal and i am pyhon stu\n"
     ]
    }
   ],
   "source": [
    "age=22\n",
    "name=\"asis\"\n",
    "city=\"bhopal\"\n",
    "myclass=\"pyhon\"\n",
    "msg=\"helle i am {0} year old my name is {1} my city is {2} and i am {3} stu\"\n",
    "mydata=msg.format(age,name,city,myclass)\n",
    "print(mydata)"
   ]
  },
  {
   "cell_type": "markdown",
   "id": "004c3659",
   "metadata": {},
   "source": [
    "module in python\n",
    "python as set of bilt in math function includeing \n",
    "to performed mathametical task  on numbers the bilt in math function \n",
    "1 min\n",
    "max \n",
    "min mathod can be use find lowest and highest value in an itrable.\n"
   ]
  },
  {
   "cell_type": "code",
   "execution_count": 1,
   "id": "72babfb0",
   "metadata": {},
   "outputs": [
    {
     "name": "stdout",
     "output_type": "stream",
     "text": [
      "15\n",
      "21\n",
      "320000\n",
      "20000\n"
     ]
    }
   ],
   "source": [
    "x=max(5,10,15)\n",
    "print(x)\n",
    "y=min(23,789,43,21)\n",
    "print(y)\n",
    "\n",
    "salary=[320000,30000,31500,25000,20000]\n",
    "maxsalry=max(salary)\n",
    "print(maxsalry)\n",
    "print(min(salary))"
   ]
  },
  {
   "cell_type": "code",
   "execution_count": 4,
   "id": "86663fd2",
   "metadata": {},
   "outputs": [
    {
     "name": "stdout",
     "output_type": "stream",
     "text": [
      "23.2\n"
     ]
    }
   ],
   "source": [
    "myo=abs(-23.20)\n",
    "print(myo)"
   ]
  },
  {
   "cell_type": "code",
   "execution_count": 5,
   "id": "5f28a4d5",
   "metadata": {},
   "outputs": [
    {
     "name": "stdout",
     "output_type": "stream",
     "text": [
      "125\n",
      "45\n"
     ]
    }
   ],
   "source": [
    "myno=pow(5,3)\n",
    "print(myno)\n",
    "x=round(45.41)\n",
    "print(x)"
   ]
  },
  {
   "cell_type": "markdown",
   "id": "9d022f3f",
   "metadata": {},
   "source": [
    "python me math bhi banahua module jise ham use kar sakte h"
   ]
  },
  {
   "cell_type": "code",
   "execution_count": 11,
   "id": "63ff4048",
   "metadata": {},
   "outputs": [
    {
     "name": "stdout",
     "output_type": "stream",
     "text": [
      "3.4641016151377544\n",
      "6\n",
      "5\n",
      "3.141592653589793\n",
      "720\n",
      "6\n"
     ]
    }
   ],
   "source": [
    "import math\n",
    "myno=math.sqrt(12)\n",
    "print(myno)\n",
    "y=math.ceil(5.00000001)\n",
    "print(y)\n",
    "z=math.floor(5.00000001)\n",
    "print(z)\n",
    "x=math.pi\n",
    "print(x)\n",
    "w=math.factorial(6)\n",
    "print(w)\n",
    "v=math.cos(30)\n",
    "print(y)"
   ]
  },
  {
   "cell_type": "markdown",
   "id": "4c7848c1",
   "metadata": {},
   "source": [
    "imp\n",
    "1. IN A EVEN LIST SWAP THE FIRST AND LAST ELEMENT IN A GIVEN LIST [23,45,67,89,88,54]"
   ]
  },
  {
   "cell_type": "code",
   "execution_count": null,
   "id": "52a4732d",
   "metadata": {},
   "outputs": [
    {
     "name": "stdout",
     "output_type": "stream",
     "text": [
      "[54, 45, 67, 89, 88, 23]\n"
     ]
    }
   ],
   "source": [
    "a=[23,45,67,89,88,54]\n",
    "x=a[-1]\n",
    "z=a[0]\n",
    "a[0]=x\n",
    "a[-1]=z\n",
    "print(a)\n",
    "\n"
   ]
  },
  {
   "cell_type": "markdown",
   "id": "52d3c992",
   "metadata": {},
   "source": []
  }
 ],
 "metadata": {
  "kernelspec": {
   "display_name": "Python 3",
   "language": "python",
   "name": "python3"
  },
  "language_info": {
   "codemirror_mode": {
    "name": "ipython",
    "version": 3
   },
   "file_extension": ".py",
   "mimetype": "text/x-python",
   "name": "python",
   "nbconvert_exporter": "python",
   "pygments_lexer": "ipython3",
   "version": "3.13.0"
  }
 },
 "nbformat": 4,
 "nbformat_minor": 5
}
