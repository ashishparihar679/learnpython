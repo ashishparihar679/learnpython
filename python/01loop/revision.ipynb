{
 "cells": [
  {
   "cell_type": "code",
   "execution_count": 3,
   "metadata": {},
   "outputs": [
    {
     "name": "stdout",
     "output_type": "stream",
     "text": [
      "FACTORIAL 24\n",
      "SUM 10\n"
     ]
    }
   ],
   "source": [
    "# WRITE APROGRAM TO FIND A FACTORIAL NUMBER OF A NUMBER INPUT TAKING FROM THE USER\n",
    "\n",
    "ans = 1\n",
    "sum = 0\n",
    "num = int (input(\"enter number :- \"))\n",
    "i =1\n",
    "while(i<=num):\n",
    "    ans = ans *i\n",
    "    sum = sum +i\n",
    "    i = i+1\n",
    "print(f\"FACTORIAL {ans}\")\n",
    "print(f\"SUM {sum}\")\n"
   ]
  },
  {
   "cell_type": "code",
   "execution_count": 4,
   "id": "9539b2bc",
   "metadata": {},
   "outputs": [
    {
     "name": "stdout",
     "output_type": "stream",
     "text": [
      "451\n",
      "10\n"
     ]
    }
   ],
   "source": [
    "\n",
    "# wap to revese a number taken from user\n",
    "n = int(input(\"enter number\"))\n",
    "rev = 0\n",
    "sum =0\n",
    "while(n>0):\n",
    "    r = n%10\n",
    "    rev = rev*10+r\n",
    "    sum = sum + r\n",
    "    n = n//10\n",
    "print(rev)\n",
    "print(sum)"
   ]
  },
  {
   "cell_type": "code",
   "execution_count": 2,
   "id": "e5744fb3",
   "metadata": {},
   "outputs": [
    {
     "name": "stdout",
     "output_type": "stream",
     "text": [
      "prime \n"
     ]
    }
   ],
   "source": [
    "# wap to check prime number or not\n",
    "\n",
    "n = int(input(\"enter number\"))\n",
    "i=1\n",
    "while(n>0):\n",
    "    if(n%i==0 and n%n==0):\n",
    "        print(\"prime \")\n",
    "        break\n",
    "    else:\n",
    "        print(\" not prime \")\n",
    "    i=i+1"
   ]
  },
  {
   "cell_type": "code",
   "execution_count": 1,
   "id": "c64010f8",
   "metadata": {},
   "outputs": [
    {
     "name": "stdout",
     "output_type": "stream",
     "text": [
      "NOT PRIME\n"
     ]
    }
   ],
   "source": [
    "while(True):\n",
    "    ch=int(input(\"\\n\\nENTER YOUR CHOICE :- \\nENTER 1 FOR PRIME NUMBER \\nENTER 2 FOR TABLE OF A NUMBER \\nENTER 3 FOR BREAK \\nENTER 4 FOR ARMSTRAM \\nENTER 5 FOR PALINDROM \\n :- \"))\n",
    "    if(ch==1):\n",
    "        n = int(input(\"ENTER THE NUMBER :- \"))\n",
    "        i=1\n",
    "        cnt =0\n",
    "        while(i<=n):\n",
    "            if(n%i==0):\n",
    "                cnt += 1\n",
    "            i+=1\n",
    "        if(cnt==2): \n",
    "           print(\"PRIME\")\n",
    "        else:\n",
    "           print(\"NOT PRIME\")\n",
    "    elif(ch==2):\n",
    "        n = int(input(\"ENTER THE NUMBER :- \"))\n",
    "        i=1\n",
    "        while(i<=10):\n",
    "            print(n,\" * \",i,\" = \",n*i)\n",
    "            i+=1\n",
    "    elif(ch==3):\n",
    "        # n = int(input(\"ENTER THE NUMBER :- \"))\n",
    "        # i=1\n",
    "        # a=-1\n",
    "        # b=1\n",
    "        break\n",
    "    elif(ch==4):\n",
    "        n = int(input(\"ENTER THE NUMBER :- \"))\n",
    "        p=len(str(n))\n",
    "        summ=0\n",
    "        temp=n\n",
    "        while(n>0):\n",
    "            r=n%10\n",
    "            summ= summ +r**p\n",
    "            n=n//10\n",
    "        if(summ == temp):\n",
    "            print(\"ARMSTRAM\")\n",
    "        else:\n",
    "            print(\"NOT ARMSTRAM\")\n",
    "    elif(ch==5):\n",
    "        n = int(input(\"ENTER THE NUMBER :- \"))\n",
    "        rev = 0\n",
    "        temp = n\n",
    "        while(n>0):\n",
    "            r = n%10\n",
    "            rev = rev*10 + r\n",
    "            n = n // 10\n",
    "        print(rev)\n",
    "        if(temp==rev):\n",
    "            print(\"NUMBER IS PALINDROME\")\n",
    "        else:\n",
    "            print(\"NUMBER IS NOT PALINDROME\")\n",
    "    elif(ch==6):\n",
    "        n = int(input(\"ENTER THE NUMBER :- \"))\n",
    "        a=0\n",
    "        b=1\n",
    "        i=0\n",
    "        while(i<n):\n",
    "            print(a ,end=\" \")\n",
    "            i +=1\n",
    "            c=a+b\n",
    "            a = b\n",
    "            b = c\n",
    "        \n",
    "\n",
    "    else:\n",
    "        print(\"YOUR ENTER WROUNGH INPUT\")\n",
    "        \n",
    "\n",
    "        "
   ]
  }
 ],
 "metadata": {
  "kernelspec": {
   "display_name": "Python 3",
   "language": "python",
   "name": "python3"
  },
  "language_info": {
   "codemirror_mode": {
    "name": "ipython",
    "version": 3
   },
   "file_extension": ".py",
   "mimetype": "text/x-python",
   "name": "python",
   "nbconvert_exporter": "python",
   "pygments_lexer": "ipython3",
   "version": "3.13.0"
  }
 },
 "nbformat": 4,
 "nbformat_minor": 5
}
